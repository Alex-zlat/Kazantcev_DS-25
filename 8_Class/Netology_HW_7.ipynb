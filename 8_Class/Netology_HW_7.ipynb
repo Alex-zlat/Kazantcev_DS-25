{
 "cells": [
  {
   "cell_type": "code",
   "execution_count": 6,
   "metadata": {},
   "outputs": [
    {
     "name": "stdout",
     "output_type": "stream",
     "text": [
      "('СДР (специальные права заимствования)', 106.03)\n"
     ]
    }
   ],
   "source": [
    "\"\"\"Задание 1\n",
    "Напишите функцию, которая возвращает название валюты (поле ‘Name’) \n",
    "с максимальным значением курса \n",
    "с помощью сервиса https://www.cbr-xml-daily.ru/daily_json.js\"\"\"\n",
    "\n",
    "import requests \n",
    "def name_currency():\n",
    "    full_data= requests.get('https://www.cbr-xml-daily.ru/daily_json.js').json()\n",
    "    my_dict = full_data['Valute']                                # выбираем из словаря нужную структуру данных (словарь)\n",
    "    d={}                                                         # определяем пустой список: затем его заполним нужными значениями\n",
    "    for i, k in my_dict.items():                                 # идем циклом по ключам и значениям словаря \n",
    "        new = {k['Name']:round(k['Value']/k['Nominal'], 2)}      # определяем словарь с ключами \"Именование\" и значениями \"курс/номинал\"\n",
    "        d.update(new)                                            # заполняем новый словарь\n",
    "    analysys_list = list(d.items())                              # преобразуем в список\n",
    "    sort_list=sorted(analysys_list, key=lambda kurs: kurs[1])    # сортируем список по второму значению (курс/номинал)\n",
    "    max_value = max(sort_list, key=lambda vi: vi[1])             # выбираем максимальное значение в кортежах по второму элементу \n",
    "    print(max_value)\n",
    "\n",
    "    \n",
    "name_currency()"
   ]
  },
  {
   "cell_type": "code",
   "execution_count": 33,
   "metadata": {},
   "outputs": [
    {
     "data": {
      "text/plain": [
       "0.39"
      ]
     },
     "execution_count": 33,
     "metadata": {},
     "output_type": "execute_result"
    }
   ],
   "source": [
    "\"\"\"Задание 2\n",
    "Добавьте в класс Rate параметр diff (со значениями True или False), \n",
    "который в случае значения True в методах курсов валют (eur, usd итд) \n",
    "будет возвращать не курс валюты, а изменение по сравнению в прошлым значением. Считайте, self.diff будет \n",
    "принимать значение True только при возврате значения курса. \n",
    "При отображении всей информации о валюте он не используется\"\"\"\n",
    "\n",
    "import requests \n",
    "class Rate:\n",
    "    def __init__(self, diff=True, format_='value'):\n",
    "        self.format = format_\n",
    "        self.diff = diff\n",
    "    def exchange_rates(self):\n",
    "        self.r = requests.get('https://www.cbr-xml-daily.ru/daily_json.js')\n",
    "        return self.r.json() ['Valute']\n",
    "    def make_format (self, currency):\n",
    "        response = self.exchange_rates()\n",
    "        if currency in response:\n",
    "            \n",
    "            # Если определяется значение параметра 'full', то публикуется полная информация о валюте\n",
    "            if self.format == 'full':                             \n",
    "                return response[currency]\n",
    "            # если определяется значение параметра 'value', то возможна вилка вариантов\n",
    "            if self.format == 'value':\n",
    "                # если будет задано значение параметра diff как True, то программа даст разницу значений валюты за 2 дня \n",
    "                if self.diff:\n",
    "                    difference = round((response[currency].get('Previous')-response[currency].get('Value')), 2)\n",
    "                    return difference  \n",
    "                # сли будет задано значение параметра diff как False, то на выкран будет выведено значение курса на сегодня\n",
    "                else:\n",
    "                    return response[currency]['Value']\n",
    "        return 'Error'\n",
    "   \n",
    "    def eur (self):\n",
    "        return self.make_format('EUR')\n",
    "    def usd(self):\n",
    "        return self.make_format('USD')\n",
    "    def brl(self):\n",
    "        return self.make_format('BRL')\n",
    "    \n",
    "dibi = Rate(format_= 'value', diff=True)\n",
    "dibi.eur()\n"
   ]
  },
  {
   "cell_type": "code",
   "execution_count": 2,
   "metadata": {},
   "outputs": [
    {
     "name": "stdout",
     "output_type": "stream",
     "text": [
      "Елена 1\n",
      "Елена 1\n",
      "Елена 1\n",
      "Елена 1\n",
      "Елена 1\n",
      "Елена 1\n",
      "Елена 2\n",
      "Елена 2\n",
      "Елена 2\n",
      "Елена 2\n",
      "Елена 2\n",
      "Елена 2\n",
      "Елена 2\n",
      "Елена 3\n",
      "Елена 3\n",
      "Елена 3\n",
      "Елена 3\n",
      "Елена 3\n",
      "Елена 3\n",
      "Елена 3\n"
     ]
    }
   ],
   "source": [
    "\"\"\"Задание 3\n",
    "Напишите класс Designer, который учитывает количество международных премий. \n",
    "Повышение на 1 грейд за каждые 7 баллов. \n",
    "Получение международной премии – это +2 балла\"\"\"\n",
    "\n",
    "class Employee:\n",
    "    def __init__(self, name, seniority):\n",
    "        self.name = name\n",
    "        self.seniority = seniority\n",
    "        self.grade = 1\n",
    "    def grade_up(self):\n",
    "        self.grade+=1\n",
    "    def publish_grade(self):\n",
    "        print(self.name, self.grade)\n",
    "    def check_if_it_is_time_for_upgrade(self):\n",
    "        pass\n",
    "\n",
    "class Designer(Employee):\n",
    "    def __init__(self, name, seniority, awards):\n",
    "        super().__init__(name, seniority)\n",
    "        self.awards=2\n",
    "    def check_if_it_is_time_for_upgrade(self):\n",
    "        self.seniority+=2\n",
    "        if self.seniority % 7 == 0:\n",
    "            self.grade_up()\n",
    "        return self.publish_grade()\n",
    "\n",
    "elena = Designer('Елена', seniority=0, awards=2)\n",
    "for i in range(20):\n",
    "    elena.check_if_it_is_time_for_upgrade()\n"
   ]
  }
 ],
 "metadata": {
  "kernelspec": {
   "display_name": "Python 3",
   "language": "python",
   "name": "python3"
  },
  "language_info": {
   "codemirror_mode": {
    "name": "ipython",
    "version": 3
   },
   "file_extension": ".py",
   "mimetype": "text/x-python",
   "name": "python",
   "nbconvert_exporter": "python",
   "pygments_lexer": "ipython3",
   "version": "3.7.6"
  }
 },
 "nbformat": 4,
 "nbformat_minor": 4
}
