{
 "cells": [
  {
   "cell_type": "code",
   "execution_count": 1,
   "metadata": {},
   "outputs": [
    {
     "data": {
      "text/html": [
       "<div>\n",
       "<style scoped>\n",
       "    .dataframe tbody tr th:only-of-type {\n",
       "        vertical-align: middle;\n",
       "    }\n",
       "\n",
       "    .dataframe tbody tr th {\n",
       "        vertical-align: top;\n",
       "    }\n",
       "\n",
       "    .dataframe thead th {\n",
       "        text-align: right;\n",
       "    }\n",
       "</style>\n",
       "<table border=\"1\" class=\"dataframe\">\n",
       "  <thead>\n",
       "    <tr style=\"text-align: right;\">\n",
       "      <th></th>\n",
       "      <th>satisfaction_level</th>\n",
       "      <th>last_evaluation</th>\n",
       "      <th>number_project</th>\n",
       "      <th>average_montly_hours</th>\n",
       "      <th>time_spend_company</th>\n",
       "      <th>Work_accident</th>\n",
       "      <th>left</th>\n",
       "      <th>promotion_last_5years</th>\n",
       "      <th>department</th>\n",
       "      <th>salary</th>\n",
       "    </tr>\n",
       "  </thead>\n",
       "  <tbody>\n",
       "    <tr>\n",
       "      <th>0</th>\n",
       "      <td>0.38</td>\n",
       "      <td>0.53</td>\n",
       "      <td>2</td>\n",
       "      <td>157</td>\n",
       "      <td>3</td>\n",
       "      <td>0</td>\n",
       "      <td>1</td>\n",
       "      <td>0</td>\n",
       "      <td>sales</td>\n",
       "      <td>low</td>\n",
       "    </tr>\n",
       "    <tr>\n",
       "      <th>1</th>\n",
       "      <td>0.80</td>\n",
       "      <td>0.86</td>\n",
       "      <td>5</td>\n",
       "      <td>262</td>\n",
       "      <td>6</td>\n",
       "      <td>0</td>\n",
       "      <td>1</td>\n",
       "      <td>0</td>\n",
       "      <td>sales</td>\n",
       "      <td>medium</td>\n",
       "    </tr>\n",
       "    <tr>\n",
       "      <th>2</th>\n",
       "      <td>0.11</td>\n",
       "      <td>0.88</td>\n",
       "      <td>7</td>\n",
       "      <td>272</td>\n",
       "      <td>4</td>\n",
       "      <td>0</td>\n",
       "      <td>1</td>\n",
       "      <td>0</td>\n",
       "      <td>sales</td>\n",
       "      <td>medium</td>\n",
       "    </tr>\n",
       "    <tr>\n",
       "      <th>3</th>\n",
       "      <td>0.72</td>\n",
       "      <td>0.87</td>\n",
       "      <td>5</td>\n",
       "      <td>223</td>\n",
       "      <td>5</td>\n",
       "      <td>0</td>\n",
       "      <td>1</td>\n",
       "      <td>0</td>\n",
       "      <td>sales</td>\n",
       "      <td>low</td>\n",
       "    </tr>\n",
       "    <tr>\n",
       "      <th>4</th>\n",
       "      <td>0.37</td>\n",
       "      <td>0.52</td>\n",
       "      <td>2</td>\n",
       "      <td>159</td>\n",
       "      <td>3</td>\n",
       "      <td>0</td>\n",
       "      <td>1</td>\n",
       "      <td>0</td>\n",
       "      <td>sales</td>\n",
       "      <td>low</td>\n",
       "    </tr>\n",
       "  </tbody>\n",
       "</table>\n",
       "</div>"
      ],
      "text/plain": [
       "   satisfaction_level  last_evaluation  number_project  average_montly_hours  \\\n",
       "0                0.38             0.53               2                   157   \n",
       "1                0.80             0.86               5                   262   \n",
       "2                0.11             0.88               7                   272   \n",
       "3                0.72             0.87               5                   223   \n",
       "4                0.37             0.52               2                   159   \n",
       "\n",
       "   time_spend_company  Work_accident  left  promotion_last_5years department  \\\n",
       "0                   3              0     1                      0      sales   \n",
       "1                   6              0     1                      0      sales   \n",
       "2                   4              0     1                      0      sales   \n",
       "3                   5              0     1                      0      sales   \n",
       "4                   3              0     1                      0      sales   \n",
       "\n",
       "   salary  \n",
       "0     low  \n",
       "1  medium  \n",
       "2  medium  \n",
       "3     low  \n",
       "4     low  "
      ]
     },
     "execution_count": 1,
     "metadata": {},
     "output_type": "execute_result"
    }
   ],
   "source": [
    "\"\"\"Задание 1.\n",
    "Загрузите файл HR.csv в pandas dataframe\n",
    "\n",
    "1.satisfaction_level - Уровень удовлетворенности работой\n",
    "2.Last_evaluation - Время с момента последней оценки в годах\n",
    "3.number_projects - Количество проектов, выполненных за время работы\n",
    "4.average_monthly_hours - Среднее количество часов на рабочем месте в месяц\n",
    "5.time_spend_company - Стаж работы в компании в годах\n",
    "6.work_accident - Происходили ли несчастные случаи на рабочем месте с сотрудником\n",
    "7.left - уволился ли сотрудник\n",
    "8.promotion_last_5years - повышался ли сотрудник за последние пять лет\n",
    "9.department - отдел в котором работает сотрудник\n",
    "10.salary - относительный уровень зарплаты\n",
    "\"\"\"\n",
    "\n",
    "# import sklearn \n",
    "import pandas as pd\n",
    "import numpy as np\n",
    "import matplotlib.pyplot as plt\n",
    "from matplotlib import colors \n",
    "import seaborn as sns\n",
    "\n",
    "hr_df = pd.read_csv('HR.csv')\n",
    "hr_df.head()"
   ]
  },
  {
   "cell_type": "code",
   "execution_count": 2,
   "metadata": {},
   "outputs": [
    {
     "data": {
      "text/html": [
       "<div>\n",
       "<style scoped>\n",
       "    .dataframe tbody tr th:only-of-type {\n",
       "        vertical-align: middle;\n",
       "    }\n",
       "\n",
       "    .dataframe tbody tr th {\n",
       "        vertical-align: top;\n",
       "    }\n",
       "\n",
       "    .dataframe thead th {\n",
       "        text-align: right;\n",
       "    }\n",
       "</style>\n",
       "<table border=\"1\" class=\"dataframe\">\n",
       "  <thead>\n",
       "    <tr style=\"text-align: right;\">\n",
       "      <th></th>\n",
       "      <th>satisfaction_level</th>\n",
       "      <th>last_evaluation</th>\n",
       "      <th>number_project</th>\n",
       "      <th>average_montly_hours</th>\n",
       "      <th>time_spend_company</th>\n",
       "      <th>Work_accident</th>\n",
       "      <th>left</th>\n",
       "      <th>promotion_last_5years</th>\n",
       "    </tr>\n",
       "  </thead>\n",
       "  <tbody>\n",
       "    <tr>\n",
       "      <th>count</th>\n",
       "      <td>14999.000000</td>\n",
       "      <td>14999.000000</td>\n",
       "      <td>14999.000000</td>\n",
       "      <td>14999.000000</td>\n",
       "      <td>14999.000000</td>\n",
       "      <td>14999.000000</td>\n",
       "      <td>14999.000000</td>\n",
       "      <td>14999.000000</td>\n",
       "    </tr>\n",
       "    <tr>\n",
       "      <th>mean</th>\n",
       "      <td>0.612834</td>\n",
       "      <td>0.716102</td>\n",
       "      <td>3.803054</td>\n",
       "      <td>201.050337</td>\n",
       "      <td>3.498233</td>\n",
       "      <td>0.144610</td>\n",
       "      <td>0.238083</td>\n",
       "      <td>0.021268</td>\n",
       "    </tr>\n",
       "    <tr>\n",
       "      <th>std</th>\n",
       "      <td>0.248631</td>\n",
       "      <td>0.171169</td>\n",
       "      <td>1.232592</td>\n",
       "      <td>49.943099</td>\n",
       "      <td>1.460136</td>\n",
       "      <td>0.351719</td>\n",
       "      <td>0.425924</td>\n",
       "      <td>0.144281</td>\n",
       "    </tr>\n",
       "    <tr>\n",
       "      <th>min</th>\n",
       "      <td>0.090000</td>\n",
       "      <td>0.360000</td>\n",
       "      <td>2.000000</td>\n",
       "      <td>96.000000</td>\n",
       "      <td>2.000000</td>\n",
       "      <td>0.000000</td>\n",
       "      <td>0.000000</td>\n",
       "      <td>0.000000</td>\n",
       "    </tr>\n",
       "    <tr>\n",
       "      <th>25%</th>\n",
       "      <td>0.440000</td>\n",
       "      <td>0.560000</td>\n",
       "      <td>3.000000</td>\n",
       "      <td>156.000000</td>\n",
       "      <td>3.000000</td>\n",
       "      <td>0.000000</td>\n",
       "      <td>0.000000</td>\n",
       "      <td>0.000000</td>\n",
       "    </tr>\n",
       "    <tr>\n",
       "      <th>50%</th>\n",
       "      <td>0.640000</td>\n",
       "      <td>0.720000</td>\n",
       "      <td>4.000000</td>\n",
       "      <td>200.000000</td>\n",
       "      <td>3.000000</td>\n",
       "      <td>0.000000</td>\n",
       "      <td>0.000000</td>\n",
       "      <td>0.000000</td>\n",
       "    </tr>\n",
       "    <tr>\n",
       "      <th>75%</th>\n",
       "      <td>0.820000</td>\n",
       "      <td>0.870000</td>\n",
       "      <td>5.000000</td>\n",
       "      <td>245.000000</td>\n",
       "      <td>4.000000</td>\n",
       "      <td>0.000000</td>\n",
       "      <td>0.000000</td>\n",
       "      <td>0.000000</td>\n",
       "    </tr>\n",
       "    <tr>\n",
       "      <th>max</th>\n",
       "      <td>1.000000</td>\n",
       "      <td>1.000000</td>\n",
       "      <td>7.000000</td>\n",
       "      <td>310.000000</td>\n",
       "      <td>10.000000</td>\n",
       "      <td>1.000000</td>\n",
       "      <td>1.000000</td>\n",
       "      <td>1.000000</td>\n",
       "    </tr>\n",
       "  </tbody>\n",
       "</table>\n",
       "</div>"
      ],
      "text/plain": [
       "       satisfaction_level  last_evaluation  number_project  \\\n",
       "count        14999.000000     14999.000000    14999.000000   \n",
       "mean             0.612834         0.716102        3.803054   \n",
       "std              0.248631         0.171169        1.232592   \n",
       "min              0.090000         0.360000        2.000000   \n",
       "25%              0.440000         0.560000        3.000000   \n",
       "50%              0.640000         0.720000        4.000000   \n",
       "75%              0.820000         0.870000        5.000000   \n",
       "max              1.000000         1.000000        7.000000   \n",
       "\n",
       "       average_montly_hours  time_spend_company  Work_accident          left  \\\n",
       "count          14999.000000        14999.000000   14999.000000  14999.000000   \n",
       "mean             201.050337            3.498233       0.144610      0.238083   \n",
       "std               49.943099            1.460136       0.351719      0.425924   \n",
       "min               96.000000            2.000000       0.000000      0.000000   \n",
       "25%              156.000000            3.000000       0.000000      0.000000   \n",
       "50%              200.000000            3.000000       0.000000      0.000000   \n",
       "75%              245.000000            4.000000       0.000000      0.000000   \n",
       "max              310.000000           10.000000       1.000000      1.000000   \n",
       "\n",
       "       promotion_last_5years  \n",
       "count           14999.000000  \n",
       "mean                0.021268  \n",
       "std                 0.144281  \n",
       "min                 0.000000  \n",
       "25%                 0.000000  \n",
       "50%                 0.000000  \n",
       "75%                 0.000000  \n",
       "max                 1.000000  "
      ]
     },
     "execution_count": 2,
     "metadata": {},
     "output_type": "execute_result"
    }
   ],
   "source": [
    "\"\"\"Задание 2.\n",
    "Рассчитайте основные статистики для переменных(среднее,медиана,мода,мин/макс,сред.отклонение)\n",
    "\"\"\"\n",
    "\n",
    "hr_df.describe()\n"
   ]
  },
  {
   "cell_type": "code",
   "execution_count": 3,
   "metadata": {},
   "outputs": [
    {
     "name": "stdout",
     "output_type": "stream",
     "text": [
      "                      satisfaction_level  last_evaluation  number_project  \\\n",
      "satisfaction_level              1.000000         0.105021       -0.142970   \n",
      "last_evaluation                 0.105021         1.000000        0.349333   \n",
      "number_project                 -0.142970         0.349333        1.000000   \n",
      "average_montly_hours           -0.020048         0.339742        0.417211   \n",
      "time_spend_company             -0.100866         0.131591        0.196786   \n",
      "\n",
      "                      average_montly_hours  time_spend_company  \n",
      "satisfaction_level               -0.020048           -0.100866  \n",
      "last_evaluation                   0.339742            0.131591  \n",
      "number_project                    0.417211            0.196786  \n",
      "average_montly_hours              1.000000            0.127755  \n",
      "time_spend_company                0.127755            1.000000  \n"
     ]
    },
    {
     "data": {
      "text/plain": [
       "<matplotlib.axes._subplots.AxesSubplot at 0x1945d189e88>"
      ]
     },
     "execution_count": 3,
     "metadata": {},
     "output_type": "execute_result"
    },
    {
     "data": {
      "image/png": "[encoded data removed]",
      "text/plain": [
       "<Figure size 432x288 with 2 Axes>"
      ]
     },
     "metadata": {
      "needs_background": "light"
     },
     "output_type": "display_data"
    }
   ],
   "source": [
    "\"\"\"Задание 3. \n",
    "Рассчитайте и визуализировать корреляционную матрицу для количественных переменных.\n",
    "Определите две самые скоррелированные и две наименее скоррелированные переменные\n",
    "\"\"\"\n",
    "\n",
    "# Если говорить о скоррелированных данных, то наиболее связаны между собой:\n",
    "# 1) количество релизованных проектов и среднее количество часов на рабочем месте в месяц (теснота связи 0,42);\n",
    "# 2) количество релазиованных проектов и время с момента последней оценки в годах (0,35)\n",
    "\n",
    "# Слабее всего связь у показателей:\n",
    "# 1) среднее количество часов на рабочем месте в месяц и уровень удовлетворенности работой (обратная связь: -0,02)\n",
    "# 2) стаж работы в компании в годах и уровень удовлетворенности работой (обратная связь: -0,1)\n",
    "\n",
    "# Эти данные получены следующим образом. \n",
    "\n",
    "# Получаем матрицу корреляции показателей:\n",
    "profile = (hr_df[['satisfaction_level', 'last_evaluation', \n",
    "                  'number_project', 'average_montly_hours', 'time_spend_company']].corr())\n",
    "print(profile)\n",
    "\n",
    "# Визуализируем корреляционную матрицу: \n",
    "matrix = np.triu(profile)               # задаем маску для построения графика \n",
    "sns.heatmap(profile, annot=True, fmt ='.2g', center=0, cmap='coolwarm', linewidths=3,  square=True, mask=matrix)"
   ]
  },
  {
   "cell_type": "code",
   "execution_count": 4,
   "metadata": {},
   "outputs": [
    {
     "data": {
      "text/plain": [
       "department\n",
       "IT             1227\n",
       "RandD           787\n",
       "accounting      767\n",
       "hr              739\n",
       "management      630\n",
       "marketing       858\n",
       "product_mng     902\n",
       "sales          4140\n",
       "support        2229\n",
       "technical      2720\n",
       "Name: department, dtype: int64"
      ]
     },
     "execution_count": 4,
     "metadata": {},
     "output_type": "execute_result"
    }
   ],
   "source": [
    "\"\"\"Задание 4.\n",
    "Рассчитайте сколько сотрудников работает в каждомдепартаменте\n",
    "\"\"\"\n",
    "\n",
    "the_staff_of_departments = hr_df.groupby('department')['department'].count()\n",
    "the_staff_of_departments"
   ]
  },
  {
   "cell_type": "code",
   "execution_count": 5,
   "metadata": {},
   "outputs": [
    {
     "name": "stdout",
     "output_type": "stream",
     "text": [
      "        department\n",
      "salary            \n",
      "high          1237\n",
      "low           7316\n",
      "medium        6446\n"
     ]
    },
    {
     "data": {
      "text/plain": [
       "<matplotlib.axes._subplots.AxesSubplot at 0x1945da25408>"
      ]
     },
     "execution_count": 5,
     "metadata": {},
     "output_type": "execute_result"
    },
    {
     "data": {
      "image/png": "[encoded data removed]",
      "text/plain": [
       "<Figure size 432x288 with 1 Axes>"
      ]
     },
     "metadata": {
      "needs_background": "light"
     },
     "output_type": "display_data"
    }
   ],
   "source": [
    "\"\"\"Задание 5.\n",
    "Показать распределение сотрудников по зарплатам\n",
    "\"\"\"\n",
    "\n",
    "# Из датафрейма получаем 2 столбца, группируя по зарплате и делая расчет: как сотрудники \n",
    "# в департаментах распределяются по уровням зарплаты:\n",
    "# employees_and_salaries = hr_df[['department','salary']].groupby('salary', as_index=False).count()\n",
    "employees_and_salaries = hr_df[['department','salary']].groupby('salary').count()\n",
    "print(employees_and_salaries)\n",
    "\n",
    "employees_and_salaries.loc[['high', 'low', 'medium']].plot(kind=\"bar\",\n",
    "                                        xlabel='salary',\n",
    "                                        ylabel='department',\n",
    "                                        rot=0,\n",
    "                                        title='Распределение сотрудников по зарплатам')"
   ]
  },
  {
   "cell_type": "code",
   "execution_count": 43,
   "metadata": {},
   "outputs": [
    {
     "name": "stdout",
     "output_type": "stream",
     "text": [
      "salary       high   low  medium\n",
      "department                     \n",
      "IT             83   609     535\n",
      "RandD          51   364     372\n",
      "accounting     74   358     335\n",
      "hr             45   335     359\n",
      "management    225   180     225\n",
      "marketing      80   402     376\n",
      "product_mng    68   451     383\n",
      "sales         269  2099    1772\n",
      "support       141  1146     942\n",
      "technical     201  1372    1147\n"
     ]
    },
    {
     "data": {
      "image/png": "[encoded data removed]",
      "text/plain": [
       "<Figure size 432x288 with 1 Axes>"
      ]
     },
     "metadata": {
      "needs_background": "light"
     },
     "output_type": "display_data"
    }
   ],
   "source": [
    "\"\"\"Задание 6. \n",
    "Показать распределение сотрудников по зарплатам в каждом\n",
    "департаменте по отдельности\n",
    "\"\"\"\n",
    "\n",
    "# Вриант реализации через группировку\n",
    "# salaries_by_dept = hr_df.groupby(['department', 'salary'])['department', 'salary'].count()\n",
    "\n",
    "\n",
    "# Но мы выберем более компактный вариант - с помощью pivot_table: \n",
    "df_pivot_dep_salary = hr_df.pivot_table(values='satisfaction_level', index='department', aggfunc='count', \n",
    "                                        columns='salary', fill_value=0).rename({1: 'low', 2: 'mid', 3: 'high'}, axis=1)\n",
    "print(df_pivot_dep_salary)\n",
    "\n",
    "\n",
    "\n",
    "df_pivot_dep_salary.plot(kind='bar', title='Распределение сотрудников департаментов в разрезе зарплат')\n",
    "plt.show()"
   ]
  },
  {
   "cell_type": "code",
   "execution_count": 7,
   "metadata": {},
   "outputs": [
    {
     "data": {
      "text/plain": [
       "0.4922222222222222"
      ]
     },
     "execution_count": 7,
     "metadata": {},
     "output_type": "execute_result"
    }
   ],
   "source": [
    "\"\"\"Задача 7.\n",
    "Проверить гипотезу, что сотрудники с высоким окладом\n",
    "проводят на работе больше времени, чем сотрудники с низким\n",
    "окладом\n",
    "\"\"\"\n",
    "\n",
    "# Проверить гипотезу - означает: выявить зависимость категории уровня зарплаты (salary) \n",
    "# от среднего количества часов на рабочем месте в месяц (average_montly_hours) \n",
    "\n",
    "# Проведем дискриминантный анализ - \n",
    "#     1.1. заменим значения зарплат от строк - к цифре: 0- низкая зарплата, 1 - средняя, 2 - высокая \n",
    "#     1.2. распределим значения потраченного времени по заранее известным группам зарплат \n",
    "# (маленькая, средняя, высокая): сначала на обучающейся выборке\n",
    "#     1.3. на основе обучения предскажем результат тестовой выборки \n",
    "#     1.4. проверим качество прогноза тестовой выборки  \n",
    "#     1.5. если качество прогноза высокое, сделаем вывод о взаимосвязи \n",
    "\n",
    "# Признаем диапазон точности прогноза, чтобы считать его значимым для работы: \n",
    "# accuracy_score>0,01≤0,29 – слабая прогностическая способность,\n",
    "# accuracy_score>0,30≤0,69 – умеренная погностическая способность,\n",
    "# accuracy_score>0,70≤1,00 – сильная прогностическая способность\n",
    "\n",
    "\n",
    "# импортируем LDA-функционал:\n",
    "from sklearn.discriminant_analysis import LinearDiscriminantAnalysis  \n",
    "from sklearn.model_selection import train_test_split\n",
    "from sklearn.metrics import accuracy_score\n",
    "\n",
    "# 1.1. заменяем значения зарплат - строковые на цифровые:\n",
    "new_values = {\n",
    "    'low': 0,\n",
    "    'medium': 1,\n",
    "    'high': 2\n",
    "}\n",
    "hr_df_salary_param = hr_df.replace(new_values)\n",
    "\n",
    "data_class = hr_df_salary_param['salary'].tolist()\n",
    "\n",
    "# Определяем выборки: для обучения и тестовую\n",
    "X_train, X_test, y_train, y_test = train_test_split(hr_df_salary_param[['average_montly_hours', 'salary']], data_class, test_size=0.3)\n",
    "\n",
    "lda = LinearDiscriminantAnalysis()\n",
    "# 1.2. обучаем данные:\n",
    "lda.fit(X_train, y_train)   \n",
    "# 1.3. делаем прогноз на тестовой выборке:\n",
    "lda.predict(X_test)                                                   \n",
    "# 1.4. смотрим разницу факта и прогноза\n",
    "result = pd.DataFrame([y_test, lda.predict(X_test)]).T\n",
    "accuracy_score(y_test, lda.predict(X_test))\n"
   ]
  },
  {
   "cell_type": "code",
   "execution_count": 9,
   "metadata": {},
   "outputs": [
    {
     "name": "stdout",
     "output_type": "stream",
     "text": [
      "[0.45836244] [0.63232712]\n",
      "Одинаковое распределение (не отвергаем H0)\n"
     ]
    }
   ],
   "source": [
    "# А что говорит дисперсионный анализ? \n",
    "# Проведем его, сравнив три датафрейма: низкая, средняя и высокая зарплата. Данный анализ покажет, насколько \n",
    "# различаются выборки проведенного рабочего времени в разрезе уровня зарплаты. \n",
    "# Если полученная величина превышает уровень значимости в 0,05, то будем считать различия существенными,\n",
    "# что свидетельствует о качественно различных выборках. В противном случае гипотеза о явном отличии одной величины от другой \n",
    "# отвергается, что может свидетельствовать: уровень зарплаты в выборах разный, а проведенное время не столь разнится. \n",
    "# Вывод: от количества затраченного на работе времени уровень оплаты труда не зависит либо зависит не в столь значительной мере. \n",
    "# Есть и другие влияющие факторы \n",
    "\n",
    "# Общий вывод: в половине случаев на значение оплаты труда влияение оказывают иные факторы, нежели проведенное на работе время \n",
    "\n",
    "import scipy.stats as stats\n",
    "\n",
    "hr_df_low = hr_df[hr_df['salary'].isin(['low'])]          # строим выборку имеющих низкий уровень оплаты труда\n",
    "hr_df_medium = hr_df[hr_df['salary'].isin(['medium'])]    # строим выборку имеющих средний уровень оплаты труда\n",
    "hr_df_high = hr_df[hr_df['salary'].isin(['high'])]        # строим выборку имеющих высокий уровень оплаты труда\n",
    "\n",
    "\n",
    "hr_df_salary_low_ = hr_df_low[['average_montly_hours']]        # строим фрейм по признаку удовлетворенности на основе низкооплачиваемых \n",
    "hr_df_salary_medium_ = hr_df_medium[['average_montly_hours']]  # аналогично по оплачиваемым на среднем уровне\n",
    "hr_df_salary_high_ = hr_df_high[['average_montly_hours']]      # аналогично по оплачиваемым на высоком уровне\n",
    "fvalue, pvalue = stats.f_oneway(hr_df_salary_low_, hr_df_salary_medium_, hr_df_salary_high_) # применяем функцию ДА\n",
    "print(fvalue, pvalue)\n",
    "\n",
    "alpha = 0.05  # Уровень значимости\n",
    "\n",
    "\n",
    "if pvalue > alpha:\n",
    "    print('Одинаковое распределение (не отвергаем H0)')\n",
    "else:\n",
    "    print('Разное распределение (отклоняем H0)')"
   ]
  },
  {
   "cell_type": "code",
   "execution_count": 10,
   "metadata": {},
   "outputs": [
    {
     "name": "stdout",
     "output_type": "stream",
     "text": [
      "Доля сотрудников с повышением за последние 5 лет среди уволившихся:  8.93 %\n",
      "Доля сотрудников с повышением за последние 5 лет среди работающих:  2.63 %\n",
      "Средняя степень удовлетворенности среди уволившихся:  0.44\n",
      "Средняя степень удовлетворенности среди работающих:  0.67\n",
      "Среднее кол-во проектов среди уволившихся:  3.86\n",
      "Среднее кол-во проектов среди работающих:  3.79\n"
     ]
    }
   ],
   "source": [
    "\"\"\"Задание 8. \n",
    "Рассчитать следующие показатели среди уволившихся и не\n",
    "уволившихся сотрудников (по отдельности):\n",
    "\n",
    "● Доля сотрудников с повышением за последние 5 лет\n",
    "● Средняя степень удовлетворенности\n",
    "● Среднее количество проектов\n",
    "\"\"\"\n",
    "# Определяем долю сотрудников с повышением среди уволившихся.\n",
    "# Для этого из датафрейма выбираем уволившихся и по столбцу promotion_last_5years оставляем людей с повышением;\n",
    "# отношение повышавшихся к общему числу датафрейма даст искомую долю:\n",
    "hr_df_left = hr_df[hr_df['left'].isin([1])]       # Выбираем уволившихся\n",
    "hr_df_left.count()     #3571\n",
    "hr_df_left_promotion_yes = hr_df[hr_df['promotion_last_5years'].isin([1])]     # Выбираем повышавшихся по службе      \n",
    "hr_df_left_promotion_yes.count()    #319\n",
    "employee_share_left_promotion_yes = round((hr_df_left_promotion_yes.count() / hr_df_left.count()), 4) * 100\n",
    "print('Доля сотрудников с повышением за последние 5 лет среди уволившихся: ',  employee_share_left_promotion_yes['promotion_last_5years'], '%')\n",
    "\n",
    "# Определяем долю сотрудников с повышением среди работающих.\n",
    "hr_df_working_promotion_yes = hr_df[(hr_df['left'] == 0) & (hr_df['promotion_last_5years'] == 1)] # выбираем работающих и повышавшихся\n",
    "hr_df_working_total = hr_df[(hr_df['left'] == 0)]          # выбираем уволенных из всего списка людей   \n",
    "hr_df_working_promotion_yes.promotion_last_5years.count()  # 300\n",
    "hr_df_working_total.count()     # 11428\n",
    "employee_share_working_promotion_yes = round((hr_df_working_promotion_yes.promotion_last_5years.count() / hr_df_working_total.count()), 4) * 100\n",
    "print('Доля сотрудников с повышением за последние 5 лет среди работающих: ',  employee_share_working_promotion_yes['promotion_last_5years'], '%')\n",
    "\n",
    "# Найдем среднюю степень удовлетворенности среди уволившихся.\n",
    "satisfaction_degree = hr_df.groupby('left')['satisfaction_level'].mean()\n",
    "satisfaction_degree_left = round((satisfaction_degree.loc[1]), 2)    \n",
    "print('Средняя степень удовлетворенности среди уволившихся: ', satisfaction_degree_left)\n",
    "\n",
    "# Найдем среднюю степень удовлетворенности среди работающих.\n",
    "satisfaction_degree_work = round((satisfaction_degree.loc[0]), 2) \n",
    "print('Средняя степень удовлетворенности среди работающих: ', satisfaction_degree_work)\n",
    "\n",
    "# Найдем среднее количество проектов среди уволившихся. \n",
    "num_project = hr_df.groupby('left')['number_project'].mean()\n",
    "num_project_left = round((num_project.loc[1]), 2) \n",
    "print('Среднее кол-во проектов среди уволившихся: ', num_project_left)\n",
    "\n",
    "# Найдем среднее количество проектов среди работающих. \n",
    "num_project_work = round((num_project.loc[0]), 2) \n",
    "print('Среднее кол-во проектов среди работающих: ', num_project_work)\n",
    "\n",
    "\n"
   ]
  },
  {
   "cell_type": "code",
   "execution_count": 11,
   "metadata": {},
   "outputs": [
    {
     "data": {
      "text/plain": [
       "0.768"
      ]
     },
     "execution_count": 11,
     "metadata": {},
     "output_type": "execute_result"
    }
   ],
   "source": [
    "\"\"\"Задание 9.\n",
    "Разделить данные на тестовую и обучающую выборки\n",
    "Построить модель LDA, предсказывающую уволился ли\n",
    "сотрудник на основе имеющихся факторов (кроме department и\n",
    "salary)\n",
    "Оценить качество модели на тестовой выборке\n",
    "\"\"\"\n",
    "\n",
    "# Вывод: проверка показала высокую точность прогноза на основании двух признаков - уровня удовлетворенности работой и того, \n",
    "# трудится ли сотрудник на преедприятии до сих пор\n",
    "\n",
    "data_class_ = hr_df['left'].tolist()\n",
    "X_train, X_test, y_train, y_test = train_test_split(hr_df[['satisfaction_level']], data_class_, test_size=0.3)\n",
    "lda_1 = LinearDiscriminantAnalysis()\n",
    "# обучаем данные\n",
    "lda_1.fit(X_train, y_train)\n",
    "# делаем прогноз на тестовой выборке\n",
    "lda_1.predict(X_test)\n",
    "# смотрим разницу факта и прогноза\n",
    "result = pd.DataFrame([y_test, lda_1.predict(X_test)]).T\n",
    "accuracy_score(y_test, lda_1.predict(X_test))"
   ]
  },
  {
   "cell_type": "code",
   "execution_count": 12,
   "metadata": {},
   "outputs": [
    {
     "data": {
      "text/plain": [
       "0.7608888888888888"
      ]
     },
     "execution_count": 12,
     "metadata": {},
     "output_type": "execute_result"
    }
   ],
   "source": [
    "# Проделаем то же самое на нескольких предикативных признаках\n",
    "\n",
    "X_train, X_test, y_train, y_test = train_test_split(hr_df[['satisfaction_level', 'time_spend_company']], data_class_, test_size=0.3)\n",
    "lda_2 = LinearDiscriminantAnalysis()\n",
    "# обучаем данные\n",
    "lda_2.fit(X_train, y_train)\n",
    "# делаем прогноз на тестовой выборке\n",
    "lda_2.predict(X_test)\n",
    "# смотрим разницу факта и прогноза\n",
    "result = pd.DataFrame([y_test, lda_2.predict(X_test)]).T\n",
    "accuracy_score(y_test, lda_2.predict(X_test))\n",
    "\n",
    "# Таким образом, видим, что избранные показатели дают высокую степень точности прогноза, позволяя\n",
    "# прогнозировать результат в 77 процентах случаев "
   ]
  },
  {
   "cell_type": "code",
   "execution_count": null,
   "metadata": {},
   "outputs": [],
   "source": []
  }
 ],
 "metadata": {
  "kernelspec": {
   "display_name": "Python 3",
   "language": "python",
   "name": "python3"
  },
  "language_info": {
   "codemirror_mode": {
    "name": "ipython",
    "version": 3
   },
   "file_extension": ".py",
   "mimetype": "text/x-python",
   "name": "python",
   "nbconvert_exporter": "python",
   "pygments_lexer": "ipython3",
   "version": "3.7.6"
  }
 },
 "nbformat": 4,
 "nbformat_minor": 4
}
