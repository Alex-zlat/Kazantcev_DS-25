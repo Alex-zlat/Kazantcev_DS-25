{
 "cells": [
  {
   "cell_type": "code",
   "execution_count": 58,
   "metadata": {},
   "outputs": [],
   "source": [
    "\n",
    "            "
   ]
  },
  {
   "cell_type": "code",
   "execution_count": 2,
   "metadata": {},
   "outputs": [],
   "source": [
    "\"\"\"Переведите содержимое файла purchase_log.txt в словарь purchases вида:\n",
    "{‘1840e0b9d4’: ‘Продукты’, …}\"\"\"\n",
    "\n",
    "import json\n",
    "\n",
    "purchases = {}                                                   # Создаем пустой словарь, куда запишем данные в нужном составе\n",
    "with open('purchase_log.txt', 'r', encoding='utf-8') as f:       # Открываем файл purchase_log.txt\n",
    "    next(f)                                                      # Вызываем функцию для последовательного вызова строк файла\n",
    "    for line in f:                                               # Запускаем цикл перебора строк:\n",
    "        line = line.strip()                                      # Убираем пробелы справа и слева строки\n",
    "        line_dict = json.loads(line)                             # Преобразуем формат json в словарь \n",
    "        purchases[line_dict['user_id']] = line_dict['category']  # Задаем формат словаря: ключ по полю user_id и \n",
    "                                                                 # значение по полю category\n",
    "\n",
    "\n",
    "\n",
    "\"\"\"Для каждого user_id в файле visit_log.csv определите третий столбец \n",
    "с категорией покупки (если покупка была, сам файл visit_log.csv изменять не надо). \n",
    "Запишите в файл funnel.csv визиты из файла visit_log.csv, \n",
    "в которых были покупки с указанием категории.\n",
    "\n",
    "Учтите условия на данные:\n",
    "содержимое purchase_log.txt помещается в оперативную память компьютера\n",
    "содержимое visit_log.csv - нет; используйте только построчную обработку этого файла\"\"\"\n",
    "\n",
    "\"\"\"во второй задаче нужно использовать уже сформированный словарь из первой. \n",
    "Потом открываете одновременно visit для чтения и funnel для записи, \n",
    "перебираете строки из визита, \n",
    "выделяете из строки визита айдишник и ищете его в словаре из первой задачи. \n",
    "Если айдишник найден, \n",
    "дополняете строку из визита категорией и пишете ее в funnel, \n",
    "если айдишник не найден, то переходим к анализу следующей строки\"\"\"\n",
    "\n",
    "# открываем новый файл funnel для записи:\n",
    "with open('funnel.csv', 'w', encoding=\"utf-8\") as writting_file:     \n",
    "    \n",
    "    # одновременно открываем файл visit_log для считывания user_id:\n",
    "    with open('visit_log.csv', 'r', encoding='utf-8') as reading_file:\n",
    "        \n",
    "        \n",
    "        # пробегаем циклом по строкам visit_log:\n",
    "            for lines in reading_file:\n",
    "            # удалем пробелы и разделяем запятой; все это укладываем в переменную:\n",
    "                visits = lines.strip().split(\",\")\n",
    "                # если user_id есть в словаре purchases:\n",
    "                if visits[0] in purchases:\n",
    "                    # создаем переменную: она возвращает значение (категорию) из purchases для ключа user_id, \n",
    "                    # соответствующего аналогичному ключу в visits \n",
    "                    category = purchases.get(visits[0])\n",
    "                    # в переменную visits построчно в конец добавляем категорию покупки\n",
    "                    visits.append(category)\n",
    "                    # перебираем строки переменной visits\n",
    "                    for strings in visits:\n",
    "                        # построчно записываем в файл, склеивая запятой данные - из visits и категорию из purchases\n",
    "                        writting_file.write(','.join(visits)+'\\n')\n",
    "                # если user_id в словаре purchases отсутствет, продолжаем проверку далее \n",
    "                else:\n",
    "                    continue \n",
    "                    \n",
    "                 \n",
    "                 "
   ]
  },
  {
   "cell_type": "code",
   "execution_count": null,
   "metadata": {},
   "outputs": [],
   "source": []
  }
 ],
 "metadata": {
  "kernelspec": {
   "display_name": "Python 3",
   "language": "python",
   "name": "python3"
  },
  "language_info": {
   "codemirror_mode": {
    "name": "ipython",
    "version": 3
   },
   "file_extension": ".py",
   "mimetype": "text/x-python",
   "name": "python",
   "nbconvert_exporter": "python",
   "pygments_lexer": "ipython3",
   "version": "3.7.6"
  }
 },
 "nbformat": 4,
 "nbformat_minor": 4
}
