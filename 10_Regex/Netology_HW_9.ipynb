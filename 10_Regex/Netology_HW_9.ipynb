{
 "cells": [
  {
   "cell_type": "code",
   "execution_count": 1,
   "metadata": {},
   "outputs": [
    {
     "name": "stdout",
     "output_type": "stream",
     "text": [
      "Номер А222ВС96 валиден. Регион: 96\n"
     ]
    }
   ],
   "source": [
    "\n",
    "\"\"\"Задание 1\n",
    "Напишите функцию, которая принимает на вход строку \n",
    "и проверяет является ли она валидным транспортным номером (1 буква, 3 цифры, 2 буквы, 2-3 цифры). \n",
    "Обратите внимание, что не все буквы кириллического алфавита используются в транспортных номерах.\n",
    "Если номер валиден, то функция должна возвращать отдельно номер и регион\"\"\"\n",
    "\n",
    "import re \n",
    "car_id = 'А222ВС96'\n",
    "def valid_number(car_id):\n",
    "    valid_pattern = r'(А|В|Е|К|М|Н|О|Р|С|Т|У|Х){1}\\d{3}(А|В|Е|К|М|Н|О|Р|С|Т|У|Х){2}\\d{2}'\n",
    "    region = re.split(r'((А|В|Е|К|М|Н|О|Р|С|Т|У|Х){1}\\d{3}(А|В|Е|К|М|Н|О|Р|С|Т|У|Х){2})', car_id)\n",
    "    if re.findall(valid_pattern, car_id):\n",
    "        print(f'Номер {car_id} валиден. Регион: {region[-1]}')\n",
    "    else:\n",
    "        print(f'Номер {car_id} не валиден')\n",
    "\n",
    "valid_number(car_id)"
   ]
  },
  {
   "cell_type": "code",
   "execution_count": 2,
   "metadata": {},
   "outputs": [
    {
     "name": "stdout",
     "output_type": "stream",
     "text": [
      "Напишите функцию которая будет удалять все последовательные повторы слов из заданной строки при помощи регулярных выражений\n"
     ]
    }
   ],
   "source": [
    "\"\"\"Напишите функцию, которая будет удалять все последовательные повторы слов \n",
    "из заданной строки при помощи регулярных выражений\"\"\"\n",
    "\n",
    "some_string = 'Напишите функцию функцию, которая будет будет будет будет удалять все все все все последовательные повторы слов из из из из заданной строки строки при помощи регулярных выражений'\n",
    "\n",
    "def valid_func(some_string):\n",
    "    \"\"\"Пояснения по шаблону:\n",
    "    1) re.sub(r'\\W+', ' ', some_string).strip() - заменяет один и более символов, которые не являются \n",
    "буквами, цифрами и знаками подчёркивания, на один пробел, а метод .strip() удаляет пробелы в начале и конце строки\n",
    "    2) re.sub(r'\\b([^\\W\\d_]+)(\\s+\\1)+\\b', r'\\1', ..., flags=re.I) :\n",
    "\n",
    "        2.1) \\b([^\\W\\d_]+)(\\s+\\1)+\\b - находит и захватывает в подмаску №1 слово \n",
    "(последовательность одной и более букв в границах слова, определяемых метасимволом \\b), \n",
    "после которого следует 1 и более повторов пробельных символов и такое же слово \n",
    "(\\1 - обратная ссылка на значение подмаски №1), за которыми следует граница слова\n",
    "        2.2) r'\\1' - на основе синтаксиса функции re.sub() заменяет найденное совпадение единичным экземпляром найденного слова \n",
    "        (значение подмаски №1)\n",
    "        2.3) flags=re.I - включает регистронезависимый поиск текста\n",
    "\"\"\"\n",
    "    print( re.sub(r'\\b([^\\W\\d_]+)(\\s+\\1)+\\b', r'\\1', re.sub(r'\\W+', ' ', some_string).strip(), flags=re.I) )\n",
    "\n",
    "valid_func(some_string)"
   ]
  },
  {
   "cell_type": "code",
   "execution_count": 3,
   "metadata": {},
   "outputs": [
    {
     "name": "stdout",
     "output_type": "stream",
     "text": [
      "ИТ\n"
     ]
    }
   ],
   "source": [
    "\"\"\"Напишите функцию, которая будет возвращать акроним по переданной в нее строке со словами\"\"\"\n",
    "\n",
    "import re\n",
    "some_words = 'Информационные технологии'\n",
    "def acronim(some_words):\n",
    "    words_pattern = r'\\b(\\w)\\w+'                              # определяем паттерн, создав группу (1) из первых букв слов\n",
    "    result_string = re.sub(words_pattern, r'\\1', some_words)  # заменяем найденные по паттерну выражения на группу (1)\n",
    "    my_result = re.sub(r'\\s+', r'', result_string)            # удаляем пробелы \n",
    "    print(my_result.upper())\n",
    "    \n",
    "acronim(some_words)"
   ]
  },
  {
   "cell_type": "code",
   "execution_count": 4,
   "metadata": {},
   "outputs": [
    {
     "name": "stdout",
     "output_type": "stream",
     "text": [
      "{'gmail.com': 2, 'test.in': 1, 'ya.ru': 2, 'mail.ru': 1}\n"
     ]
    }
   ],
   "source": [
    "\"\"\"Напишите функцию, которая будет принимать на вход список email-адресов и выводить их распределение по доменным зонам\"\"\"\n",
    "\n",
    "import re \n",
    "emails = ['test@gmail.com', 'xyz@test.in', 'test@ya.ru', 'xyz@mail.ru', 'xyz@ya.ru', 'xyz@gmail.com']\n",
    "\n",
    "\n",
    "def email_counter(emails):\n",
    "    mail_pattern = r'@(\\S+\\w+\\.\\w+)'                     # определяем паттерн (берем только выражение после собаки)\n",
    "    my_dict = {}                                         # создаем пустой словарь: затем наполним его нужными элементами\n",
    "    for mails in emails:\n",
    "        result = re.findall(mail_pattern, mails)         # находм совпадения с шаблоном:\n",
    "        if not result:                                   # если не нашлось, продолжаем работу функции \n",
    "            continue\n",
    "        domain = result[0]                               # обработаем выделенные элементы, начиная с первого \n",
    "        my_dict.setdefault(domain, 0)                    # задаем счетчик для значений ключа (его определяет переменная domain)\n",
    "        my_dict[domain] += 1                             # при нахождении подобного значения добавляем его к найденному ранее, \n",
    "    print(my_dict)                                       #  заполняя пустой словарь my_dict, в финале печатаем его на экран\n",
    "\n",
    "email_counter(emails)"
   ]
  },
  {
   "cell_type": "code",
   "execution_count": null,
   "metadata": {},
   "outputs": [],
   "source": []
  }
 ],
 "metadata": {
  "kernelspec": {
   "display_name": "Python 3",
   "language": "python",
   "name": "python3"
  },
  "language_info": {
   "codemirror_mode": {
    "name": "ipython",
    "version": 3
   },
   "file_extension": ".py",
   "mimetype": "text/x-python",
   "name": "python",
   "nbconvert_exporter": "python",
   "pygments_lexer": "ipython3",
   "version": "3.7.6"
  }
 },
 "nbformat": 4,
 "nbformat_minor": 4
}
