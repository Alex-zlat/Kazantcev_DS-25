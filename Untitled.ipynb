{
 "cells": [
  {
   "cell_type": "code",
   "execution_count": 4,
   "metadata": {},
   "outputs": [
    {
     "name": "stdout",
     "output_type": "stream",
     "text": [
      "Результат: {98, 35, 15, 213, 54, 119}\n"
     ]
    }
   ],
   "source": [
    "\"\"\"Задание 1\n",
    "Дана переменная, в которой хранится словарь, содержащий гео-метки для каждого пользователя \n",
    "(пример структуры данных приведен ниже). \n",
    "Вам необходимо написать программу, которая выведет на экран множество уникальных гео-меток всех пользователей\"\"\"\n",
    "\n",
    "\n",
    "ids = {'user1': [213, 213, 213, 15, 213],\n",
    "'user2': [54, 54, 119, 119, 119],\n",
    "'user3': [213, 98, 98, 35]}\n",
    "\n",
    "ids_list = ids.values()\n",
    "\n",
    "list_empty = []\n",
    "for i in ids_list:\n",
    "    list_empty.extend(i)\n",
    "\n",
    "set_ids = set(list_empty)\n",
    "print(f'Результат: {set_ids}')"
   ]
  },
  {
   "cell_type": "code",
   "execution_count": 3,
   "metadata": {},
   "outputs": [
    {
     "name": "stdout",
     "output_type": "stream",
     "text": [
      "Поисковых запросов, содержащих 3 слов(а): 57.14 %\n",
      "Поисковых запросов, содержащих 2 слов(а): 42.86 %\n"
     ]
    }
   ],
   "source": [
    "\"\"\"Задание 2\n",
    "Дана переменная, в которой хранится список поисковых запросов пользователя \n",
    "(пример структуры данных приведен ниже). \n",
    "Вам необходимо написать программу, которая выведет на экран \n",
    "распределение количества слов в запросах в требуемом виде\"\"\"\n",
    "\n",
    "queries = [\n",
    "'смотреть сериалы онлайн',\n",
    "'новости спорта',\n",
    "'афиша кино',\n",
    "'курс долларa',\n",
    "'сериалы этим летом',\n",
    "'курс по питону',\n",
    "'сериалы про спорт',\n",
    "]\n",
    "\n",
    "counter=0\n",
    "new_dict={}                                 # создали пустой словарь (позже занесем в него элементы: кол-во слов: сколько раз)\n",
    "for strings in queries:                     # проходим циклом по элементам списка и\n",
    "    a=strings.split()                       # получаем список из слов каждого отдельного запроса, разделенный по пробелу\n",
    "    count = len(a)                          # считаем, сколько слов в каждом из полученных списков \n",
    "    \n",
    "    if count in new_dict.keys():            # если значение количества слов уже есть в ключах словаря, то\n",
    "        new_dict[count]+=1                  # добавляем к накопленной сумме единицу\n",
    "    else: new_dict.update({                 # иначе: ставим первую единицу, обновив словарь новым элементом\n",
    "             count: 1\n",
    "     })\n",
    "\n",
    "    \n",
    "\n",
    "        \n",
    "            \n",
    "for key, value in new_dict.items():                                      # перебираем словарь поэлементно:                                     \n",
    "    percent = round( (value / len(queries)*100), 2)                      # делим каждый элемент словаря по значению (сколько раз встречается длина) на количество запросов\n",
    "    print(f'Поисковых запросов, содержащих {key} слов(а): {percent} %')\n",
    "    \n",
    "\n"
   ]
  },
  {
   "cell_type": "code",
   "execution_count": 89,
   "metadata": {},
   "outputs": [
    {
     "name": "stdout",
     "output_type": "stream",
     "text": [
      "Результат:\n",
      "\n",
      "{'adwords': {'ROI': 2.94, 'cost': 34, 'revenue': 35},\n",
      " 'facebook': {'ROI': -6.36, 'cost': 110, 'revenue': 103},\n",
      " 'twitter': {'ROI': -54.17, 'cost': 24, 'revenue': 11},\n",
      " 'vk': {'ROI': 5.1, 'cost': 98, 'revenue': 103},\n",
      " 'yandex': {'ROI': 16.99, 'cost': 153, 'revenue': 179}}\n"
     ]
    }
   ],
   "source": [
    "\"\"\"Задание 3\n",
    "Дана переменная, в которой хранится информация о затратах и доходе \n",
    "рекламных кампаний по различным источникам. \n",
    "Необходимо дополнить исходную структуру показателем ROI, \n",
    "который рассчитаем по формуле: (revenue / cost - 1) * 100\"\"\"\n",
    "\n",
    "from pprint import pprint\n",
    "\n",
    "results = {\n",
    "'vk': {'revenue': 103, 'cost': 98},\n",
    "'yandex': {'revenue': 179, 'cost': 153},\n",
    "'facebook': {'revenue': 103, 'cost': 110},\n",
    "'adwords': {'revenue': 35, 'cost': 34},\n",
    "'twitter': {'revenue': 11, 'cost': 24},\n",
    "}\n",
    "\n",
    "new_dict = {}\n",
    "\n",
    "for socialmedia, indicators in results.items():\n",
    "    indicators['ROI'] = round( (indicators['revenue'] / indicators['cost'] - 1)*100, 2)\n",
    "\n",
    "    \n",
    "new_dict.update(results)\n",
    "\n",
    "print (\"Результат:\\n\")\n",
    "pprint(new_dict)"
   ]
  },
  {
   "cell_type": "code",
   "execution_count": 2,
   "metadata": {},
   "outputs": [
    {
     "data": {
      "text/plain": [
       "{'vk': 120}"
      ]
     },
     "execution_count": 2,
     "metadata": {},
     "output_type": "execute_result"
    }
   ],
   "source": [
    "\"\"\"Дана переменная, в которой хранится \n",
    "статистика рекламных каналов по объемам продаж \n",
    "(пример структуры данных приведен ниже). \n",
    "Напишите программу, которая возвращает название канала \n",
    "с максимальным объемом продаж\"\"\"\n",
    "\n",
    "stats = {'facebook': 55, 'yandex': 115, 'vk': 120, 'google': 99, 'email': 42, 'ok': 98}\n",
    "\n",
    "{resource: stat for resource, stat in filter(lambda resource: stats[resource[0]] == max(stats.values()), stats.items())} \n",
    "\n"
   ]
  },
  {
   "cell_type": "code",
   "execution_count": null,
   "metadata": {},
   "outputs": [],
   "source": [
    "\"\"\"Вам нужно помочь секретарю автоматизировать работу. \n",
    "Для этого нужно написать программу, \n",
    "которая будет на основе хранимых данных \n",
    "исполнять пользовательские команды\"\"\"\n",
    "\n",
    "DOCUMENTS = [\n",
    "{'type': 'passport', 'number': '2207 876234', 'name': 'Василий Гупкин'},\n",
    "{'type': 'invoice', 'number': '11-2', 'name': 'Геннадий Покемонов'},\n",
    "{'type': 'insurance', 'number': '10006', 'name': 'Аристарх Павлов'}\n",
    "]\n",
    "\n",
    "#перечень полок, на которых хранятся документы (если документ есть в documents, то он обязательно должен быть и в directories)\n",
    "\n",
    "DIRECTORIES = {\n",
    "'1': ['2207 876234', '11-2'],\n",
    "'2': ['10006'],\n",
    "'3': []\n",
    "}\n",
    "\n",
    "\"\"\"Пункт 1. Пользователь по команде “p” может узнать владельца документа по его номеру\"\"\"\n",
    "\n",
    "def document_owner():    \n",
    "    \"\"\" Функция для определения владельца документа.\n",
    "    Перебирает список словарей documents. И, если есть заданный пользователем номер документа в базе, \n",
    "    выводит ФИО его владельца\n",
    "    \"\"\"\n",
    "    doc_number = input('Введите номер документа: ')\n",
    "    for number in DOCUMENTS:                                    # Перебираем словарь documents\n",
    "        if number['number'] == doc_number:                      # Если в значении 'number' есть набранный номер документа, то\n",
    "            return f'Владелец документа: {number[\"name\"]}'      # возвращаем имя владельца документа\n",
    "    return 'Документ не найден в базе'\n",
    "    \n",
    "\n",
    "\"\"\"Пункт 2. Пользователь по команде “s” может по номеру документа узнать, на какой полке он хранится\"\"\"\n",
    "\n",
    "def number_shelf(): \n",
    "    \"\"\"Функция для поиска номера полки с документом (по его номеру).\n",
    "    Перебирает строки словаря. И, если находит в значениях (список словаря) номер документа, введенного пользователем,\n",
    "    сообщает полку, где документ хранится\n",
    "    \"\"\"\n",
    "    doc_number = input('Введите номер документа: ')\n",
    "    for shelf_number in DIRECTORIES:                             # Перебираем список полок с номерами документов\n",
    "        if doc_number in DIRECTORIES[shelf_number]:              # Если в значениях строки есть номер введенного документа, то\n",
    "            return f'Документ хранится на полке: {shelf_number}' # возвращаем номер полки  \n",
    "    return 'Документ не найден в базе'    \n",
    "\n",
    "\n",
    "\"\"\"Пункт 3. Пользователь по команде “l” может увидеть полную информацию по всем документам\"\"\"\n",
    "\n",
    "def full_info(DOCUMENTS, DIRECTORIES):\n",
    "    \"\"\"\n",
    "    Функция для вывода всех данных.\n",
    "    По введенной команде сообщает данные из базы, включая полку документа, где он хранится\n",
    "    \"\"\"\n",
    "    # перебираем список полок\n",
    "    for num in DOCUMENTS:\n",
    "        # выбираем строку с номером полки и документами, которые хранятся в значениях словаря\n",
    "        full_data = list(filter (lambda x: num['number'] in x[1], DIRECTORIES.items()))[0][0]\n",
    "        # возвращаем информацию двух коллекций, попутно отсекая значения словаря и оставляя номер полки (ключи)\n",
    "        print(f\"№: {num['number']}, тип: {num['type']}, владелец: {num['name']}, полка хранения: {full_data[0][0]}\")\n",
    "    \n",
    "\n",
    "\n",
    "\"\"\"Пункт 4. Пользователь по команде “as” может добавить новую полку\"\"\"\n",
    "\n",
    "def add_shelf():\n",
    "    \"\"\"Функция добавляет номер полки и создает пустой список для вложения документов. \n",
    "    Если полка существует, то информирует об этом\"\"\"\n",
    "    shelf_id = input('Введите номер полки: ')\n",
    "    if shelf_id not in DIRECTORIES:                                             # если полки нет в списке ключей, то \n",
    "        DIRECTORIES[shelf_id] = []                                              # по id от пользователя добавляем полку (элемент словаря - список)\n",
    "        return(f'Полка добавлена. Текущий перечень полок: {DIRECTORIES.keys()}')\n",
    "    else:\n",
    "        return f'Такая полка уже существует. Текущий перечень полок: {DIRECTORIES.keys()}'\n",
    "            \n",
    "\"\"\"Пункт 5. Пользователь по команде “ds” \n",
    "может удалить существующую полку из данных (только если она пустая)\"\"\"\n",
    "\n",
    "def del_shelf(DIRECTORIES):             \n",
    "    shelf_id = input('Введите номер полки: ')\n",
    "    if shelf_id not in DIRECTORIES.keys():   \n",
    "        return f'Такой полки не существует. Текущий перечень полок: {DIRECTORIES.keys()}'\n",
    "    elif shelf_id in DIRECTORIES.keys():\n",
    "        for key, value in DIRECTORIES.items():\n",
    "            if len(DIRECTORIES[shelf_id]) > 0:      \n",
    "                return f'На полке есть документы, удалите их перед удалением полки. Текущий перечень полок: {DIRECTORIES.keys()}' \n",
    "            else:\n",
    "                del DIRECTORIES[shelf_id]\n",
    "                return f'Полка удалена. Текущий перечень полок: {DIRECTORIES.keys()}'\n",
    "            \n",
    "                  \n",
    "def main(DOCUMENTS, DIRECTORIES):                                   \n",
    "    while True:\n",
    "        user_input = input('Введите команду: ')\n",
    "        if user_input == 'p':\n",
    "            print(document_owner(DOCUMENTS))\n",
    "        elif user_input == 's':\n",
    "            print(number_shelf(DIRECTORIES))\n",
    "        elif user_input == 'l':\n",
    "            print(full_info(DOCUMENTS, DIRECTORIES))\n",
    "        elif user_input == 'as':\n",
    "            print(add_shelf(DIRECTORIES))\n",
    "        elif user_input == 'ds':\n",
    "            print(del_shelf(DIRECTORIES))\n",
    "            break\n",
    "\n",
    "main(DOCUMENTS, DIRECTORIES)  "
   ]
  },
  {
   "cell_type": "code",
   "execution_count": 5,
   "metadata": {},
   "outputs": [
    {
     "ename": "NameError",
     "evalue": "name 'main' is not defined",
     "output_type": "error",
     "traceback": [
      "\u001b[1;31m---------------------------------------------------------------------------\u001b[0m",
      "\u001b[1;31mNameError\u001b[0m                                 Traceback (most recent call last)",
      "\u001b[1;32m<ipython-input-5-9a596cb8467d>\u001b[0m in \u001b[0;36m<module>\u001b[1;34m\u001b[0m\n\u001b[1;32m----> 1\u001b[1;33m \u001b[0mmain\u001b[0m\u001b[1;33m(\u001b[0m\u001b[0mDOCUMENTS\u001b[0m\u001b[1;33m,\u001b[0m \u001b[0mDIRECTORIES\u001b[0m\u001b[1;33m)\u001b[0m\u001b[1;33m\u001b[0m\u001b[1;33m\u001b[0m\u001b[0m\n\u001b[0m",
      "\u001b[1;31mNameError\u001b[0m: name 'main' is not defined"
     ]
    }
   ],
   "source": [
    "main(DOCUMENTS, DIRECTORIES) "
   ]
  },
  {
   "cell_type": "code",
   "execution_count": 3,
   "metadata": {},
   "outputs": [],
   "source": [
    "\n",
    "    "
   ]
  },
  {
   "cell_type": "code",
   "execution_count": 5,
   "metadata": {},
   "outputs": [
    {
     "name": "stdout",
     "output_type": "stream",
     "text": [
      "Wednesday, October 2, 2002\n",
      "Friday, 11.10.13\n",
      "Thursday, 18 August 1977\n"
     ]
    }
   ],
   "source": [
    "from datetime import datetime as dt\n",
    "\n",
    "# date_input = input()\n",
    "\n",
    "\n",
    "date_form = ['Wednesday, October 2, 2002', 'Friday, 11.10.13', 'Thursday, 18 August 1977']\n",
    "\n",
    "def date_transform():\n",
    "    \"\"\"\n",
    "    Функция преобразует введенный формат даты в формат datetime \n",
    "    \"\"\"\n",
    "    for formats in date_form:\n",
    "        try:\n",
    "            return date_transform == dt.strptime(date_form, '%A, %B, %d, %Y') \n",
    "        except:\n",
    "            pass\n",
    "        try:\n",
    "            return date_transform == dt.strptime(date_form, '%A, %d.%m.%y')  \n",
    "        except:\n",
    "            pass\n",
    "        try:\n",
    "            return date_transform == dt.strptime(date_form, '%A, %d, %B, %Y')    \n",
    "        except:\n",
    "            pass\n",
    "    return None "
   ]
  },
  {
   "cell_type": "code",
   "execution_count": null,
   "metadata": {},
   "outputs": [],
   "source": [
    "def correct_date():\n",
    "    \"\"\"Функция проверяет на корректность даты из потока\n",
    "    и возвращает True при корректности даты\n",
    "    и False при ее некорректности\"\"\"\n",
    "    correct_date = '%Y-%m-%d'\n",
    "    for i in stream:\n",
    "        if i == correct_date:\n",
    "            return True\n",
    "        else:\n",
    "            return False\n",
    "        \n",
    "def check_date_format(date):\n",
    "    \"\"\"\n",
    "    Функция для проверки корректности формата времени. В качестве результата выдает True или False.\n",
    "    Корректными считается формат YYYY-MM-DD\n",
    "    date - дата в формате YYYY-MM-DD\n",
    "    \"\"\"\n",
    "    valid_format = '%Y-%m-%d'\n",
    "    try:\n",
    "        datetime.strptime(date, valid_format)\n",
    "        return True\n",
    "    except:\n",
    "        return False\n",
    "\n",
    "def date_range(start_date, end_date):\n",
    "    \"\"\"\n",
    "    Функция для получения списка дат из периода. \n",
    "    start_date - начальная дата в формате YYYY-MM-DD\n",
    "    end_date - конечная дата в формате YYYY-MM-DD\n",
    "    Функция возвращает список дат.\n",
    "    Если формат параметров некорректный, а так же если start_date больше end_date, то функция вернет пустой список.\n",
    "    \"\"\"\n",
    "    \n",
    "    try:\n",
    "        start_date = datetime.strptime(start_date, '%Y-%m-%d')\n",
    "        end_date = datetime.strptime(end_date, '%Y-%m-%d')\n",
    "    except:\n",
    "        []\n",
    "        \n",
    "    if end_date < start_date:\n",
    "        return []\n",
    "    \n",
    "    \n",
    "    \n",
    "    result = []\n",
    "    days_counter = (end_date - start_date).days\n",
    "    \n",
    "    for days in range(0, days_counter+1):\n",
    "        result += [datetime.strftime(start_date + timedelta(days), '%Y-%m-%d')]\n",
    "        \n",
    "    return result"
   ]
  },
  {
   "cell_type": "code",
   "execution_count": null,
   "metadata": {},
   "outputs": [],
   "source": [
    "\"\"\"Задание 3\n",
    "Напишите функцию date_range, \n",
    "которая возвращает список дат за период от start_date до end_date. \n",
    "Даты должны вводиться в формате YYYY-MM-DD. \n",
    "В случае неверного формата или при start_date > end_date \n",
    "должен возвращаться пустой список\"\"\"\n",
    "\n",
    "from datetime import datetime as dt \n",
    "from datetime import timedelta\n",
    "\n",
    "def date_range(start_date, end_date):\n",
    "    \n",
    "    # преобразуем форматы всех дат (начальной, конечной) в формат datetime; если не получится, то выводим пустой список  \n",
    "    try:\n",
    "        start_date = dt.strptime(start_date, '%Y-%m-%d')\n",
    "        end_date = dt.strptime(end_date, '%Y-%m-%d')\n",
    "    except:\n",
    "        []\n",
    "    \n",
    "    # проверим границы диапазона: если неверны, то отдаем пустой список\n",
    "    if start_date > end_date:\n",
    "        return []\n",
    "    \n",
    "    # приступаем к \"корректной\" части функции: \n",
    "    # задаем пустой список, который будет наполняться для последующего вывода, если даты корректны и не выпадают из диапазона\n",
    "    result = []\n",
    "    # определяем разницу между датами - конечной и начальной\n",
    "    \n",
    "    days_delta_date = (end_date-start_date).days\n",
    "    \n",
    "    \n",
    "    # задаем диапазон для перебора дат в пределах разницы между датами - конечной и начальной (включительно, потому \"+1\")\n",
    "    for item in range (0, days_delta_date+1):\n",
    "        # перебор возвращает даты от начальной и в пределах диапазона (в строковом формате)\n",
    "        result += (start_date+timedelta(item))\n",
    "        return result\n",
    "    return []\n",
    "        \n",
    "date_range('20200101', '20200102')\n",
    "\n",
    "#       if user_date_dt < start_date_dt or user_date_dt > end_date_dt or user_date_dt != correct_date:"
   ]
  },
  {
   "cell_type": "code",
   "execution_count": 6,
   "metadata": {},
   "outputs": [
    {
     "ename": "ValueError",
     "evalue": "day is out of range for month",
     "output_type": "error",
     "traceback": [
      "\u001b[1;31m---------------------------------------------------------------------------\u001b[0m",
      "\u001b[1;31mValueError\u001b[0m                                Traceback (most recent call last)",
      "\u001b[1;32m<ipython-input-6-d3fcfaaa0283>\u001b[0m in \u001b[0;36m<module>\u001b[1;34m\u001b[0m\n\u001b[0;32m     24\u001b[0m     \u001b[1;32mreturn\u001b[0m \u001b[0mmy_list\u001b[0m\u001b[1;33m\u001b[0m\u001b[1;33m\u001b[0m\u001b[0m\n\u001b[0;32m     25\u001b[0m \u001b[1;33m\u001b[0m\u001b[0m\n\u001b[1;32m---> 26\u001b[1;33m \u001b[0mcorrect_date\u001b[0m\u001b[1;33m(\u001b[0m\u001b[0mstream\u001b[0m\u001b[1;33m)\u001b[0m\u001b[1;33m\u001b[0m\u001b[1;33m\u001b[0m\u001b[0m\n\u001b[0m",
      "\u001b[1;32m<ipython-input-6-d3fcfaaa0283>\u001b[0m in \u001b[0;36mcorrect_date\u001b[1;34m(date)\u001b[0m\n\u001b[0;32m     18\u001b[0m     \u001b[0mcorrect_format\u001b[0m \u001b[1;33m=\u001b[0m \u001b[1;34m'%Y-%m-%d'\u001b[0m\u001b[1;33m\u001b[0m\u001b[1;33m\u001b[0m\u001b[0m\n\u001b[0;32m     19\u001b[0m     \u001b[1;32mfor\u001b[0m \u001b[0mdate\u001b[0m \u001b[1;32min\u001b[0m \u001b[0mstream\u001b[0m\u001b[1;33m:\u001b[0m\u001b[1;33m\u001b[0m\u001b[1;33m\u001b[0m\u001b[0m\n\u001b[1;32m---> 20\u001b[1;33m         \u001b[0mdate\u001b[0m \u001b[1;33m==\u001b[0m \u001b[0mdt\u001b[0m\u001b[1;33m.\u001b[0m\u001b[0mstrptime\u001b[0m\u001b[1;33m(\u001b[0m\u001b[0mdate\u001b[0m\u001b[1;33m,\u001b[0m \u001b[0mcorrect_format\u001b[0m\u001b[1;33m)\u001b[0m\u001b[1;33m\u001b[0m\u001b[1;33m\u001b[0m\u001b[0m\n\u001b[0m\u001b[0;32m     21\u001b[0m         \u001b[0mmy_list\u001b[0m\u001b[1;33m.\u001b[0m\u001b[0mappend\u001b[0m\u001b[1;33m(\u001b[0m\u001b[0mdate\u001b[0m\u001b[1;33m)\u001b[0m\u001b[1;33m\u001b[0m\u001b[1;33m\u001b[0m\u001b[0m\n\u001b[0;32m     22\u001b[0m \u001b[1;33m\u001b[0m\u001b[0m\n",
      "\u001b[1;32m~\\anaconda3\\lib\\_strptime.py\u001b[0m in \u001b[0;36m_strptime_datetime\u001b[1;34m(cls, data_string, format)\u001b[0m\n\u001b[0;32m    575\u001b[0m     \"\"\"Return a class cls instance based on the input string and the\n\u001b[0;32m    576\u001b[0m     format string.\"\"\"\n\u001b[1;32m--> 577\u001b[1;33m     \u001b[0mtt\u001b[0m\u001b[1;33m,\u001b[0m \u001b[0mfraction\u001b[0m\u001b[1;33m,\u001b[0m \u001b[0mgmtoff_fraction\u001b[0m \u001b[1;33m=\u001b[0m \u001b[0m_strptime\u001b[0m\u001b[1;33m(\u001b[0m\u001b[0mdata_string\u001b[0m\u001b[1;33m,\u001b[0m \u001b[0mformat\u001b[0m\u001b[1;33m)\u001b[0m\u001b[1;33m\u001b[0m\u001b[1;33m\u001b[0m\u001b[0m\n\u001b[0m\u001b[0;32m    578\u001b[0m     \u001b[0mtzname\u001b[0m\u001b[1;33m,\u001b[0m \u001b[0mgmtoff\u001b[0m \u001b[1;33m=\u001b[0m \u001b[0mtt\u001b[0m\u001b[1;33m[\u001b[0m\u001b[1;33m-\u001b[0m\u001b[1;36m2\u001b[0m\u001b[1;33m:\u001b[0m\u001b[1;33m]\u001b[0m\u001b[1;33m\u001b[0m\u001b[1;33m\u001b[0m\u001b[0m\n\u001b[0;32m    579\u001b[0m     \u001b[0margs\u001b[0m \u001b[1;33m=\u001b[0m \u001b[0mtt\u001b[0m\u001b[1;33m[\u001b[0m\u001b[1;33m:\u001b[0m\u001b[1;36m6\u001b[0m\u001b[1;33m]\u001b[0m \u001b[1;33m+\u001b[0m \u001b[1;33m(\u001b[0m\u001b[0mfraction\u001b[0m\u001b[1;33m,\u001b[0m\u001b[1;33m)\u001b[0m\u001b[1;33m\u001b[0m\u001b[1;33m\u001b[0m\u001b[0m\n",
      "\u001b[1;32m~\\anaconda3\\lib\\_strptime.py\u001b[0m in \u001b[0;36m_strptime\u001b[1;34m(data_string, format)\u001b[0m\n\u001b[0;32m    542\u001b[0m         \u001b[1;31m# Need to add 1 to result since first day of the year is 1, not 0.\u001b[0m\u001b[1;33m\u001b[0m\u001b[1;33m\u001b[0m\u001b[1;33m\u001b[0m\u001b[0m\n\u001b[0;32m    543\u001b[0m         \u001b[0mjulian\u001b[0m \u001b[1;33m=\u001b[0m \u001b[0mdatetime_date\u001b[0m\u001b[1;33m(\u001b[0m\u001b[0myear\u001b[0m\u001b[1;33m,\u001b[0m \u001b[0mmonth\u001b[0m\u001b[1;33m,\u001b[0m \u001b[0mday\u001b[0m\u001b[1;33m)\u001b[0m\u001b[1;33m.\u001b[0m\u001b[0mtoordinal\u001b[0m\u001b[1;33m(\u001b[0m\u001b[1;33m)\u001b[0m \u001b[1;33m-\u001b[0m\u001b[0;31m \u001b[0m\u001b[0;31m\\\u001b[0m\u001b[1;33m\u001b[0m\u001b[1;33m\u001b[0m\u001b[0m\n\u001b[1;32m--> 544\u001b[1;33m                   \u001b[0mdatetime_date\u001b[0m\u001b[1;33m(\u001b[0m\u001b[0myear\u001b[0m\u001b[1;33m,\u001b[0m \u001b[1;36m1\u001b[0m\u001b[1;33m,\u001b[0m \u001b[1;36m1\u001b[0m\u001b[1;33m)\u001b[0m\u001b[1;33m.\u001b[0m\u001b[0mtoordinal\u001b[0m\u001b[1;33m(\u001b[0m\u001b[1;33m)\u001b[0m \u001b[1;33m+\u001b[0m \u001b[1;36m1\u001b[0m\u001b[1;33m\u001b[0m\u001b[1;33m\u001b[0m\u001b[0m\n\u001b[0m\u001b[0;32m    545\u001b[0m     \u001b[1;32melse\u001b[0m\u001b[1;33m:\u001b[0m  \u001b[1;31m# Assume that if they bothered to include Julian day (or if it was\u001b[0m\u001b[1;33m\u001b[0m\u001b[1;33m\u001b[0m\u001b[0m\n\u001b[0;32m    546\u001b[0m            \u001b[1;31m# calculated above with year/week/weekday) it will be accurate.\u001b[0m\u001b[1;33m\u001b[0m\u001b[1;33m\u001b[0m\u001b[1;33m\u001b[0m\u001b[0m\n",
      "\u001b[1;31mValueError\u001b[0m: day is out of range for month"
     ]
    }
   ],
   "source": [
    "\"\"\"Задание 2\n",
    "Дан поток дат в формате YYYY-MM-DD, в которых встречаются некорректные значения:\n",
    "stream = [‘2018-04-02’, ‘2018-02-29’, ‘2018-19-02’]\n",
    "\n",
    "Напишите функцию, которая проверяет эти даты на корректность. \n",
    "Т. е. для каждой даты возвращает True (дата корректна) или False (некорректная дата)\"\"\"\n",
    "\n",
    "stream = ['2018-04-02', '2018-02-29', '2018-19-02']\n",
    "\n",
    "from datetime import datetime as dt\n",
    "\n",
    "def correct_date(date):\n",
    "    \"\"\"Функция проверяет на корректность даты из потока\n",
    "    и возвращает True при корректности даты\n",
    "    и False при ее некорректности\"\"\"\n",
    "    \n",
    "    my_list = []\n",
    "    correct_format = '%Y-%m-%d'\n",
    "    for date in stream:\n",
    "        date == dt.strptime(date, correct_format)\n",
    "        my_list.append(date)\n",
    "        \n",
    "    return my_list\n",
    "\n",
    "correct_date(stream)"
   ]
  },
  {
   "cell_type": "code",
   "execution_count": 6,
   "metadata": {},
   "outputs": [
    {
     "name": "stdout",
     "output_type": "stream",
     "text": [
      "Австралийский доллар\n"
     ]
    }
   ],
   "source": [
    "app = {'AUD': {'ID': 'R01010',\n",
    "  'NumCode': '036',\n",
    "  'CharCode': 'AUD',\n",
    "  'Nominal': 1,\n",
    "  'Name': 'Австралийский доллар',\n",
    "  'Value': 56.8799,\n",
    "  'Previous': 57.2141},\n",
    " 'AZN': {'ID': 'R01020A',\n",
    "  'NumCode': '944',\n",
    "  'CharCode': 'AZN',\n",
    "  'Nominal': 1,\n",
    "  'Name': 'Азербайджанский манат',\n",
    "  'Value': 43.2874,\n",
    "  'Previous': 43.435}\n",
    "      }\n",
    "\n",
    "print(app['AUD'].get('Name'))"
   ]
  },
  {
   "cell_type": "code",
   "execution_count": 1,
   "metadata": {},
   "outputs": [
    {
     "data": {
      "text/plain": [
       "0.39"
      ]
     },
     "execution_count": 1,
     "metadata": {},
     "output_type": "execute_result"
    }
   ],
   "source": [
    "\n",
    "import requests \n",
    "class Rate:\n",
    "    def __init__(self, diff=True, format_='value'):\n",
    "        self.format = format_\n",
    "        self.diff = diff\n",
    "    def exchange_rates(self):\n",
    "        self.r = requests.get('https://www.cbr-xml-daily.ru/daily_json.js')\n",
    "        return self.r.json() ['Valute']\n",
    "    def make_format (self, currency):\n",
    "        response = self.exchange_rates()\n",
    "        if currency in response:\n",
    "            if self.format == 'full':\n",
    "                return response[currency]\n",
    "            if self.format == 'value':\n",
    "                if self.diff:\n",
    "                    difference = round((response[currency].get('Previous')-response[currency].get('Value')), 2)\n",
    "                    return difference   \n",
    "                else:\n",
    "                    return response[currency]['Value']\n",
    "        return 'Error'\n",
    "    def eur (self, diff):\n",
    "        return self.make_format('EUR')\n",
    "    def usd(self):\n",
    "        return self.make_format('USD')\n",
    "    def brl(self):\n",
    "        return self.make_format('BRL')\n",
    "    \n",
    "dibi = Rate(format_= 'value')\n",
    "dibi.eur(diff=False)"
   ]
  },
  {
   "cell_type": "code",
   "execution_count": 1,
   "metadata": {},
   "outputs": [
    {
     "name": "stdout",
     "output_type": "stream",
     "text": [
      "Елена 1\n",
      "Елена 1\n",
      "Елена 1\n",
      "Елена 1\n",
      "Елена 1\n",
      "Елена 1\n",
      "Елена 2\n",
      "Елена 2\n",
      "Елена 2\n",
      "Елена 2\n",
      "Елена 2\n",
      "Елена 2\n",
      "Елена 2\n",
      "Елена 3\n",
      "Елена 3\n",
      "Елена 3\n",
      "Елена 3\n",
      "Елена 3\n",
      "Елена 3\n",
      "Елена 3\n"
     ]
    }
   ],
   "source": [
    "class Employee:\n",
    "    def __init__(self, name, seniority):\n",
    "        self.name = name\n",
    "        self.seniority = seniority\n",
    "        self.grade = 1\n",
    "    def grade_up(self):\n",
    "        self.grade+=1\n",
    "    def publish_grade(self):\n",
    "        print(self.name, self.grade)\n",
    "    def check_if_it_is_time_for_upgrade(self):\n",
    "        pass\n",
    "\n",
    "class Designer(Employee):\n",
    "    def __init__(self, name, seniority, awards):\n",
    "        super().__init__(name, seniority)\n",
    "        self.awards=2\n",
    "    def check_if_it_is_time_for_upgrade(self):\n",
    "        self.seniority+=2\n",
    "        if self.seniority % 7 == 0:\n",
    "            self.grade_up()\n",
    "        return self.publish_grade()\n",
    "\n",
    "elena = Designer('Елена', seniority=0, awards=2)\n",
    "for i in range(20):\n",
    "    elena.check_if_it_is_time_for_upgrade()"
   ]
  },
  {
   "cell_type": "code",
   "execution_count": 7,
   "metadata": {},
   "outputs": [
    {
     "name": "stdout",
     "output_type": "stream",
     "text": [
      "[0.2, 0.85, 0.4, 0.79, 0.4, 0.0, 0.0, 0.95, 0.0, 0.0]\n"
     ]
    }
   ],
   "source": [
    "\"\"\"Имеется база покупок Интернет-магазина. Столбец А - ID пользователя, остальные столбцы - \n",
    "количество покупок категорий товаров, совершенных данными пользователями. \n",
    "Найдите самого похожего пользователя. \n",
    "Т. е. посчитайте косинусное сходство между этим пользователем и всеми пользователями из массива user_stats\n",
    "\"\"\"\n",
    "import numpy as np\n",
    "users_stats = np.array(\n",
    "    [\n",
    "        [2, 1, 0, 0, 0, 0],\n",
    "        [1, 1, 2, 1, 0, 0],\n",
    "        [2, 0, 1, 0, 0, 0],\n",
    "        [1, 1, 2, 1, 0, 1],\n",
    "        [0, 0, 1, 2, 0, 0],\n",
    "        [0, 0, 0, 0, 0, 5],\n",
    "        [1, 0, 0, 0, 0, 0],\n",
    "        [0, 1, 1, 0, 0, 0],\n",
    "        [0, 0, 0, 1, 1, 3],\n",
    "        [1, 0, 0, 2, 1, 4]\n",
    "    ], \n",
    "    np.int32\n",
    ")\n",
    "\n",
    "next_user_stats = np.array([0, 1, 2, 0, 0, 0])\n",
    "\n",
    "\n",
    "\n",
    "\n",
    "similarity=[]\n",
    "next_user_stats_lenght = np.linalg.norm(next_user_stats)\n",
    "\n",
    "# перебираем циклом массив:\n",
    "for line in users_stats:\n",
    "    users_stats_lenght = np.linalg.norm(line)              \n",
    "    \n",
    "    # заполняем пустой список элементами: \n",
    "    # элементы similarity - это косинусное сходство каждого покупателя из users_stats с новым покупателем next_user_stats:\n",
    "    new_items = similarity.append(round((np.dot(line, next_user_stats)/(users_stats_lenght*next_user_stats_lenght)), 2))\n",
    "print(similarity)\n",
    "\n"
   ]
  },
  {
   "cell_type": "code",
   "execution_count": 27,
   "metadata": {},
   "outputs": [
    {
     "name": "stdout",
     "output_type": "stream",
     "text": [
      "[0.15811388 0.39528471 0.07905694 0.07905694 0.07905694 0.07905694]\n",
      "[0.372678  0.372678  0.1490712 0.372678  0.0745356 0.0745356]\n",
      "[0.15811388 0.07905694 0.39528471 0.07905694 0.07905694 0.07905694]\n",
      "[0.36273813 0.36273813 0.14509525 0.36273813 0.07254763 0.36273813]\n",
      "[0.07905694 0.07905694 0.39528471 0.15811388 0.07905694 0.07905694]\n",
      "[0.06324555 0.06324555 0.06324555 0.06324555 0.06324555 0.        ]\n",
      "[0.39528471 0.07905694 0.07905694 0.07905694 0.07905694 0.07905694]\n",
      "[0.0766965  0.38348249 0.38348249 0.0766965  0.0766965  0.0766965 ]\n",
      "[0.07352146 0.07352146 0.07352146 0.36760731 0.36760731 0.36760731]\n",
      "[0.38348249 0.0766965  0.0766965  0.153393   0.38348249 0.153393  ]\n"
     ]
    }
   ],
   "source": [
    "import numpy as np\n",
    "users_stats = np.array(\n",
    "    [\n",
    "        [2, 1, 0, 0, 0, 0],\n",
    "        [1, 1, 2, 1, 0, 0],\n",
    "        [2, 0, 1, 0, 0, 0],\n",
    "        [1, 1, 2, 1, 0, 1],\n",
    "        [0, 0, 1, 2, 0, 0],\n",
    "        [0, 0, 0, 0, 0, 5],\n",
    "        [1, 0, 0, 0, 0, 0],\n",
    "        [0, 1, 1, 0, 0, 0],\n",
    "        [0, 0, 0, 1, 1, 3],\n",
    "        [1, 0, 0, 2, 1, 4]\n",
    "    ], \n",
    "    np.int32\n",
    ")\n",
    "\n",
    "next_user_stats = np.array([0, 1, 2, 0, 0, 0])\n",
    "\n",
    "\n",
    "\n",
    "\n",
    "similarity=[]\n",
    "for line in users_stats:\n",
    "    users_stats_lenght = np.linalg.norm(users_stats[line])    \n",
    "    next_user_stats_lenght = np.linalg.norm(next_user_stats)\n",
    "    a = np.dot(users_stats[line], next_user_stats)/(users_stats_lenght*next_user_stats_lenght)\n",
    "    print(a)\n",
    "#     new_it = similarity.append(a)\n",
    "# print(similarity)"
   ]
  },
  {
   "cell_type": "code",
   "execution_count": 25,
   "metadata": {},
   "outputs": [
    {
     "ename": "SyntaxError",
     "evalue": "invalid syntax (<ipython-input-25-b2daa6a141ef>, line 12)",
     "output_type": "error",
     "traceback": [
      "\u001b[1;36m  File \u001b[1;32m\"<ipython-input-25-b2daa6a141ef>\"\u001b[1;36m, line \u001b[1;32m12\u001b[0m\n\u001b[1;33m    new_dict = {(','join(mail[2], mail[3])):int(1) for mail[2] and mail[3] in mails}\u001b[0m\n\u001b[1;37m                       ^\u001b[0m\n\u001b[1;31mSyntaxError\u001b[0m\u001b[1;31m:\u001b[0m invalid syntax\n"
     ]
    }
   ],
   "source": [
    "import re \n",
    "ura = 'test@gmail.com'\n",
    "emails = ['test@gmail.com', 'xyz@test.in', 'test@ya.ru', 'xyz@mail.ru', 'xyz@ya.ru', 'xyz@gmail.com']\n",
    "mail_pattern = r'([A-Za-z0-9]+)(@)([A-Za-z0-9]+).([a-z]+)'\n",
    "\n",
    "i=0\n",
    "my_dict = {}\n",
    "my_list = []\n",
    "for mails in emails:\n",
    "    print(re.findall(mail_pattern, mails))\n",
    "    if mail[2] and mail[3]:\n",
    "        new_dict = {(','join(mail[2], mail[3])):int(1) for mail[2] and mail[3] in mails}\n",
    "        my_dict.update(new_dict)\n",
    "print(my_dict)\n",
    "#     my_list.append(mails)\n",
    "#     new_list = re.findall(mail_pattern, emails(mails))\n"
   ]
  },
  {
   "cell_type": "code",
   "execution_count": 46,
   "metadata": {},
   "outputs": [
    {
     "name": "stdout",
     "output_type": "stream",
     "text": [
      "{'gmail.com': 2, 'test.in': 1, 'ya.ru': 2, 'mail.ru': 1}\n"
     ]
    }
   ],
   "source": [
    "import re \n",
    "emails = ['test@gmail.com', 'xyz@test.in', 'test@ya.ru', 'xyz@mail.ru', 'xyz@ya.ru', 'xyz@gmail.com']\n",
    "\n",
    "\n",
    "def email_counter(emails):\n",
    "    mail_pattern = r'@(\\S+\\w+\\.\\w+)'\n",
    "    my_dict = {}\n",
    "    for mails in emails:\n",
    "        result = re.findall(mail_pattern, mails)\n",
    "        if not result:\n",
    "            continue\n",
    "        domain = result[0]\n",
    "        my_dict.setdefault(domain, 0)\n",
    "        my_dict[domain] += 1 \n",
    "    print(my_dict)\n",
    "\n",
    "email_counter(emails)"
   ]
  },
  {
   "cell_type": "code",
   "execution_count": 43,
   "metadata": {},
   "outputs": [
    {
     "name": "stdout",
     "output_type": "stream",
     "text": [
      "['gmail.com']\n"
     ]
    }
   ],
   "source": [
    "import re \n",
    "emails = ['test@gmail.com', 'xyz@test.in', 'test@ya.ru', 'xyz@mail.ru', 'xyz@ya.ru', 'xyz@gmail.com']\n",
    "mail_pattern = r'@(\\S+\\w+\\.\\w+)'\n",
    "print(re.findall(mail_pattern, mails))"
   ]
  },
  {
   "cell_type": "code",
   "execution_count": null,
   "metadata": {},
   "outputs": [],
   "source": []
  }
 ],
 "metadata": {
  "kernelspec": {
   "display_name": "Python 3",
   "language": "python",
   "name": "python3"
  },
  "language_info": {
   "codemirror_mode": {
    "name": "ipython",
    "version": 3
   },
   "file_extension": ".py",
   "mimetype": "text/x-python",
   "name": "python",
   "nbconvert_exporter": "python",
   "pygments_lexer": "ipython3",
   "version": "3.7.6"
  }
 },
 "nbformat": 4,
 "nbformat_minor": 4
}
