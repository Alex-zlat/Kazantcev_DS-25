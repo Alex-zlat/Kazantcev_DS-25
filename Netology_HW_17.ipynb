{
 "cells": [
  {
   "cell_type": "code",
   "execution_count": 2,
   "metadata": {},
   "outputs": [
    {
     "data": {
      "text/html": [
       "<div>\n",
       "<style scoped>\n",
       "    .dataframe tbody tr th:only-of-type {\n",
       "        vertical-align: middle;\n",
       "    }\n",
       "\n",
       "    .dataframe tbody tr th {\n",
       "        vertical-align: top;\n",
       "    }\n",
       "\n",
       "    .dataframe thead th {\n",
       "        text-align: right;\n",
       "    }\n",
       "</style>\n",
       "<table border=\"1\" class=\"dataframe\">\n",
       "  <thead>\n",
       "    <tr style=\"text-align: right;\">\n",
       "      <th></th>\n",
       "      <th>location</th>\n",
       "      <th>town</th>\n",
       "      <th>mortality</th>\n",
       "      <th>hardness</th>\n",
       "    </tr>\n",
       "  </thead>\n",
       "  <tbody>\n",
       "    <tr>\n",
       "      <th>0</th>\n",
       "      <td>South</td>\n",
       "      <td>Bath</td>\n",
       "      <td>1247</td>\n",
       "      <td>105</td>\n",
       "    </tr>\n",
       "    <tr>\n",
       "      <th>1</th>\n",
       "      <td>North</td>\n",
       "      <td>Birkenhead</td>\n",
       "      <td>1668</td>\n",
       "      <td>17</td>\n",
       "    </tr>\n",
       "    <tr>\n",
       "      <th>2</th>\n",
       "      <td>South</td>\n",
       "      <td>Birmingham</td>\n",
       "      <td>1466</td>\n",
       "      <td>5</td>\n",
       "    </tr>\n",
       "    <tr>\n",
       "      <th>3</th>\n",
       "      <td>North</td>\n",
       "      <td>Blackburn</td>\n",
       "      <td>1800</td>\n",
       "      <td>14</td>\n",
       "    </tr>\n",
       "    <tr>\n",
       "      <th>4</th>\n",
       "      <td>North</td>\n",
       "      <td>Blackpool</td>\n",
       "      <td>1609</td>\n",
       "      <td>18</td>\n",
       "    </tr>\n",
       "    <tr>\n",
       "      <th>...</th>\n",
       "      <td>...</td>\n",
       "      <td>...</td>\n",
       "      <td>...</td>\n",
       "      <td>...</td>\n",
       "    </tr>\n",
       "    <tr>\n",
       "      <th>56</th>\n",
       "      <td>South</td>\n",
       "      <td>Walsall</td>\n",
       "      <td>1527</td>\n",
       "      <td>60</td>\n",
       "    </tr>\n",
       "    <tr>\n",
       "      <th>57</th>\n",
       "      <td>South</td>\n",
       "      <td>West Bromwich</td>\n",
       "      <td>1627</td>\n",
       "      <td>53</td>\n",
       "    </tr>\n",
       "    <tr>\n",
       "      <th>58</th>\n",
       "      <td>South</td>\n",
       "      <td>West Ham</td>\n",
       "      <td>1486</td>\n",
       "      <td>122</td>\n",
       "    </tr>\n",
       "    <tr>\n",
       "      <th>59</th>\n",
       "      <td>South</td>\n",
       "      <td>Wolverhampton</td>\n",
       "      <td>1485</td>\n",
       "      <td>81</td>\n",
       "    </tr>\n",
       "    <tr>\n",
       "      <th>60</th>\n",
       "      <td>North</td>\n",
       "      <td>York</td>\n",
       "      <td>1378</td>\n",
       "      <td>71</td>\n",
       "    </tr>\n",
       "  </tbody>\n",
       "</table>\n",
       "<p>61 rows × 4 columns</p>\n",
       "</div>"
      ],
      "text/plain": [
       "   location           town  mortality  hardness\n",
       "0     South           Bath       1247       105\n",
       "1     North     Birkenhead       1668        17\n",
       "2     South     Birmingham       1466         5\n",
       "3     North      Blackburn       1800        14\n",
       "4     North      Blackpool       1609        18\n",
       "..      ...            ...        ...       ...\n",
       "56    South        Walsall       1527        60\n",
       "57    South  West Bromwich       1627        53\n",
       "58    South       West Ham       1486       122\n",
       "59    South  Wolverhampton       1485        81\n",
       "60    North           York       1378        71\n",
       "\n",
       "[61 rows x 4 columns]"
      ]
     },
     "execution_count": 2,
     "metadata": {},
     "output_type": "execute_result"
    }
   ],
   "source": [
    "\"\"\"Задача - ответить на вопрос есть ли связь между жёсткостью воды и\n",
    "средней годовой смертностью?\n",
    "a. Построить точечный график\n",
    "b. Рассчитать коэффициенты корреляции Пирсона и Спирмена\n",
    "c. Построить модель линейной регрессии\n",
    "d. Рассчитать коэффициент детерминации\n",
    "e. Вывести график остатков\"\"\"\n",
    "\n",
    "from sklearn.datasets import load_boston\n",
    "import pandas as pd\n",
    "import matplotlib.pyplot as plt\n",
    "import seaborn as sns\n",
    "\n",
    "# Признаем диапазон значений коээфициента корреляции: \n",
    "# r>0,01≤0,29 – слабая положительная связь,\n",
    "# r>0,30≤0,69 – умеренная положительная связь,\n",
    "# r>0,70≤1,00 – сильная положительная связь,\n",
    "# r>-0,01≤-0,29 – слабая отрицательная связь,\n",
    "# r>-0,30≤-0,69 – умеренная отрицательная связь,\n",
    "# r>-0,70≤-1,00 – сильная отрицательная связь\n",
    "\n",
    "# Считаем, что на выборке всех рассматриваемых городов между показателями имеется умеренная положительная взаимосвязь. \n",
    "# Ситуация меняется при анализе городов юга и севера в отдельности. И в том, и в другом регионах \n",
    "# знак связи меняется на отрицательную связь двух признаков, т.е. зависимость, если таковая существует, становится обратной. \n",
    "# Причем для юга это выражено больше, чем для севера. В первом случае, на первый взгляд,\n",
    "# имеем умеренную отрицательную связь, во втором (на основании коэффициента Спирмена) - слабую отрицательную связь. \n",
    "# Для последнего по графику (положение стремится к горизонтальному) видно, что связь весьма слабо детерминирована. \n",
    "\n",
    "# Однако в реальности модель для юга непригодна к использованию. Исходим из следующего. \n",
    "# Примем, что влияние изучаемых факторов на результат описывается в той степени, \n",
    "# которую определяет коэффициент детерминации: при значениях выше 0,5 - в достаточной степени, ниже - в низкой степени. \n",
    "# Вывод исходя из расчета коэффициента: общая выборка по Англии и Уэльсу позволяет нам \n",
    "# умеренно принимать тесноту выявленной связи, \n",
    "# по суженным региональным выборкам - этого сказать нельзя. \n",
    "# Отрицательные значения коэффициента для юга говорят о том, что построенная модель хуже наивной. \n",
    "# В случае с севером значение коэффициента столь мало, \n",
    "# что модель лишь в незначительной степени описывает влияение указанного фактора жесткости воды на смертность. \n",
    "\n",
    "hardness_list = pd.read_csv('water.csv').head(61)\n",
    "hardness_list_clear = hardness_list[['location', 'town', 'mortality', 'hardness']]\n",
    "hardness_list_clear"
   ]
  },
  {
   "cell_type": "code",
   "execution_count": 4,
   "metadata": {},
   "outputs": [
    {
     "data": {
      "text/plain": [
       "<matplotlib.axes._subplots.AxesSubplot at 0x1d4f44e1f48>"
      ]
     },
     "execution_count": 4,
     "metadata": {},
     "output_type": "execute_result"
    },
    {
     "data": {
      "image/png": "[encoded data removed]",
      "text/plain": [
       "<Figure size 432x288 with 1 Axes>"
      ]
     },
     "metadata": {
      "needs_background": "light"
     },
     "output_type": "display_data"
    }
   ],
   "source": [
    "# Строим точечный график \n",
    "\n",
    "hardness_list_clear.plot(kind='scatter', x='mortality', y='hardness')"
   ]
  },
  {
   "cell_type": "code",
   "execution_count": 9,
   "metadata": {},
   "outputs": [
    {
     "data": {
      "text/html": [
       "<div>\n",
       "<style scoped>\n",
       "    .dataframe tbody tr th:only-of-type {\n",
       "        vertical-align: middle;\n",
       "    }\n",
       "\n",
       "    .dataframe tbody tr th {\n",
       "        vertical-align: top;\n",
       "    }\n",
       "\n",
       "    .dataframe thead th {\n",
       "        text-align: right;\n",
       "    }\n",
       "</style>\n",
       "<table border=\"1\" class=\"dataframe\">\n",
       "  <thead>\n",
       "    <tr style=\"text-align: right;\">\n",
       "      <th></th>\n",
       "      <th>mortality</th>\n",
       "      <th>hardness</th>\n",
       "    </tr>\n",
       "  </thead>\n",
       "  <tbody>\n",
       "    <tr>\n",
       "      <th>mortality</th>\n",
       "      <td>1.000000</td>\n",
       "      <td>-0.654849</td>\n",
       "    </tr>\n",
       "    <tr>\n",
       "      <th>hardness</th>\n",
       "      <td>-0.654849</td>\n",
       "      <td>1.000000</td>\n",
       "    </tr>\n",
       "  </tbody>\n",
       "</table>\n",
       "</div>"
      ],
      "text/plain": [
       "           mortality  hardness\n",
       "mortality   1.000000 -0.654849\n",
       "hardness   -0.654849  1.000000"
      ]
     },
     "execution_count": 9,
     "metadata": {},
     "output_type": "execute_result"
    }
   ],
   "source": [
    "# Рассчитаем коэффициент корреляции Пирсона \n",
    "\n",
    "hardness_list_clear.corr()"
   ]
  },
  {
   "cell_type": "code",
   "execution_count": 12,
   "metadata": {},
   "outputs": [
    {
     "data": {
      "text/html": [
       "<div>\n",
       "<style scoped>\n",
       "    .dataframe tbody tr th:only-of-type {\n",
       "        vertical-align: middle;\n",
       "    }\n",
       "\n",
       "    .dataframe tbody tr th {\n",
       "        vertical-align: top;\n",
       "    }\n",
       "\n",
       "    .dataframe thead th {\n",
       "        text-align: right;\n",
       "    }\n",
       "</style>\n",
       "<table border=\"1\" class=\"dataframe\">\n",
       "  <thead>\n",
       "    <tr style=\"text-align: right;\">\n",
       "      <th></th>\n",
       "      <th>mortality</th>\n",
       "      <th>hardness</th>\n",
       "    </tr>\n",
       "  </thead>\n",
       "  <tbody>\n",
       "    <tr>\n",
       "      <th>mortality</th>\n",
       "      <td>1.000000</td>\n",
       "      <td>-0.453753</td>\n",
       "    </tr>\n",
       "    <tr>\n",
       "      <th>hardness</th>\n",
       "      <td>-0.453753</td>\n",
       "      <td>1.000000</td>\n",
       "    </tr>\n",
       "  </tbody>\n",
       "</table>\n",
       "</div>"
      ],
      "text/plain": [
       "           mortality  hardness\n",
       "mortality   1.000000 -0.453753\n",
       "hardness   -0.453753  1.000000"
      ]
     },
     "execution_count": 12,
     "metadata": {},
     "output_type": "execute_result"
    }
   ],
   "source": [
    "# Рассчитаем коэффициент корреляции Спирмена\n",
    "\n",
    "hardness_list_clear[['mortality', 'hardness']].corr(method='kendall')"
   ]
  },
  {
   "cell_type": "code",
   "execution_count": 22,
   "metadata": {},
   "outputs": [
    {
     "data": {
      "text/plain": [
       "1668.97"
      ]
     },
     "execution_count": 22,
     "metadata": {},
     "output_type": "execute_result"
    }
   ],
   "source": [
    "# Построим модель линейной регрессии:\n",
    "# изучаем связь жесткости воды и среднегодовой смертности \n",
    "# уравление регрессии принимает вид (расчет далее): y = -3.13167087 * x + 1668.97\n",
    "\n",
    "from sklearn.linear_model import LinearRegression\n",
    "from sklearn.model_selection import train_test_split\n",
    "\n",
    "X = hardness_list_clear[['hardness']]\n",
    "y = hardness_list_clear['mortality']\n",
    "X_train, X_test, y_train, y_test = train_test_split(X, y, test_size=0.30, random_state=42)\n",
    "model = LinearRegression()\n",
    "model.fit(X_train, y_train) \n",
    "model.coef_\n",
    "round(model.intercept_, 2)"
   ]
  },
  {
   "cell_type": "code",
   "execution_count": 24,
   "metadata": {},
   "outputs": [
    {
     "data": {
      "text/plain": [
       "array([1340.14685615, 1637.65558901, 1625.12890552, 1531.17877935,\n",
       "       1424.7019697 , 1606.33888028, 1252.46007173, 1434.09698232,\n",
       "       1603.20720941, 1650.18227249, 1484.20371627, 1415.30695708,\n",
       "       1546.83713371, 1625.12890552, 1446.62366581, 1546.83713371,\n",
       "       1637.65558901, 1621.99723465, 1352.67353964])"
      ]
     },
     "execution_count": 24,
     "metadata": {},
     "output_type": "execute_result"
    }
   ],
   "source": [
    "# Получим прогнозные значения\n",
    "\n",
    "y_pred = model.predict(X_test)\n",
    "y_pred"
   ]
  },
  {
   "cell_type": "code",
   "execution_count": 26,
   "metadata": {},
   "outputs": [
    {
     "data": {
      "text/plain": [
       "0.5046490611017092"
      ]
     },
     "execution_count": 26,
     "metadata": {},
     "output_type": "execute_result"
    }
   ],
   "source": [
    "# Рассчитаем коэффициент детерминации, демонстрирующий нам уровень ошибки прогноза\n",
    "# получаем ошибку в половне случаев\n",
    "\n",
    "model.score(X_test, y_test)"
   ]
  },
  {
   "cell_type": "code",
   "execution_count": 34,
   "metadata": {},
   "outputs": [
    {
     "name": "stdout",
     "output_type": "stream",
     "text": [
      "mae: 105.84524344593149\n"
     ]
    },
    {
     "data": {
      "text/plain": [
       "[<matplotlib.lines.Line2D at 0x1d4f4c9ac48>]"
      ]
     },
     "execution_count": 34,
     "metadata": {},
     "output_type": "execute_result"
    },
    {
     "data": {
      "image/png": "[encoded data removed]",
      "text/plain": [
       "<Figure size 432x288 with 1 Axes>"
      ]
     },
     "metadata": {
      "needs_background": "light"
     },
     "output_type": "display_data"
    }
   ],
   "source": [
    "# Выведем график остатков (ошибок)\n",
    "# для этого найдем разницу между y_test - y_pred\n",
    "\n",
    "from sklearn.metrics import mean_absolute_error\n",
    "\n",
    "# считаем абсолютную ошибку прогноза (также есть метод просчета среднеквадратич. ошибки: mse = mean_squared_error(y_test, y_pred))\n",
    "mae = mean_absolute_error(y_test, y_pred)    \n",
    "print(f'mae: {mae}')  \n",
    "\n",
    "# Рассчитываем разницу между фактической величиной смертности и предсказанной:\n",
    "diff_ = y_test - y_pred\n",
    "diff_\n",
    "\n",
    "# Строим графики: прогнозный тренд и рассеяние ошибок по их абсолютной величине \n",
    "plt.scatter(X_test, diff_)\n",
    "plt.plot(X_test, y_pred, c='r')"
   ]
  },
  {
   "cell_type": "code",
   "execution_count": 39,
   "metadata": {},
   "outputs": [
    {
     "data": {
      "text/html": [
       "<div>\n",
       "<style scoped>\n",
       "    .dataframe tbody tr th:only-of-type {\n",
       "        vertical-align: middle;\n",
       "    }\n",
       "\n",
       "    .dataframe tbody tr th {\n",
       "        vertical-align: top;\n",
       "    }\n",
       "\n",
       "    .dataframe thead th {\n",
       "        text-align: right;\n",
       "    }\n",
       "</style>\n",
       "<table border=\"1\" class=\"dataframe\">\n",
       "  <thead>\n",
       "    <tr style=\"text-align: right;\">\n",
       "      <th></th>\n",
       "      <th>location</th>\n",
       "      <th>town</th>\n",
       "      <th>mortality</th>\n",
       "      <th>hardness</th>\n",
       "    </tr>\n",
       "  </thead>\n",
       "  <tbody>\n",
       "    <tr>\n",
       "      <th>0</th>\n",
       "      <td>South</td>\n",
       "      <td>Bath</td>\n",
       "      <td>1247</td>\n",
       "      <td>105</td>\n",
       "    </tr>\n",
       "    <tr>\n",
       "      <th>2</th>\n",
       "      <td>South</td>\n",
       "      <td>Birmingham</td>\n",
       "      <td>1466</td>\n",
       "      <td>5</td>\n",
       "    </tr>\n",
       "    <tr>\n",
       "      <th>7</th>\n",
       "      <td>South</td>\n",
       "      <td>Bournemouth</td>\n",
       "      <td>1299</td>\n",
       "      <td>78</td>\n",
       "    </tr>\n",
       "    <tr>\n",
       "      <th>9</th>\n",
       "      <td>South</td>\n",
       "      <td>Brighton</td>\n",
       "      <td>1359</td>\n",
       "      <td>84</td>\n",
       "    </tr>\n",
       "    <tr>\n",
       "      <th>10</th>\n",
       "      <td>South</td>\n",
       "      <td>Bristol</td>\n",
       "      <td>1392</td>\n",
       "      <td>73</td>\n",
       "    </tr>\n",
       "    <tr>\n",
       "      <th>12</th>\n",
       "      <td>South</td>\n",
       "      <td>Cardiff</td>\n",
       "      <td>1519</td>\n",
       "      <td>21</td>\n",
       "    </tr>\n",
       "    <tr>\n",
       "      <th>13</th>\n",
       "      <td>South</td>\n",
       "      <td>Coventry</td>\n",
       "      <td>1307</td>\n",
       "      <td>78</td>\n",
       "    </tr>\n",
       "    <tr>\n",
       "      <th>14</th>\n",
       "      <td>South</td>\n",
       "      <td>Croydon</td>\n",
       "      <td>1254</td>\n",
       "      <td>96</td>\n",
       "    </tr>\n",
       "    <tr>\n",
       "      <th>18</th>\n",
       "      <td>South</td>\n",
       "      <td>East Ham</td>\n",
       "      <td>1318</td>\n",
       "      <td>122</td>\n",
       "    </tr>\n",
       "    <tr>\n",
       "      <th>19</th>\n",
       "      <td>South</td>\n",
       "      <td>Exeter</td>\n",
       "      <td>1260</td>\n",
       "      <td>21</td>\n",
       "    </tr>\n",
       "    <tr>\n",
       "      <th>25</th>\n",
       "      <td>South</td>\n",
       "      <td>Ipswich</td>\n",
       "      <td>1096</td>\n",
       "      <td>138</td>\n",
       "    </tr>\n",
       "    <tr>\n",
       "      <th>27</th>\n",
       "      <td>South</td>\n",
       "      <td>Leicester</td>\n",
       "      <td>1402</td>\n",
       "      <td>37</td>\n",
       "    </tr>\n",
       "    <tr>\n",
       "      <th>32</th>\n",
       "      <td>South</td>\n",
       "      <td>Newport</td>\n",
       "      <td>1581</td>\n",
       "      <td>14</td>\n",
       "    </tr>\n",
       "    <tr>\n",
       "      <th>33</th>\n",
       "      <td>South</td>\n",
       "      <td>Northampton</td>\n",
       "      <td>1309</td>\n",
       "      <td>59</td>\n",
       "    </tr>\n",
       "    <tr>\n",
       "      <th>34</th>\n",
       "      <td>South</td>\n",
       "      <td>Norwich</td>\n",
       "      <td>1259</td>\n",
       "      <td>133</td>\n",
       "    </tr>\n",
       "    <tr>\n",
       "      <th>37</th>\n",
       "      <td>South</td>\n",
       "      <td>Oxford</td>\n",
       "      <td>1175</td>\n",
       "      <td>107</td>\n",
       "    </tr>\n",
       "    <tr>\n",
       "      <th>38</th>\n",
       "      <td>South</td>\n",
       "      <td>Plymouth</td>\n",
       "      <td>1486</td>\n",
       "      <td>5</td>\n",
       "    </tr>\n",
       "    <tr>\n",
       "      <th>39</th>\n",
       "      <td>South</td>\n",
       "      <td>Portsmouth</td>\n",
       "      <td>1456</td>\n",
       "      <td>90</td>\n",
       "    </tr>\n",
       "    <tr>\n",
       "      <th>41</th>\n",
       "      <td>South</td>\n",
       "      <td>Reading</td>\n",
       "      <td>1236</td>\n",
       "      <td>101</td>\n",
       "    </tr>\n",
       "    <tr>\n",
       "      <th>47</th>\n",
       "      <td>South</td>\n",
       "      <td>Southampton</td>\n",
       "      <td>1369</td>\n",
       "      <td>68</td>\n",
       "    </tr>\n",
       "    <tr>\n",
       "      <th>48</th>\n",
       "      <td>South</td>\n",
       "      <td>Southend</td>\n",
       "      <td>1257</td>\n",
       "      <td>50</td>\n",
       "    </tr>\n",
       "    <tr>\n",
       "      <th>54</th>\n",
       "      <td>South</td>\n",
       "      <td>Swansea</td>\n",
       "      <td>1625</td>\n",
       "      <td>13</td>\n",
       "    </tr>\n",
       "    <tr>\n",
       "      <th>56</th>\n",
       "      <td>South</td>\n",
       "      <td>Walsall</td>\n",
       "      <td>1527</td>\n",
       "      <td>60</td>\n",
       "    </tr>\n",
       "    <tr>\n",
       "      <th>57</th>\n",
       "      <td>South</td>\n",
       "      <td>West Bromwich</td>\n",
       "      <td>1627</td>\n",
       "      <td>53</td>\n",
       "    </tr>\n",
       "    <tr>\n",
       "      <th>58</th>\n",
       "      <td>South</td>\n",
       "      <td>West Ham</td>\n",
       "      <td>1486</td>\n",
       "      <td>122</td>\n",
       "    </tr>\n",
       "    <tr>\n",
       "      <th>59</th>\n",
       "      <td>South</td>\n",
       "      <td>Wolverhampton</td>\n",
       "      <td>1485</td>\n",
       "      <td>81</td>\n",
       "    </tr>\n",
       "  </tbody>\n",
       "</table>\n",
       "</div>"
      ],
      "text/plain": [
       "   location           town  mortality  hardness\n",
       "0     South           Bath       1247       105\n",
       "2     South     Birmingham       1466         5\n",
       "7     South    Bournemouth       1299        78\n",
       "9     South       Brighton       1359        84\n",
       "10    South        Bristol       1392        73\n",
       "12    South        Cardiff       1519        21\n",
       "13    South       Coventry       1307        78\n",
       "14    South        Croydon       1254        96\n",
       "18    South       East Ham       1318       122\n",
       "19    South         Exeter       1260        21\n",
       "25    South        Ipswich       1096       138\n",
       "27    South      Leicester       1402        37\n",
       "32    South        Newport       1581        14\n",
       "33    South    Northampton       1309        59\n",
       "34    South        Norwich       1259       133\n",
       "37    South         Oxford       1175       107\n",
       "38    South       Plymouth       1486         5\n",
       "39    South     Portsmouth       1456        90\n",
       "41    South        Reading       1236       101\n",
       "47    South    Southampton       1369        68\n",
       "48    South       Southend       1257        50\n",
       "54    South        Swansea       1625        13\n",
       "56    South        Walsall       1527        60\n",
       "57    South  West Bromwich       1627        53\n",
       "58    South       West Ham       1486       122\n",
       "59    South  Wolverhampton       1485        81"
      ]
     },
     "execution_count": 39,
     "metadata": {},
     "output_type": "execute_result"
    }
   ],
   "source": [
    "\"\"\"2 Задание.\n",
    "Сохраняется ли аналогичная зависимость для северных и южных городов по отдельности?\n",
    "\n",
    "Разделить данные на 2 группы\n",
    "Повторить аналогичные шаги из пункта 1 для каждой группы по отдельности\"\"\"\n",
    "\n",
    "region_filter = 'South'\n",
    "hardness_list_south = hardness_list_clear.query('location == @region_filter')\n",
    "hardness_list_south"
   ]
  },
  {
   "cell_type": "code",
   "execution_count": 41,
   "metadata": {},
   "outputs": [
    {
     "data": {
      "text/plain": [
       "<matplotlib.axes._subplots.AxesSubplot at 0x1d4f4f73a48>"
      ]
     },
     "execution_count": 41,
     "metadata": {},
     "output_type": "execute_result"
    },
    {
     "data": {
      "image/png": "[encoded data removed]",
      "text/plain": [
       "<Figure size 432x288 with 1 Axes>"
      ]
     },
     "metadata": {
      "needs_background": "light"
     },
     "output_type": "display_data"
    }
   ],
   "source": [
    "# Строим точечный график зависимости смертности и жесткости воды: визуально зависимость слаба \n",
    "\n",
    "hardness_list_south.plot(kind='scatter', x='mortality', y='hardness')"
   ]
  },
  {
   "cell_type": "code",
   "execution_count": 45,
   "metadata": {},
   "outputs": [
    {
     "name": "stdout",
     "output_type": "stream",
     "text": [
      "           mortality  hardness\n",
      "mortality   1.000000 -0.602153\n",
      "hardness   -0.602153  1.000000\n",
      "\n",
      "           mortality  hardness\n",
      "mortality   1.000000 -0.440315\n",
      "hardness   -0.440315  1.000000\n"
     ]
    }
   ],
   "source": [
    "# Рассчитаем коэффициенты корреляции Пирсона и Спирмена для южного региона\n",
    "\n",
    "print(hardness_list_south.corr())\n",
    "print()\n",
    "print(hardness_list_south[['mortality', 'hardness']].corr(method='kendall'))"
   ]
  },
  {
   "cell_type": "code",
   "execution_count": 46,
   "metadata": {},
   "outputs": [
    {
     "name": "stdout",
     "output_type": "stream",
     "text": [
      "[-3.51342921]\n",
      "1640.22\n"
     ]
    }
   ],
   "source": [
    "# Построим модель линейной регрессии, основанную на данных южного региона:\n",
    "# изучаем связь жесткости воды и среднегодовой смертности в этой местности\n",
    "# уравление регрессии принимает вид (расчет далее): y = -3.51342921 * x + 1640.22\n",
    "\n",
    "X = hardness_list_south[['hardness']]\n",
    "y = hardness_list_south['mortality']\n",
    "X_train, X_test, y_train, y_test = train_test_split(X, y, test_size=0.30, random_state=42)\n",
    "model = LinearRegression()\n",
    "model.fit(X_train, y_train) \n",
    "print(model.coef_)\n",
    "print(round(model.intercept_, 2))"
   ]
  },
  {
   "cell_type": "code",
   "execution_count": 48,
   "metadata": {},
   "outputs": [
    {
     "data": {
      "text/plain": [
       "-2.5519223012352077"
      ]
     },
     "execution_count": 48,
     "metadata": {},
     "output_type": "execute_result"
    }
   ],
   "source": [
    "# вычислим прогнозные значения для юга,\n",
    "# рассчитаем коэффициент детерминации, демонстрирующий нам уровень ошибки прогноза\n",
    "# коэффициент детерминации носит отрицательное значение\n",
    "\n",
    "y_pred = model.predict(X_test)\n",
    "model.score(X_test, y_test)"
   ]
  },
  {
   "cell_type": "code",
   "execution_count": 50,
   "metadata": {},
   "outputs": [
    {
     "name": "stdout",
     "output_type": "stream",
     "text": [
      "mae: 154.63037398973606\n"
     ]
    },
    {
     "data": {
      "text/plain": [
       "[<matplotlib.lines.Line2D at 0x1d4f4b07548>]"
      ]
     },
     "execution_count": 50,
     "metadata": {},
     "output_type": "execute_result"
    },
    {
     "data": {
      "image/png": "[encoded data removed]",
      "text/plain": [
       "<Figure size 432x288 with 1 Axes>"
      ]
     },
     "metadata": {
      "needs_background": "light"
     },
     "output_type": "display_data"
    }
   ],
   "source": [
    "# Выведем график остатков (ошибок)\n",
    "# для этого найдем разницу между y_test - y_pred\n",
    "\n",
    "\n",
    "# считаем абсолютную ошибку прогноза \n",
    "mae = mean_absolute_error(y_test, y_pred)    \n",
    "print(f'mae: {mae}')  \n",
    "\n",
    "# Рассчитываем разницу между фактической величиной смертности и предсказанной:\n",
    "diff_s = y_test - y_pred\n",
    "\n",
    "# Строим графики: прогнозный тренд и рассеяние ошибок по их абсолютной величине \n",
    "plt.scatter(X_test, diff_s)\n",
    "plt.plot(X_test, y_pred, c='r')"
   ]
  },
  {
   "cell_type": "code",
   "execution_count": 52,
   "metadata": {},
   "outputs": [
    {
     "data": {
      "text/plain": [
       "<matplotlib.axes._subplots.AxesSubplot at 0x1d4f6093a88>"
      ]
     },
     "execution_count": 52,
     "metadata": {},
     "output_type": "execute_result"
    },
    {
     "data": {
      "image/png": "[encoded data removed]",
      "text/plain": [
       "<Figure size 432x288 with 1 Axes>"
      ]
     },
     "metadata": {
      "needs_background": "light"
     },
     "output_type": "display_data"
    }
   ],
   "source": [
    "# Проведем расчеты для севера\n",
    "\n",
    "region_filter = 'North'\n",
    "hardness_list_north = hardness_list_clear.query('location == @region_filter')\n",
    "\n",
    "# Построим точечный график \n",
    "hardness_list_north.plot(kind='scatter', x='mortality', y='hardness')"
   ]
  },
  {
   "cell_type": "code",
   "execution_count": 53,
   "metadata": {},
   "outputs": [
    {
     "name": "stdout",
     "output_type": "stream",
     "text": [
      "           mortality  hardness\n",
      "mortality   1.000000 -0.368598\n",
      "hardness   -0.368598  1.000000\n",
      "\n",
      "           mortality  hardness\n",
      "mortality   1.000000 -0.283058\n",
      "hardness   -0.283058  1.000000\n"
     ]
    }
   ],
   "source": [
    "# Исчислим коэффициенты корреляции Пирсона и Спирмена для южного региона\n",
    "\n",
    "print(hardness_list_north.corr())\n",
    "print()\n",
    "print(hardness_list_north[['mortality', 'hardness']].corr(method='kendall'))"
   ]
  },
  {
   "cell_type": "code",
   "execution_count": 54,
   "metadata": {},
   "outputs": [
    {
     "name": "stdout",
     "output_type": "stream",
     "text": [
      "[-1.97686226]\n",
      "1688.15\n"
     ]
    }
   ],
   "source": [
    "# Построим модель линейной регрессии, основанную на данных северного региона:\n",
    "# изучаем связь жесткости воды и среднегодовой смертности в этой местности\n",
    "# уравление регрессии принимает вид (расчет далее): y = -1.97686226 * x + 1688.15\n",
    "\n",
    "X = hardness_list_north[['hardness']]\n",
    "y = hardness_list_north['mortality']\n",
    "X_train, X_test, y_train, y_test = train_test_split(X, y, test_size=0.30, random_state=42)\n",
    "model = LinearRegression()\n",
    "model.fit(X_train, y_train) \n",
    "print(model.coef_)\n",
    "print(round(model.intercept_, 2))"
   ]
  },
  {
   "cell_type": "code",
   "execution_count": 55,
   "metadata": {},
   "outputs": [
    {
     "data": {
      "text/plain": [
       "0.018885304285745863"
      ]
     },
     "execution_count": 55,
     "metadata": {},
     "output_type": "execute_result"
    }
   ],
   "source": [
    "# вычислим прогнозные значения для севера,\n",
    "# рассчитаем коэффициент детерминации, демонстрирующий нам уровень ошибки прогноза\n",
    "# коэффициент детерминации демонстрирует очень слабую взаимосвязь\n",
    "\n",
    "y_pred = model.predict(X_test)\n",
    "model.score(X_test, y_test)"
   ]
  },
  {
   "cell_type": "code",
   "execution_count": 56,
   "metadata": {},
   "outputs": [
    {
     "name": "stdout",
     "output_type": "stream",
     "text": [
      "mae: 129.91272273372297\n"
     ]
    },
    {
     "data": {
      "text/plain": [
       "[<matplotlib.lines.Line2D at 0x1d4f4ffa2c8>]"
      ]
     },
     "execution_count": 56,
     "metadata": {},
     "output_type": "execute_result"
    },
    {
     "data": {
      "image/png": "[encoded data removed]",
      "text/plain": [
       "<Figure size 432x288 with 1 Axes>"
      ]
     },
     "metadata": {
      "needs_background": "light"
     },
     "output_type": "display_data"
    }
   ],
   "source": [
    "# Выведем график остатков (ошибок) по северному региону\n",
    "# для этого найдем разницу между y_test - y_pred\n",
    "\n",
    "\n",
    "# считаем абсолютную ошибку прогноза по северу\n",
    "mae = mean_absolute_error(y_test, y_pred)    \n",
    "print(f'mae: {mae}')  \n",
    "\n",
    "# Рассчитываем разницу между фактической величиной смертности на севере и предсказанной:\n",
    "diff_s = y_test - y_pred\n",
    "\n",
    "# Строим графики: прогнозный тренд севера и рассеяние ошибок по их абсолютной величине \n",
    "# график стремится к горизонтальной линии, что, видимо, свидетельствует о слабой детерминированности признаков \n",
    "plt.scatter(X_test, diff_s)\n",
    "plt.plot(X_test, y_pred, c='r')"
   ]
  }
 ],
 "metadata": {
  "kernelspec": {
   "display_name": "Python 3",
   "language": "python",
   "name": "python3"
  },
  "language_info": {
   "codemirror_mode": {
    "name": "ipython",
    "version": 3
   },
   "file_extension": ".py",
   "mimetype": "text/x-python",
   "name": "python",
   "nbconvert_exporter": "python",
   "pygments_lexer": "ipython3",
   "version": "3.7.6"
  }
 },
 "nbformat": 4,
 "nbformat_minor": 4
}
