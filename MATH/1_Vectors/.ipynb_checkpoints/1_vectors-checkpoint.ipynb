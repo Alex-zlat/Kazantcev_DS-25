{
 "cells": [
  {
   "cell_type": "code",
   "execution_count": 19,
   "metadata": {},
   "outputs": [
    {
     "data": {
      "text/plain": [
       "45.00000000000001"
      ]
     },
     "execution_count": 19,
     "metadata": {},
     "output_type": "execute_result"
    },
    {
     "data": {
      "image/png": "[encoded data removed]",
      "text/plain": [
       "<Figure size 432x288 with 1 Axes>"
      ]
     },
     "metadata": {
      "needs_background": "light"
     },
     "output_type": "display_data"
    }
   ],
   "source": [
    "\"\"\"\"Линейная алгебра. Векторы\".¶\n",
    "Даны вектора x = (1,1), y = (2, 0) и z = (0,2)\n",
    "\n",
    "Надо:\n",
    "Изобразить вектора на экране\n",
    "Изобразить точку x + y + z\n",
    "Найти угол между векторами x и y\n",
    "\"\"\"\n",
    "\n",
    "import numpy as np\n",
    "import matplotlib.pyplot as plt  \n",
    "import math\n",
    "\n",
    "x = np.array([1., 1.])\n",
    "y = np.array([2., 0.])\n",
    "z = np.array([0., 2.])\n",
    "\n",
    "# Изобразим на графике точки, заданные как векторы x, y и z\n",
    "plt.figure()\n",
    "plt.plot(x[0], x[1], 'o')\n",
    "plt.plot(y[0], y[1], 'o')\n",
    "plt.plot(z[0], z[1], 'o')\n",
    "\n",
    "# Изобразим на графике точку c, которая представляет собой сумму трех векторов \n",
    "c = x+y+z\n",
    "plt.plot(c[0], c[1], 'o')\n",
    "\n",
    "# Найдем угол между векторами. Используем формулу: (x , y) = |x|*|y|*cos θ, где cos θ - косинус угла между векторами.\n",
    "# Применим следующий алгоритм:\n",
    "# 1) рассчитаем скалярное произведение векторов np.dot(x,y)\n",
    "# 2) найдем длины векторов\n",
    "# 3) разделим скалярное произведение на произведение длин векторов - получим косинус\n",
    "# 4) найдем угол, зная значение его косинуса \n",
    "\n",
    "scalyar = np.dot(x,y)                  # Находим скалярное произведение двух векторов\n",
    "scalyar_x = np.dot(x,x)                # Находим скалярное произведение вектора x самого на себя (получим квадрат длины вектора)\n",
    "scalyar_y = np.dot(y,y)                # Находим скалярное произведение вектора y самого на себя (получим квадрат длины вектора)\n",
    "root_x = math.sqrt(scalyar_x)          # Извлечем квадратный корень из длины вектора x\n",
    "root_y = math.sqrt(scalyar_y)          # Извлечем корень из длины вектора y\n",
    "multiplying_x_y = root_x*root_y        # Получим произведение длин двух векторов \n",
    "cos_x_y = scalyar/multiplying_x_y      # Получаем значение косинуса (для этого делим скалярное произведение на произведение длин векторов)\n",
    "angle = np.rad2deg(np.arccos(cos_x_y)) # Зная значение косинуса, найдем угол, \"создавший\" этот косинус \n",
    "angle"
   ]
  }
 ],
 "metadata": {
  "kernelspec": {
   "display_name": "Python 3",
   "language": "python",
   "name": "python3"
  },
  "language_info": {
   "codemirror_mode": {
    "name": "ipython",
    "version": 3
   },
   "file_extension": ".py",
   "mimetype": "text/x-python",
   "name": "python",
   "nbconvert_exporter": "python",
   "pygments_lexer": "ipython3",
   "version": "3.7.6"
  }
 },
 "nbformat": 4,
 "nbformat_minor": 4
}
