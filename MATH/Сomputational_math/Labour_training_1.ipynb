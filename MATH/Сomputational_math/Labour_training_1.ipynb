{
 "cells": [
  {
   "cell_type": "code",
   "execution_count": 1,
   "metadata": {},
   "outputs": [],
   "source": [
    "\"\"\"Лабораторная № 1\n",
    "Задание 1\n",
    "Решение уравнений с одной переменной\"\"\"\n",
    "\n",
    "import numpy as np\n",
    "import time\n",
    "\n",
    "def print_dichotomy(dichotomy):\n",
    "    def wrapper(a,b,n, eps):\n",
    "        start_time = time.time()\n",
    "        res = list(dichotomy(a,b,n, eps))\n",
    "        func = ', '.join(map(lambda x: f'{f(x):.4f}', res))\n",
    "        print('Затраченное время по версии модуля time: %s секунды' % (time.time() - start_time))\n",
    "        print('Корни по методу дихотомии находятся в точках:')\n",
    "        print(', '.join(map(lambda x: f'{x:.4f}', res)))\n",
    "        print('Значения функции составляют:\\n', func)\n",
    "        print('Количество значений функции: ', len(func.split() ) )\n",
    "        print('Количество итераций: ', counter)\n",
    "        print('Заданная точность по аргументу: ', eps)\n",
    "    return wrapper"
   ]
  },
  {
   "cell_type": "code",
   "execution_count": 2,
   "metadata": {},
   "outputs": [],
   "source": [
    "def f(x):\n",
    "    return 1.2-np.log(x)-4*np.cos(2*x)"
   ]
  },
  {
   "cell_type": "code",
   "execution_count": 3,
   "metadata": {},
   "outputs": [],
   "source": [
    "@print_dichotomy\n",
    "def dichotomy(a, b, n, eps):  \n",
    "    \"\"\"\n",
    "    Функция отделения и уточнения корня.\n",
    "    Передаются параметры: отрезок от a до b делим на n частей, погрешность eps\n",
    "    \"\"\"\n",
    "\n",
    "    global counter\n",
    "    assert a != 0, 'a равно 0'\n",
    "    assert b != 0, 'b равно 0'\n",
    "\n",
    "    # сначала отделим корни\n",
    "    grid = np.linspace(a, b, n)\n",
    "\n",
    "    # далее уточним корни\n",
    "    counter = 0\n",
    "    for x, y in zip(grid, grid[1:]):\n",
    "        # если на отрезке нет корня, смотрим следующий\n",
    "        if f(x) * f(y) > 0:  \n",
    "            continue\n",
    "        root = None\n",
    "        # пока отрезок больше заданной погрешности, выполняем нижестоящие операции:\n",
    "        while (abs(f(y) - f(x))) > eps:\n",
    "            # получаем середину отрезка\n",
    "            mid = (y + x) / 2\n",
    "            # пополним счетчик итераций на единицу:\n",
    "            counter += 1\n",
    "            # если функция в середине отрезка равну нулю или меньше погрешности:\n",
    "            if f(mid) == 0 or f(mid) < eps:\n",
    "                # корень равень серединному значению:\n",
    "                root = mid  \n",
    "                break\n",
    "            # иначе если произведение функции в середине отрезка на функцию в т. а <0:\n",
    "            elif (f(mid) * f(x)) < 0:\n",
    "                # серединой становится точка b:\n",
    "                y = mid  \n",
    "            else:\n",
    "                # в другом случае — точка а:\n",
    "                x = mid  \n",
    "        if root:\n",
    "            yield root"
   ]
  },
  {
   "cell_type": "code",
   "execution_count": 4,
   "metadata": {},
   "outputs": [
    {
     "name": "stdout",
     "output_type": "stream",
     "text": [
      "Затраченное время по версии модуля time: 0.13434815406799316 секунды\n",
      "Корни по методу дихотомии находятся в точках:\n",
      "0.0639, 0.5527, 2.3978, 3.9480, 5.4381, 7.1633, 8.5206, 10.3536, 11.6237, 13.5289, 14.7340, 16.6992, 17.8493, 19.8645, 20.9665, 23.0286, 24.0900, 26.1889, 27.2121, 29.3455, 30.3378, 32.5045, 33.4659, 35.6598, 36.5924, 38.8152, 39.7215, 41.9695, 42.8518, 45.1220, 45.9821, 48.2755, 49.1124\n",
      "Значения функции составляют:\n",
      " -0.0163, -0.0024, -0.0073, -0.0053, -0.0173, -0.0157, -0.0013, -0.0055, -0.0158, -0.0170, -0.0175, -0.0145, -0.0159, -0.0161, -0.0013, -0.0046, -0.0125, -0.0035, -0.0007, -0.0156, -0.0018, -0.0017, -0.0109, -0.0050, -0.0029, -0.0023, -0.0054, -0.0005, -0.0110, -0.0061, -0.0125, -0.0025, -0.0107\n",
      "Количество значений функции:  33\n",
      "Количество итераций:  55\n",
      "Заданная точность по аргументу:  1e-06\n"
     ]
    }
   ],
   "source": [
    "dichotomy(0.0001, 50, 10000, 0.000001)"
   ]
  },
  {
   "cell_type": "code",
   "execution_count": 8,
   "metadata": {},
   "outputs": [],
   "source": [
    "\"\"\"Лабораторная № 1\n",
    "Задание 2\n",
    "Решение систем линейных уравнений\"\"\"\n",
    "\n",
    "# import numpy as np\n",
    "\n",
    "def print_gaussFunc(make_identity):\n",
    "    def gaussFunc(matrix):\n",
    "        \"\"\"\n",
    "        Функция меняет матрицу через побочные эффекты.\n",
    "        Если нам потребуется сохранить прежнюю матрицу, можно скопировать её методом np.copy\n",
    "        Это прямой ход метода Гаусса \n",
    "        \"\"\"\n",
    "\n",
    "        for nrow, row in enumerate(matrix):\n",
    "            # nrow равен номеру строки\n",
    "            # row содержит саму строку матрицы\n",
    "            # перед тем, как делить на диагональный элемент, сначала просмотрим все строки, начиная с текущей, вниз:\n",
    "            # выберем строку с максимальным значением в текущей колонке и переставим с текущей. После чего продолжим.\n",
    "            # Это надо сделать перед делением на диагональный элемент, т.к.\n",
    "            # в ходе вычислений на диагонали может оказаться ноль.\n",
    "            # Цикл поиска максимума в столбце:\n",
    "\n",
    "            max_elem = abs(row[nrow])\n",
    "            max_row = nrow\n",
    "            # хранит размер матрицы matrix n (len(matrix[:, 0]) - количество строк в столбце 0\n",
    "            for i in range(nrow + 1, len(matrix)): \n",
    "                # matrix[i][nrow] проходит по элементам под главной диагональю:\n",
    "                if abs(matrix[i][nrow]) > abs(max_elem):  \n",
    "                    max_elem = matrix[i][nrow]\n",
    "                    # фиксируем строку с макс. элементом:\n",
    "                    max_row = i  \n",
    "            if max_row != nrow:\n",
    "                # меняем текущую строку со строкой, в которой максимум (реализация swap()):\n",
    "                matrix[nrow], matrix[max_row] = matrix[max_row], np.copy(matrix[nrow])\n",
    "                # также можно использовать такую реализацию перестановки строк с индексным массивом:\n",
    "                # matrix[[nrow, max_row]] = matrix[[max_row, nrow]]\n",
    "            row = matrix[nrow]\n",
    "            # диагональный элемент\n",
    "            divider = row[nrow]  \n",
    "            if abs(divider) < 1e-10:\n",
    "                # почти ноль на диагонали. Продолжать не имеет смысла, результат счёта неустойчив\n",
    "                raise ValueError(f\"Матрица несовместна. Максимальный элемент в столбце {nrow}: {divider:.3g}\")\n",
    "            # делим на диагональный элемент:\n",
    "            row /= divider\n",
    "            # теперь вычтем приведённую строку из всех нижележащих строк:\n",
    "            for lower_row in matrix[nrow+1:]:\n",
    "                # элемент строки в колонке nrow (другая запись matrix[i][nrow])\n",
    "                factor = lower_row[nrow]  \n",
    "                # вычитаем, чтобы получить ноль в колонке nrow\n",
    "                lower_row -= factor * row  \n",
    "        # все строки матрицы изменились, в принципе, можно и не возвращать\n",
    "        print('Матрица, полученная методом Гаусса (промежуточная матрица):\\n', matrix)\n",
    "        make_identity(np.copy(matrix))\n",
    "    return gaussFunc\n"
   ]
  },
  {
   "cell_type": "code",
   "execution_count": 9,
   "metadata": {},
   "outputs": [],
   "source": [
    "@print_gaussFunc\n",
    "def make_identity(gauss_matrix):\n",
    "    \"\"\"Функция берёт матрицу, полученную методом Гаусса, и доводит её до единичной.\n",
    "    Для этого строки перебираются снизу вверх и вычитаются из вышележащих строк,\n",
    "    чтобы обнулить соответствующие колонки\"\"\"\n",
    "    # перебор строк в обратном порядке (старт: len(matrix)-1; стоп: 0; шаг: -1, т.е. обратный ход):\n",
    "    for nrow in range(len(gauss_matrix)-1, 0, -1):\n",
    "        # строки начиная с последней:\n",
    "        row = gauss_matrix[nrow]\n",
    "        # идем по строкам (upper_row) сверху: \n",
    "        for upper_row in gauss_matrix[:nrow]:\n",
    "            # элемент (factor) строки в колонке nrow (элементы над главной диагональю (остались необнуленными)):\n",
    "            factor = upper_row[nrow]  \n",
    "            upper_row -= factor * row\n",
    "    print('Корни системы уравнений:\\n', gauss_matrix[:,3])\n",
    "    roots = gauss_matrix[:,3]\n",
    "    print('Невязка (ожидаются нули):\\n', np.matmul(gauss_matrix[:,:3], roots.T) - gauss_matrix[:,3])\n",
    "    return gauss_matrix[:,3]"
   ]
  },
  {
   "cell_type": "code",
   "execution_count": 10,
   "metadata": {},
   "outputs": [
    {
     "name": "stdout",
     "output_type": "stream",
     "text": [
      "Матрица, полученная методом Гаусса (промежуточная матрица):\n",
      " [[ 1.          0.203125   -0.421875    0.59375   ]\n",
      " [ 0.          1.          0.06800211  0.49657354]\n",
      " [ 0.          0.          1.          0.09309401]]\n",
      "Корни системы уравнений:\n",
      " [0.53344344 0.49024295 0.09309401]\n",
      "Невязка (ожидаются нули):\n",
      " [0. 0. 0.]\n"
     ]
    }
   ],
   "source": [
    "gauss_matrix = np.array([[3.8, 6.7, -1.2, 5.2],\n",
    "                   [6.4, 1.3, -2.7, 3.8],\n",
    "                   [2.4, -4.5, 3.5, -0.6]])\n",
    "make_identity(gauss_matrix)"
   ]
  },
  {
   "cell_type": "code",
   "execution_count": 11,
   "metadata": {},
   "outputs": [],
   "source": [
    "\"\"\"\n",
    "Лабораторная № 1\n",
    "Задание 3\n",
    "Расчет определителя матрицы \n",
    "\"\"\"\n",
    "\n",
    "def determinant(array):\n",
    "    return array[0][0] * array[1][1] - array[1][0] * array[0][1]\n",
    "\n"
   ]
  },
  {
   "cell_type": "code",
   "execution_count": 16,
   "metadata": {},
   "outputs": [],
   "source": [
    "def division(array):\n",
    "    if len(array[0]) > 2:\n",
    "        result = 0\n",
    "        for i in range(len(array[0])):\n",
    "            new_arr = []\n",
    "            for j in range(len(array[0])):\n",
    "                if j != i:\n",
    "                    new_arr.append([array[j][k] for k in range(1, len(array[0]))])\n",
    "            print('Промежуточная матрица №:', i+1, '\\n', np.matrix(new_arr))\n",
    "            result += division(new_arr) * array[i][0] * (-1 + 2 * ((i + 1) % 2))\n",
    "        print('Детерминант матрицы:', result)\n",
    "    else:\n",
    "        return determinant(array)"
   ]
  },
  {
   "cell_type": "code",
   "execution_count": 17,
   "metadata": {},
   "outputs": [
    {
     "name": "stdout",
     "output_type": "stream",
     "text": [
      "Промежуточная матрица №: 1 \n",
      " [[ 1.3 -2.7]\n",
      " [-4.5  3.5]]\n",
      "Промежуточная матрица №: 2 \n",
      " [[ 6.7 -1.2]\n",
      " [-4.5  3.5]]\n",
      "Промежуточная матрица №: 3 \n",
      " [[ 6.7 -1.2]\n",
      " [ 1.3 -2.7]]\n",
      "Детерминант матрицы: -184.072\n"
     ]
    }
   ],
   "source": [
    "matrix = np.array([[3.8, 6.7, -1.2], \n",
    "                   [6.4, 1.3, -2.7], \n",
    "                   [2.4, -4.5, 3.5]])\n",
    "division(matrix)"
   ]
  },
  {
   "cell_type": "code",
   "execution_count": 19,
   "metadata": {},
   "outputs": [],
   "source": [
    "\"\"\"\n",
    "Лабораторная № 1\n",
    "Задание 4\n",
    "Написать программу вычисления обратной матрицы одним из методов\n",
    "\"\"\"\n",
    "\n",
    "def print_inverse_matrix(inverse_matrix):\n",
    "    def wrapper(matrix_origin):\n",
    "        print('Обратная матрица, полученная методом Гаусса:\\n', '\\n', inverse_matrix(np.copy(matrix)))\n",
    "        print()\n",
    "        print('Невязка:\\n', np.max(np.abs(np.matmul(matrix, inverse_matrix(np.copy(matrix))) - np.eye(3))))\n",
    "    return wrapper"
   ]
  },
  {
   "cell_type": "code",
   "execution_count": 20,
   "metadata": {},
   "outputs": [],
   "source": [
    "@print_inverse_matrix\n",
    "def inverse_matrix(matrix_origin):\n",
    "    \"\"\"\n",
    "    Функция получает на вход матрицу, затем добавляет к ней единичную матрицу,\n",
    "    проводит элементарные преобразования по строкам с первоначальной, добиваясь получения слева единичной матрицы.\n",
    "    В этом случае справа окажется матрица, которая является обратной к заданной первоначально\n",
    "    \"\"\"\n",
    "    # Склеиваем 2 матрицы: слева - первоначальная, справа - единичная\n",
    "    n = matrix_origin.shape[0]\n",
    "    matrix = np.hstack((matrix_origin, np.eye(n)))\n",
    "\n",
    "    for nrow, row in enumerate(matrix):\n",
    "        # nrow равен номеру строки\n",
    "        # row содержит саму строку матрицы\n",
    "        divider = row[nrow]  # диагональный элемент\n",
    "        # делим на диагональный элемент:\n",
    "        row /= divider\n",
    "        # теперь вычитаем приведённую строку из всех нижележащих строк:\n",
    "        for lower_row in matrix[nrow + 1:]:\n",
    "            factor = lower_row[nrow]  # элемент строки в колонке nrow\n",
    "            lower_row -= factor * row  # вычитаем, чтобы получить ноль в колонке nrow\n",
    "\n",
    "    # обратный ход\n",
    "    for nrow in range(len(matrix)-1, 0, -1):\n",
    "        row = matrix[nrow]\n",
    "        for upper_row in matrix[:nrow]:\n",
    "            factor = upper_row[nrow]\n",
    "            # Вычитаем целую строку:\n",
    "            upper_row -= factor * row\n",
    "    return matrix[:, n:].copy()"
   ]
  },
  {
   "cell_type": "code",
   "execution_count": 21,
   "metadata": {},
   "outputs": [],
   "source": [
    "my_matrix = np.array([[3.8, 6.7, -1.2], \n",
    "                   [6.4, 1.3, -2.7], \n",
    "                   [2.4, -4.5, 3.5]])"
   ]
  },
  {
   "cell_type": "code",
   "execution_count": 22,
   "metadata": {},
   "outputs": [
    {
     "name": "stdout",
     "output_type": "stream",
     "text": [
      "Обратная матрица, полученная методом Гаусса:\n",
      " \n",
      " [[ 0.04128819  0.09805945  0.08980182]\n",
      " [ 0.15689513 -0.08790039 -0.01401625]\n",
      " [ 0.1734104  -0.18025555  0.206115  ]]\n",
      "\n",
      "Невязка:\n",
      " 1.3547119009181044e-16\n"
     ]
    }
   ],
   "source": [
    "inverse_matrix(my_matrix)"
   ]
  },
  {
   "cell_type": "code",
   "execution_count": null,
   "metadata": {},
   "outputs": [],
   "source": []
  }
 ],
 "metadata": {
  "kernelspec": {
   "display_name": "Python 3",
   "language": "python",
   "name": "python3"
  },
  "language_info": {
   "codemirror_mode": {
    "name": "ipython",
    "version": 3
   },
   "file_extension": ".py",
   "mimetype": "text/x-python",
   "name": "python",
   "nbconvert_exporter": "python",
   "pygments_lexer": "ipython3",
   "version": "3.7.6"
  }
 },
 "nbformat": 4,
 "nbformat_minor": 4
}
