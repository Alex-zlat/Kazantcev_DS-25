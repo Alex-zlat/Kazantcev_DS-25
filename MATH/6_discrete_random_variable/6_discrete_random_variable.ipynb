{
 "cells": [
  {
   "cell_type": "code",
   "execution_count": 42,
   "metadata": {},
   "outputs": [
    {
     "name": "stdout",
     "output_type": "stream",
     "text": [
      "0.350433349609375\n"
     ]
    }
   ],
   "source": [
    "\"\"\"Уровень 0:\n",
    "Задание 1:\n",
    "Монетку подбрасывают 15 раз, найдите вероятность выпадения простого числа орлов\n",
    "\"\"\"\n",
    "# 1, 2, 3, 5, 7, 11, 13 — всего 7 простых чисел в диапазоне до 15\n",
    "# Простое число делится на 1 и само на себя \n",
    "\n",
    "from scipy.stats import *\n",
    "import math\n",
    "import random\n",
    "import numpy as np\n",
    "import matplotlib.pyplot as plt\n",
    "\n",
    "n = 15\n",
    "k = [1, 2, 3, 5, 7, 11, 13]\n",
    "var = []\n",
    "for i in k:\n",
    "#     считаем, что в каждом испытании вероятность получить орла или решку одинакова и равна 0,5\n",
    "    p = (math.factorial(n))/(math.factorial(n-i)*math.factorial(i))*(0.5**i)*(0.5**(n-i))\n",
    "    var.append(p)\n",
    "print(sum(var))"
   ]
  },
  {
   "cell_type": "code",
   "execution_count": 41,
   "metadata": {},
   "outputs": [
    {
     "name": "stdout",
     "output_type": "stream",
     "text": [
      "Среднее значение генсовокупности:  4.432 \n",
      " Дисперсия:  8.155376 \n",
      " Медиана:  5.0\n"
     ]
    },
    {
     "data": {
      "image/png": "[encoded data removed]",
      "text/plain": [
       "<Figure size 432x288 with 1 Axes>"
      ]
     },
     "metadata": {
      "needs_background": "light"
     },
     "output_type": "display_data"
    }
   ],
   "source": [
    "\"\"\"Задание 2:\n",
    "Создайте свою дискретную случайную величину с не менее, чем 10 значениями. \n",
    "Просемплируйте 1000 случайных значений, \n",
    "постройте гистограмму плотности распределения по выборке, посчитайте среднее, дисперсию и медиану.\n",
    "\"\"\"\n",
    "\n",
    "# rand_var = list(np.random.random(1000))\n",
    "# print (\"Семплированные значения: \", random.sample(rand_var,5)): sample() возвращает случайный список чисел \n",
    "\n",
    "x = np.random.randint(0, 10, 1000)\n",
    "\n",
    "print('Среднее значение генсовокупности: ', x.mean(), '\\n Дисперсия: ', x.var(), '\\n Медиана: ', np.median(x))\n",
    "    \n",
    "plt.hist(x)\n",
    "plt.grid()\n",
    "plt.show()"
   ]
  },
  {
   "cell_type": "code",
   "execution_count": null,
   "metadata": {},
   "outputs": [],
   "source": [
    "# Уровень 1:\n",
    "# Задание 3:\n",
    "# Пусть брошены 3 уравновешенные монеты.\n",
    "\n",
    "# Рассмотрим 3 события:\n",
    "# A1 - монеты 1 и 2 упали одной и той же стороной;\n",
    "# A2 - монеты 2 и 3 упали одной и той же стороной;\n",
    "# A3 - монеты 1 и 3 упали одной и той же стороной.\n",
    "\n",
    "# Покажите, почему эти 3 события (A1, A2, A3) являются попарно независимыми, но не являются независимыми в совокупности.\n",
    "\n",
    "# РЕШЕНИЕ:\n",
    "# События попарно незвисимы, если вероятность пересечения этих событий равна произведению вероятностей каждого из событий:\n",
    "# P(A∩B) = P(A)∩P(B)\n",
    "# Вероятность каждой монеты упасть стороной 1 или стороной 2 одинакова и составляет 0,5. \n",
    "# Вероятность, что первая монета упала стороной 1, составляет 1/3 * 0,5 = 0,167\n",
    "# Вероятность такого же падения у двух монет равна 0,028\n",
    "# P(A1∩А2) = 0,028*0,028 = P(A1)∩P(А2)\n",
    "\n",
    "# Варианты событий:\n",
    "# 1) сторона 1, сторона 1, сторона 1\n",
    "# 2) сторона 1, сторона 2, сторона 1\n",
    "# 3) сторона 1, сторона 1, сторона 2\n",
    "# 4) сторона 2, сторона 1, сторона 1\n",
    "# 5) сторона 2, сторона 2, сторона 1\n",
    "# 6) ...\n",
    "\n",
    "# Таким образом, видим, что вариантов больше, чем у нас представлено событий. Пересечений вероятностей слева в формуле \n",
    "# P(A1∩А2∩А3) меньше, чем возможных исходов справа \n",
    "\n"
   ]
  },
  {
   "cell_type": "code",
   "execution_count": 4,
   "metadata": {},
   "outputs": [
    {
     "data": {
      "text/plain": [
       "0.135"
      ]
     },
     "execution_count": 4,
     "metadata": {},
     "output_type": "execute_result"
    }
   ],
   "source": [
    "# Задание 4 (формула полной вероятности):\n",
    "# В магазин привезли устройства с 3-х разных предприятий.\n",
    "\n",
    "# Соотношение устройств следующее: 20% - продукция первого предприятия, 30% - продукция второго предприятия, 50% - продукция третьего предприятия; \n",
    "# 10% продукции первого предприятия высшего сорта, \n",
    "# на втором предприятии - 5% \n",
    "# и на третьем - 20% продукции высшего сорта.\n",
    "\n",
    "# Найти вероятность того, что случайно купленная новая продукция окажется высшего сорта.\n",
    "\n",
    "p = 0.2*0.1 + 0.3*0.05 + 0.5*0.2\n",
    "p"
   ]
  }
 ],
 "metadata": {
  "kernelspec": {
   "display_name": "Python 3",
   "language": "python",
   "name": "python3"
  },
  "language_info": {
   "codemirror_mode": {
    "name": "ipython",
    "version": 3
   },
   "file_extension": ".py",
   "mimetype": "text/x-python",
   "name": "python",
   "nbconvert_exporter": "python",
   "pygments_lexer": "ipython3",
   "version": "3.7.6"
  }
 },
 "nbformat": 4,
 "nbformat_minor": 4
}
