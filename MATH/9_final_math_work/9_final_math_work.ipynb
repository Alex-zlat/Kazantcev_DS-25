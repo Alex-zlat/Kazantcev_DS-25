{
 "cells": [
  {
   "cell_type": "code",
   "execution_count": 1,
   "metadata": {},
   "outputs": [
    {
     "name": "stdout",
     "output_type": "stream",
     "text": [
      "0 [8]\n",
      "1 [4]\n",
      "2 [9]\n",
      "3 [9]\n",
      "4 [8]\n",
      "5 [9]\n",
      "6 [3]\n",
      "7 [5]\n",
      "8 [0]\n",
      "9 [2]\n"
     ]
    }
   ],
   "source": [
    "\"\"\"Задание 1\n",
    "Дана матрица рейтингов фильмов (строки - пользователи (10 человек), столбцы - фильмы (15 фильмов))\n",
    "\n",
    "a) Необходимо найти наиболее похожего пользователя по косинусной метрике \n",
    "для каждого из (ответ: 10 пар вида (x, y), где y - наиболее похожий пользователь на пользователя x).\n",
    "\n",
    "b) Предположим, вы захотели сжать признаковые описания пользователя с 15 фильмов, \n",
    "до, скажем, 5-ти признаков, как вы это сделаете?\n",
    "\"\"\"\n",
    "\n",
    "import matplotlib.pyplot as plt\n",
    "import numpy as np\n",
    "from sklearn.metrics import pairwise_distances\n",
    "from scipy.optimize import minimize\n",
    "%matplotlib inline\n",
    "\n",
    "raitings = np.array([[ 4,  4,  9,  4,  1,  6, 10,  7,  9,  6,  9,  2,  8,  6,  6],\n",
    "                     [ 9,  2,  5, 10,  7,  8, 10,  5,  6,  2,  1,  6,  8,  9,  7],\n",
    "                     [ 1,  6,  8,  8,  4,  9,  3,  8, 10,  5,  2,  6,  8,  1,  6],\n",
    "                     [ 6,  1,  9,  7,  7,  9,  2,  3,  5,  1,  6,  6,  3,  2,  7],\n",
    "                     [ 3,  7,  3,  5,  7,  9,  9,  6,  2,  9,  1,  2,  8, 10,  6],\n",
    "                     [ 8,  3,  7,  3,  8,  6,  1,  8,  8,  6,  1,  9,  4, 10,  1],\n",
    "                     [ 9,  8,  4,  8,  8, 10,  6,  1,  1,  2,  9,  5,  2,  7,  2],\n",
    "                     [ 4,  1,  6,  4,  3, 10,  4,  4,  2,  8,  7,  9,  3,  8,  3],\n",
    "                     [ 2,  7,  7,  6, 10,  6,  8,  9,  8,  6, 10,  1,  7, 10,  4],\n",
    "                     [ 5, 10,  8,  8,  9,  7,  2,  9,  9, 10,  8,  8,  8,  6, 10]])\n",
    "\n",
    "\n",
    "# формируем матрицу косинусного сходства строк \n",
    "list_ = pairwise_distances(raitings, metric='cosine')\n",
    "\n",
    "# перебираем циклом с функцией enumerate() строки списка в формате номер строки (вложенный список)-ее значение:\n",
    "for id, rows in enumerate(list_):\n",
    "    # генератор списка выводит номер позиции i минимально близкого (самого близкого) вектора к очередному rows:\n",
    "    # для этого очередной вектор (вложенный список) перебираем с функцией enumerate(), \n",
    "    # чтобы \"достать\" из него порядковый номер, наложив условие - это порядковый номер минималного значения вектора \n",
    "    # анонимная функция тип чисел float преобразует к int: \n",
    "    position_rows = [i for i, number in enumerate(rows) if number == np.min(rows[np.nonzero(rows)])]\n",
    "    print(id, position_rows)\n",
    "    \n",
    "# Более короткая реализация: \n",
    "# for i, rows in enumerate(pairwise_distances(raitings, metric=\"cosine\")):\n",
    "#     print(i, list(rows).index(np.min(rows[np.nonzero(rows)])))"
   ]
  },
  {
   "cell_type": "code",
   "execution_count": 2,
   "metadata": {},
   "outputs": [
    {
     "data": {
      "text/plain": [
       "array([[-5.30986101,  1.92919845, -4.93300027,  2.70188013,  5.50497886],\n",
       "       [ 2.87763403,  2.71659559,  1.40592782,  7.26325751, -4.50322291],\n",
       "       [-4.94010408, -6.68861167, -0.94550184,  3.61556661, -0.68969272],\n",
       "       [ 5.14939908, -6.28027284, -4.65978558,  1.09024004, -1.01471112],\n",
       "       [-1.37488691,  7.54357985,  4.00834369,  2.1284001 , -0.16324949],\n",
       "       [ 2.65341956, -3.77075601,  8.58430748, -1.46628319,  1.67401769],\n",
       "       [ 8.61573944,  3.78603335, -4.02721027, -4.37582577, -3.13880277],\n",
       "       [ 5.39658258, -1.0170466 ,  1.01456742, -1.89512837,  6.54883538],\n",
       "       [-5.7843488 ,  5.29857107, -1.48083611, -3.71295542,  0.21312695],\n",
       "       [-7.2835739 , -3.51729118,  1.03318766, -5.34915166, -4.43127987]])"
      ]
     },
     "execution_count": 2,
     "metadata": {},
     "output_type": "execute_result"
    }
   ],
   "source": [
    "# выполним второй пункт задания \n",
    "\n",
    "from sklearn.decomposition import PCA\n",
    "\n",
    "pca = PCA(n_components = 5)                          # Параметр n_components указывает на количество измерений, на которые будет \n",
    "                                                     # производиться проекция, \n",
    "                                                     # то есть до скольки измерений мы хотим снизить наш датасет. \n",
    "                                                     # Другими словами – это n собственных векторов с самыми большими \n",
    "                                                     # собственными числами\n",
    "pca = PCA(n_components = 5)\n",
    "XPCAreduced = pca.fit_transform(raitings)\n",
    "XPCAreduced\n",
    "\n"
   ]
  },
  {
   "cell_type": "code",
   "execution_count": 3,
   "metadata": {},
   "outputs": [
    {
     "name": "stdout",
     "output_type": "stream",
     "text": [
      "Производная на Питоне:  55.3859176464222\n",
      "Неоцененная производная:  2*(-2*sin(2*x + 3) + cos(x))*(tan(sin(x) + cos(2*x + 3))**2 + 1)*tan(sin(x) + cos(2*x + 3))\n",
      "Проверяем расчеты:  55.385917635337854\n"
     ]
    }
   ],
   "source": [
    "\"\"\"Задание 2\n",
    "Вычислите производную tg^2(sin(x) + cos(2x+3)) в точке x=1 (на python и на бумаге).\n",
    "\"\"\"\n",
    "from scipy.misc import derivative \n",
    "import math\n",
    "import sympy\n",
    "\n",
    "np.power\n",
    "def f(x):\n",
    "    return (np.power((np.tan)((np.sin(x))+np.cos(2*x+3)), 2))  # возведение в степень реализуем через функцию np.power()\n",
    "\n",
    "print('Производная на Питоне: ', derivative(f, 1.0, dx=1e-6))\n",
    "\n",
    "\n",
    "x=sympy.symbols('x')\n",
    "rt = (((sympy.tan)((sympy.sin(x))+sympy.cos(2*x+3)))**2)\n",
    "diff_ = sympy.diff(rt, x)\n",
    "print('Неоцененная производная: ', diff_.doit())\n",
    "\n",
    "x=1\n",
    "hand = 2*(-2*np.sin(2*x + 3) + np.cos(x))*(np.tan(np.sin(x) + np.cos(2*x + 3))**2 + 1)*np.tan(np.sin(x) + np.cos(2*x + 3))\n",
    "print('Проверяем расчеты: ', hand)"
   ]
  },
  {
   "cell_type": "code",
   "execution_count": 4,
   "metadata": {},
   "outputs": [
    {
     "data": {
      "image/png": "[encoded data removed]",
      "text/plain": [
       "<Figure size 432x288 with 1 Axes>"
      ]
     },
     "metadata": {
      "needs_background": "light"
     },
     "output_type": "display_data"
    }
   ],
   "source": [
    "\"\"\"Задание 3\n",
    "Дана функция с неизвестными параметрами a и b, \n",
    "вам также известны значения функции fx в точках x. \n",
    "Найдите оптимальные параметры a, b, минимизирующие абсолютную ошибку error.\n",
    "\"\"\"\n",
    "from scipy.optimize import differential_evolution\n",
    "\n",
    "def f(x, a, b):\n",
    "    return np.e**a * np.sin(b*x) + x\n",
    "\n",
    "x = np.array([0.        , 0.26315789, 0.52631579, 0.78947368, 1.05263158,\n",
    "              1.31578947, 1.57894737, 1.84210526, 2.10526316, 2.36842105,\n",
    "              2.63157895, 2.89473684, 3.15789474, 3.42105263, 3.68421053,\n",
    "              3.94736842, 4.21052632, 4.47368421, 4.73684211, 5.        ])\n",
    "\n",
    "fx = np.array([  0.        , -12.01819092, -18.90968634, -17.68786571,\n",
    "                -8.7529108 ,   4.27524517,  16.06801336,  21.81250213,\n",
    "                19.22059845,   9.48411207,  -3.22273056, -13.48576488,\n",
    "               -16.91096359, -11.95866834,  -0.58630088,  12.56873816,\n",
    "                22.12489421,  24.20292139,  18.04522521,   6.33211092])\n",
    "\n",
    "plt.plot(x, fx)\n",
    "plt.show()\n",
    "\n",
    "def error(params):\n",
    "    return np.sum(np.abs(fx - f(x, params[0], params[1])))"
   ]
  },
  {
   "cell_type": "code",
   "execution_count": 25,
   "metadata": {},
   "outputs": [
    {
     "name": "stderr",
     "output_type": "stream",
     "text": [
      "C:\\Users\\zlatt\\anaconda3\\lib\\site-packages\\ipykernel_launcher.py:2: OptimizeWarning: Unknown solver options: xtol\n",
      "  \n"
     ]
    },
    {
     "data": {
      "text/plain": [
       "     fun: 0.07674566111565184\n",
       "   maxcv: 0.0\n",
       " message: 'Optimization terminated successfully.'\n",
       "    nfev: 135\n",
       "  status: 1\n",
       " success: True\n",
       "       x: array([ 3.00018796, -2.50008926])"
      ]
     },
     "execution_count": 25,
     "metadata": {},
     "output_type": "execute_result"
    }
   ],
   "source": [
    "min_ = minimize(error, [0,0], method='COBYLA', options = {'xtol': 1e-8 , 'disp': True})\n",
    "min_ # значения x в представленном в выводе результате задают значения параметров а и b  "
   ]
  },
  {
   "cell_type": "code",
   "execution_count": 60,
   "metadata": {},
   "outputs": [
    {
     "name": "stdout",
     "output_type": "stream",
     "text": [
      "выборка:  [18  6  8  6  6 16  6 30 10 19  6 19 27  6 14 27 33 14 19 17 10  6 17 17\n",
      " 16 10 27 19 18 17  8 14  7  6 14 33  6 27 20 10  7 30  8 16  6  7 33 17\n",
      "  8 16] \n",
      "Средняя величина выборки:  20.92\n"
     ]
    },
    {
     "data": {
      "text/plain": [
       "Text(0.5, 0, 'x')"
      ]
     },
     "execution_count": 60,
     "metadata": {},
     "output_type": "execute_result"
    },
    {
     "data": {
      "image/png": "[encoded data removed]",
      "text/plain": [
       "<Figure size 432x288 with 1 Axes>"
      ]
     },
     "metadata": {
      "needs_background": "light"
     },
     "output_type": "display_data"
    }
   ],
   "source": [
    "\"\"\"Задание 4\n",
    "Создайте собственную дискретную случайную величину с 20 значениями. \n",
    "Сгенерируйте 1000 выборок размера 50. \n",
    "Посчитайте среднее для каждой выборки. \n",
    "Постройте гистограмму распределения средних\n",
    "\"\"\"\n",
    "\n",
    "import random\n",
    "import scipy.stats as sts\n",
    "\n",
    "random_variable = np.random.randint(5, 35, size = 20)\n",
    "\n",
    "a = np.array([])\n",
    "for i in range(1000):\n",
    "    sample = np.random.randint(5, 35, size = 20) \n",
    "    random_int = np.random.choice(sample, 50)\n",
    "    a= np.append(a, random_int.mean())\n",
    "\n",
    "print('выборка: ', random_int, '\\nСредняя величина выборки: ', sample_mean)\n",
    "\n",
    "label_1 = 'sample of ' + str(1000) + ' histogram'\n",
    "plt.hist(a, density=True, label=label_1)\n",
    "\n",
    "plt.legend()\n",
    "plt.ylabel('samples means')\n",
    "plt.xlabel('x')"
   ]
  },
  {
   "cell_type": "code",
   "execution_count": 58,
   "metadata": {},
   "outputs": [
    {
     "name": "stdout",
     "output_type": "stream",
     "text": [
      "[[1 4]\n",
      " [1 1]]\n",
      "[ 3. -1.]\n",
      "[[ 0.89442719 -0.89442719]\n",
      " [ 0.4472136   0.4472136 ]]\n"
     ]
    }
   ],
   "source": [
    "\"\"\"Задание 5\n",
    "Найдите собственные значения и собственные вектора матрицы (на python и на бумаге)\n",
    "\"\"\"\n",
    "from numpy import linalg as LA\n",
    "\n",
    "m = np.array([[1, 4],\n",
    "              [1, 1]])\n",
    "print(m)\n",
    "\n",
    "w,v = LA.eig(m)\n",
    "print(w)                # Собственные числа входной матрицы\n",
    "print(v)                # Собственные векторы входной матрицы\n",
    "\n"
   ]
  }
 ],
 "metadata": {
  "kernelspec": {
   "display_name": "Python 3",
   "language": "python",
   "name": "python3"
  },
  "language_info": {
   "codemirror_mode": {
    "name": "ipython",
    "version": 3
   },
   "file_extension": ".py",
   "mimetype": "text/x-python",
   "name": "python",
   "nbconvert_exporter": "python",
   "pygments_lexer": "ipython3",
   "version": "3.7.6"
  }
 },
 "nbformat": 4,
 "nbformat_minor": 4
}
