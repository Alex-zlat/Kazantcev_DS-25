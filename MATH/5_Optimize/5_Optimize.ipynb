{
 "cells": [
  {
   "cell_type": "code",
   "execution_count": 1,
   "metadata": {},
   "outputs": [
    {
     "name": "stdout",
     "output_type": "stream",
     "text": [
      "Параметр strategy = \"best1bin\": \n",
      "      fun: 4.440892098500626e-16\n",
      " message: 'Optimization terminated successfully.'\n",
      "    nfev: 2793\n",
      "     nit: 90\n",
      " success: True\n",
      "       x: array([0., 0.]) \n",
      "\n",
      "Параметр strategy = \"best1exp\": \n",
      "      fun: 4.440892098500626e-16\n",
      " message: 'Optimization terminated successfully.'\n",
      "    nfev: 4293\n",
      "     nit: 140\n",
      " success: True\n",
      "       x: array([0., 0.]) \n",
      "\n",
      "Параметр strategy = \"best2bin\": \n",
      "      fun: 4.440892098500626e-16\n",
      " message: 'Optimization terminated successfully.'\n",
      "    nfev: 5073\n",
      "     nit: 166\n",
      " success: True\n",
      "       x: array([0., 0.]) \n",
      "\n"
     ]
    }
   ],
   "source": [
    "\"\"\"Задание.\n",
    "При фиксированном seed=42 поразбирайтесь и поэкспериментируйте с параметрами алгоритма дифференциальной эволюции: \n",
    "strategy, popsize, tol, mutation, recombination и updating.\n",
    "\n",
    "Постройте графики количества итераций оптимизации функции ackley от значения параметра\n",
    "\"\"\"\n",
    "\n",
    "import numpy as np\n",
    "from scipy.optimize import differential_evolution\n",
    "import matplotlib.pyplot as plt\n",
    "\n",
    "def ackley(x):\n",
    "    arg1 = -0.2 * np.sqrt(0.5 * (x[0] ** 2 + x[1] ** 2))\n",
    "    arg2 = 0.5 * (np.cos(2. * np.pi * x[0]) + np.cos(2. * np.pi * x[1]))\n",
    "    return -20. * np.exp(arg1) - np.exp(arg2) + 20. + np.e\n",
    "\n",
    "bounds = [(-10, 10), (-10, 10)] # пределы изменения переменных \n",
    "\n",
    "# документация функции: https://docs.scipy.org/doc/scipy/reference/generated/scipy.optimize.differential_evolution.html\n",
    "# в выводе nfev - количество оценок функции\n",
    "# nit - количество итераций алгоритма\n",
    "# fun - точка, где значение функции минимально\n",
    "# x - значение аргумента (в точке, где значение функции минимально)\n",
    "# в параметрах: strategy - используемая стратегия дифференциальной эволюции\n",
    "print('Параметр strategy = \"best1bin\": \\n', differential_evolution(ackley, bounds, strategy = 'best1bin', seed=42), '\\n') \n",
    "print('Параметр strategy = \"best1exp\": \\n', differential_evolution(ackley, bounds, strategy = 'best1exp', seed=42), '\\n')\n",
    "print('Параметр strategy = \"best2bin\": \\n', differential_evolution(ackley, bounds, strategy = 'best2bin', seed=42), '\\n')\n",
    "\n"
   ]
  },
  {
   "cell_type": "code",
   "execution_count": 4,
   "metadata": {},
   "outputs": [
    {
     "name": "stdout",
     "output_type": "stream",
     "text": [
      "Параметр popsize = 100: \n",
      "      fun: 4.440892098500626e-16\n",
      " message: 'Optimization terminated successfully.'\n",
      "    nfev: 20463\n",
      "     nit: 101\n",
      " success: True\n",
      "       x: array([0., 0.]) \n",
      "\n",
      "Параметр popsize = 10: \n",
      "      fun: 4.440892098500626e-16\n",
      " message: 'Optimization terminated successfully.'\n",
      "    nfev: 2023\n",
      "     nit: 97\n",
      " success: True\n",
      "       x: array([0., 0.]) \n",
      "\n"
     ]
    },
    {
     "data": {
      "image/png": "[encoded data removed]",
      "text/plain": [
       "<Figure size 432x288 with 1 Axes>"
      ]
     },
     "metadata": {
      "needs_background": "light"
     },
     "output_type": "display_data"
    }
   ],
   "source": [
    "# popsize - множитель, устанавливающий общую численность популяции \n",
    "print('Параметр popsize = 100: \\n', differential_evolution(ackley, bounds, popsize = 100, seed=42), '\\n') \n",
    "print('Параметр popsize = 10: \\n', differential_evolution(ackley, bounds, popsize = 10, seed=42), '\\n') \n",
    "\n",
    "# формируем график:\n",
    "\n",
    "po = {}\n",
    "for i in range(0, 30, 2):\n",
    "    tmp = differential_evolution(ackley, bounds, popsize=i, seed=42)\n",
    "    po[i] = tmp.nit\n",
    "        \n",
    "plt.plot(list(po.keys()), list(po.values()))\n",
    "plt.grid()\n",
    "plt.show()"
   ]
  },
  {
   "cell_type": "code",
   "execution_count": null,
   "metadata": {},
   "outputs": [],
   "source": [
    "# tol- Относительная толерантность к сходимости, решение прекращается, \n",
    "# когда np.std(pop) <= atol + tol * np.abs(np.mean(population_energies)), \n",
    "#где atol и tol-абсолютная и относительная толерантности соответственно\n",
    "\n",
    "# В переоде: когда среднее значение энергий совокупности, умноженное на tol, деленное на стандартное отклонение энергий совокупности, \n",
    "# больше 1, процесс решения завершается: convergence = mean(pop) * tol / stdev(pop) > 1\n",
    "\n",
    "print('Параметр tol = 0.5: \\n', differential_evolution(ackley, bounds, tol=0.5 , seed=42), '\\n') \n",
    "print('Параметр tol = 0.1: \\n', differential_evolution(ackley, bounds, tol=0.1, seed=42), '\\n') \n",
    "print('Параметр tol = 0.2: \\n', differential_evolution(ackley, bounds, tol=0.2, seed=42), '\\n') \n",
    "\n",
    "# формируем график:\n",
    "tols = np.linspace(0.1, 0.5, 15)\n",
    "mu = {}\n",
    "for i in tols:\n",
    "    tmp = differential_evolution(ackley, bounds, seed=42, tol=i)\n",
    "    mu[i] = tmp.nit\n",
    "        \n",
    "plt.plot(list(mu.keys()), list(mu.values()))\n",
    "plt.grid()\n",
    "plt.show()"
   ]
  },
  {
   "cell_type": "code",
   "execution_count": null,
   "metadata": {},
   "outputs": [],
   "source": [
    "# mutation:\n",
    "# Константа мутации. В литературе это также известно как дифференциальный вес, обозначаемый буквой F. \n",
    "# Если указан как число с плавающей запятой, он должен находиться в диапазоне [0, 2]. \n",
    "# Если указано как кортеж (min, max), используется колебание. \n",
    "# Колебание случайным образом изменяет константу мутации от поколения к поколению. \n",
    "# Константа мутации для этого поколения взята из U[min, max). Колебание может значительно ускорить сходимость. \n",
    "# Увеличение константы мутации увеличивает радиус поиска, но замедляет сходимость.(min, max)U[min, max)\n",
    "ret_1 = differential_evolution(ackley, bounds, mutation=1.0 , seed=42)\n",
    "ret_2 = differential_evolution(ackley, bounds, mutation=1.5, seed=42)\n",
    "ret_3 = differential_evolution(ackley, bounds, mutation=1.9, seed=42)\n",
    "print('Параметр mutation = 1.0: \\n', ret_1, '\\n')  \n",
    "print('Параметр mutation = 1.5: \\n', ret_2, '\\n') \n",
    "print('Параметр mutation = 1.9: \\n', ret_3, '\\n') \n",
    "\n",
    "# формируем график:\n",
    "mutations = np.linspace(1.0, 1.5, 25)\n",
    "mu = {}\n",
    "for i in mutations:\n",
    "    tmp = differential_evolution(ackley, bounds, seed=42, mutation=i)\n",
    "    mu[i] = tmp.nit\n",
    "        \n",
    "plt.plot(list(mu.keys()), list(mu.values()))\n",
    "plt.grid()\n",
    "plt.show()"
   ]
  },
  {
   "cell_type": "code",
   "execution_count": null,
   "metadata": {},
   "outputs": [],
   "source": [
    "# recombination:\n",
    "# Константа рекомбинации должна быть в диапазоне [0, 1]. \n",
    "# В литературе это также известно как вероятность кроссовера \n",
    "# и обозначается CR. Увеличение этого значения \n",
    "# позволяет большему количеству мутантов перейти \n",
    "# в следующее поколение, но с риском стабильности популяции\n",
    "print('Параметр recombination = 0.3: \\n', differential_evolution(ackley, bounds, recombination=0.3, seed=42), '\\n')\n",
    "print('Параметр recombination = 0.6: \\n', differential_evolution(ackley, bounds, recombination=0.6, seed=42), '\\n')\n",
    "print('Параметр recombination = 0.97: \\n', differential_evolution(ackley, bounds, recombination=0.97, seed=42), '\\n')"
   ]
  },
  {
   "cell_type": "code",
   "execution_count": null,
   "metadata": {},
   "outputs": [],
   "source": [
    "# updating: {'немедленное', 'отложенное'}\n",
    "# Если 'immediate', вектор наилучшего решения постоянно обновляется в пределах одного поколения [4] . \n",
    "# Это может привести к более быстрой сходимости, поскольку пробные векторы могут использовать \n",
    "# преимущества непрерывных улучшений в лучшем решении. При наличии 'deferred'вектор наилучшего решения \n",
    "# обновляется один раз за поколение. \n",
    "# Только \"deferred\" совместим с распараллеливанием, и ключевое слово workers может переопределить этот параметр.\n",
    "# polish - \"полировка\" лучшего члена популяции в конце\n",
    "ret1 = differential_evolution(ackley, bounds, updating='immediate', seed=42)\n",
    "ret2 = differential_evolution(ackley, bounds, updating='deferred', seed=42)\n",
    "print('Параметр updating = \"immediate\": \\n', ret1, '\\n')\n",
    "print('Параметр updating = \"deferred\": \\n', ret2, '\\n')\n",
    "print('Параметр updating = \"deferred\" + параметр polish=False: \\n', differential_evolution(ackley, bounds, updating='deferred', polish=False, seed=42), '\\n')\n",
    "\n",
    "\n"
   ]
  },
  {
   "cell_type": "code",
   "execution_count": null,
   "metadata": {},
   "outputs": [],
   "source": []
  }
 ],
 "metadata": {
  "kernelspec": {
   "display_name": "Python 3",
   "language": "python",
   "name": "python3"
  },
  "language_info": {
   "codemirror_mode": {
    "name": "ipython",
    "version": 3
   },
   "file_extension": ".py",
   "mimetype": "text/x-python",
   "name": "python",
   "nbconvert_exporter": "python",
   "pygments_lexer": "ipython3",
   "version": "3.7.6"
  }
 },
 "nbformat": 4,
 "nbformat_minor": 4
}
