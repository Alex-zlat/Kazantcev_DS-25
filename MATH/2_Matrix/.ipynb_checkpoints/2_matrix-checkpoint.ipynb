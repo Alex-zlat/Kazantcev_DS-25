{
 "cells": [
  {
   "cell_type": "code",
   "execution_count": 1,
   "metadata": {},
   "outputs": [
    {
     "data": {
      "text/plain": [
       "array([[1., 2., 3.],\n",
       "       [4., 5., 6.],\n",
       "       [7., 8., 9.]])"
      ]
     },
     "execution_count": 1,
     "metadata": {},
     "output_type": "execute_result"
    }
   ],
   "source": [
    "\"\"\"Уровень 0:\n",
    "Создайте матрицу 3 на 3, заполненную числами от 1 до 9\n",
    "Прибавьте к ней матрицу с единицами на диагонале\n",
    "Умножьте полученную матрицу на вектор (1, 2, 3)\n",
    "Посчитайте обратную матрицу к полученной матрице\n",
    "\"\"\"\n",
    "\n",
    "import numpy as np\n",
    "import matplotlib.pyplot as plt\n",
    "import math\n",
    "\n",
    "m_sqr = [[1., 2., 3.], [4., 5., 6.], [7., 8., 9.]]\n",
    "m_sqr_arr = np.array(m_sqr)\n",
    "m_sqr_arr"
   ]
  },
  {
   "cell_type": "code",
   "execution_count": 2,
   "metadata": {},
   "outputs": [
    {
     "data": {
      "text/plain": [
       "array([[ 2.,  2.,  3.],\n",
       "       [ 4.,  6.,  6.],\n",
       "       [ 7.,  8., 10.]])"
      ]
     },
     "execution_count": 2,
     "metadata": {},
     "output_type": "execute_result"
    }
   ],
   "source": [
    "m_ones_arr = np.eye(3)\n",
    "m_sum_arr = m_sqr_arr + m_ones_arr\n",
    "m_sum_arr"
   ]
  },
  {
   "cell_type": "code",
   "execution_count": 3,
   "metadata": {},
   "outputs": [
    {
     "data": {
      "text/plain": [
       "array([15., 34., 53.])"
      ]
     },
     "execution_count": 3,
     "metadata": {},
     "output_type": "execute_result"
    }
   ],
   "source": [
    "v_1 = [1,2,3]\n",
    "m_mult_arr_dot = np.dot(m_sum_arr, v_1)\n",
    "m_mult_arr_dot"
   ]
  },
  {
   "cell_type": "code",
   "execution_count": 4,
   "metadata": {},
   "outputs": [
    {
     "data": {
      "text/plain": [
       "array([[ 2.,  4.,  9.],\n",
       "       [ 4., 12., 18.],\n",
       "       [ 7., 16., 30.]])"
      ]
     },
     "execution_count": 4,
     "metadata": {},
     "output_type": "execute_result"
    }
   ],
   "source": [
    "m_mult_arr = m_sum_arr * v_1\n",
    "m_mult_arr"
   ]
  },
  {
   "cell_type": "code",
   "execution_count": 5,
   "metadata": {},
   "outputs": [
    {
     "data": {
      "text/plain": [
       "array([[-6.00000000e+00, -2.00000000e+00,  3.00000000e+00],\n",
       "       [-5.00000000e-01,  2.50000000e-01,  2.22044605e-17],\n",
       "       [ 1.66666667e+00,  3.33333333e-01, -6.66666667e-01]])"
      ]
     },
     "execution_count": 5,
     "metadata": {},
     "output_type": "execute_result"
    }
   ],
   "source": [
    "m_converse_arr = np.linalg.inv(m_mult_arr) \n",
    "m_converse_arr"
   ]
  },
  {
   "cell_type": "code",
   "execution_count": 6,
   "metadata": {},
   "outputs": [
    {
     "data": {
      "text/plain": [
       "(-200, 200)"
      ]
     },
     "execution_count": 6,
     "metadata": {},
     "output_type": "execute_result"
    },
    {
     "data": {
      "image/png": "[encoded data removed]",
      "text/plain": [
       "<Figure size 432x288 with 1 Axes>"
      ]
     },
     "metadata": {
      "needs_background": "light"
     },
     "output_type": "display_data"
    }
   ],
   "source": [
    "\"\"\"Уровень 1:\n",
    "Дан объект в 2d пространстве.\n",
    "При помощи матричных операций выполните:\n",
    "\n",
    "Уменьшить объект в два раза\n",
    "Повернуть на 130 градусов\n",
    "Отразить объект относительно прямой y=x\n",
    "Выполнить смещение объекта и масштабирование (применить 2 матрицы трансформаций). \n",
    "Смещение на (200, 300) и масштабирование на (0.5, 1.2)\n",
    "\"\"\"\n",
    "\n",
    "A = [\n",
    "[-100, -100, 1],  # Третье - по оси z, просто принято задавать в трёх измерениях, можно убрать 3-е значение, график не изменится\n",
    "[-100, 100, 1],   # третье число матрицы - координата Z (здесь она никак не влияет на результат)\n",
    "[100, 100, 1],\n",
    "[0, 0, 1],\n",
    "[100, -100, 1],\n",
    "[-100, -100, 1]\n",
    "]\n",
    "\n",
    "A = np.array(A)\n",
    "x = A[:,0]   # Собираем значения координат, по которым строим plot-визуализацию\n",
    "y = A[:,1]\n",
    "\n",
    "plt.plot(x, y)\n",
    "plt.ylim([-200, 200])\n",
    "plt.xlim([-200, 200])\n",
    "\n"
   ]
  },
  {
   "cell_type": "code",
   "execution_count": 7,
   "metadata": {},
   "outputs": [
    {
     "data": {
      "text/plain": [
       "array([[-50. , -50. ,   0.5],\n",
       "       [-50. ,  50. ,   0.5],\n",
       "       [ 50. ,  50. ,   0.5],\n",
       "       [  0. ,   0. ,   0.5],\n",
       "       [ 50. , -50. ,   0.5],\n",
       "       [-50. , -50. ,   0.5]])"
      ]
     },
     "execution_count": 7,
     "metadata": {},
     "output_type": "execute_result"
    },
    {
     "data": {
      "image/png": "[encoded data removed]",
      "text/plain": [
       "<Figure size 432x288 with 1 Axes>"
      ]
     },
     "metadata": {
      "needs_background": "light"
     },
     "output_type": "display_data"
    }
   ],
   "source": [
    "# Можно сделать так: \n",
    "#     1) A = A * 0.5 или A = A / 2\n",
    "#     2) plt.plot(x*0.5, y*0.5)\n",
    "# Однако мы выполним действие через трансформирующую матрицу \n",
    "\n",
    "B = np.array([\n",
    "[0.5, 0, 0],\n",
    "[0, 0.5, 0],\n",
    "[0, 0, 0.5],\n",
    "])\n",
    "\n",
    "\n",
    "reduce_2_times = A@B       # reduce_2_times = np.dot(A,B)\n",
    "x = reduce_2_times[:,0]\n",
    "y = reduce_2_times[:,1]\n",
    "\n",
    "plt.plot(x, y)\n",
    "plt.ylim([-200, 200])\n",
    "plt.xlim([-200, 200])\n",
    "reduce_2_times"
   ]
  },
  {
   "cell_type": "code",
   "execution_count": 8,
   "metadata": {},
   "outputs": [
    {
     "data": {
      "text/plain": [
       "array([[ -12.32568334,  -12.32568334],\n",
       "       [ 140.88320528, -140.88320528],\n",
       "       [  12.32568334,   12.32568334],\n",
       "       [   0.        ,    0.        ],\n",
       "       [-140.88320528,  140.88320528],\n",
       "       [ -12.32568334,  -12.32568334]])"
      ]
     },
     "execution_count": 8,
     "metadata": {},
     "output_type": "execute_result"
    },
    {
     "data": {
      "image/png": "[encoded data removed]",
      "text/plain": [
       "<Figure size 432x288 with 1 Axes>"
      ]
     },
     "metadata": {
      "needs_background": "light"
     },
     "output_type": "display_data"
    }
   ],
   "source": [
    "# повернем объект на 130 градусов\n",
    "\n",
    "C = np.array([\n",
    "[math.cos(math.radians(130)), math.sin(math.radians(130))],\n",
    "[math.sin(math.radians(130)), math.cos(math.radians(130))],\n",
    "[0,0]\n",
    "])\n",
    "\n",
    "rotation_matrix = A@C \n",
    "\n",
    "\n",
    "x = rotation_matrix[:,0]\n",
    "y = rotation_matrix[:,1]\n",
    "\n",
    "plt.plot(x, y)\n",
    "plt.ylim([-200, 200])\n",
    "plt.xlim([-200, 200])\n",
    "rotation_matrix"
   ]
  },
  {
   "cell_type": "code",
   "execution_count": 9,
   "metadata": {},
   "outputs": [],
   "source": [
    "\n"
   ]
  }
 ],
 "metadata": {
  "kernelspec": {
   "display_name": "Python 3",
   "language": "python",
   "name": "python3"
  },
  "language_info": {
   "codemirror_mode": {
    "name": "ipython",
    "version": 3
   },
   "file_extension": ".py",
   "mimetype": "text/x-python",
   "name": "python",
   "nbconvert_exporter": "python",
   "pygments_lexer": "ipython3",
   "version": "3.7.6"
  }
 },
 "nbformat": 4,
 "nbformat_minor": 4
}
