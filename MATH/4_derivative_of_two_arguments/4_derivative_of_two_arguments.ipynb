{
 "cells": [
  {
   "cell_type": "code",
   "execution_count": 7,
   "metadata": {},
   "outputs": [
    {
     "data": {
      "text/plain": [
       "array([36.00000024, 28.00000024])"
      ]
     },
     "execution_count": 7,
     "metadata": {},
     "output_type": "execute_result"
    }
   ],
   "source": [
    "\"\"\"Уровень 0:\n",
    "Посчитайте частные производные функций:\n",
    "\n",
    "1) f(x,y)=2x^2y^3 + 1/x + y^2x + 7, а для этой функции также градиент в точке (1,2)\n",
    "2) f(x,y)=x^2y - sin(xy) + cos(x^2) + 6y\"\"\"\n",
    "\n",
    "\n",
    "import numpy as np\n",
    "from scipy.optimize import approx_fprime, minimize \n",
    "\n",
    "def f(x):\n",
    "    return 2*x[0]**2*x[1]**3 + x[1]**2*x[0] + 7\n",
    "eps = np.sqrt(np.finfo(float).eps)\n",
    "x = np.array([1.,2])\n",
    "approx_ = approx_fprime(x, f, [eps, eps])\n",
    "approx_                                         # производная в точке (1, 2)"
   ]
  },
  {
   "cell_type": "code",
   "execution_count": 8,
   "metadata": {},
   "outputs": [
    {
     "name": "stdout",
     "output_type": "stream",
     "text": [
      "Warning: Maximum number of function evaluations has been exceeded.\n"
     ]
    },
    {
     "data": {
      "text/plain": [
       " final_simplex: (array([[ 1.90469417e+43, -2.42744941e+44],\n",
       "       [ 1.12961760e+43, -1.43964823e+44],\n",
       "       [ 6.69942684e+42, -8.53812650e+43]]), array([-1.03784158e+220, -7.61486233e+218, -5.58718495e+217]))\n",
       "           fun: -1.0378415752970189e+220\n",
       "       message: 'Maximum number of function evaluations has been exceeded.'\n",
       "          nfev: 401\n",
       "           nit: 200\n",
       "        status: 1\n",
       "       success: False\n",
       "             x: array([ 1.90469417e+43, -2.42744941e+44])"
      ]
     },
     "execution_count": 8,
     "metadata": {},
     "output_type": "execute_result"
    }
   ],
   "source": [
    "min_ = minimize(f, x, method='nelder-mead', options = {'xtol': 1e-8 , 'disp': True})\n",
    "min_"
   ]
  },
  {
   "cell_type": "code",
   "execution_count": null,
   "metadata": {},
   "outputs": [],
   "source": [
    "\"\"\"Уровень 1:\n",
    "Градиентный спуск своими руками:\n",
    "\n",
    "1) f(x,y)=2x^2y^3 + 1/x + y^2x + 7, а для этой функции также градиент в точке (1,2)\n",
    "2) f(x,y)=x^2y - sin(xy) + cos(x^2) + 6y\n",
    "\"\"\""
   ]
  }
 ],
 "metadata": {
  "kernelspec": {
   "display_name": "Python 3",
   "language": "python",
   "name": "python3"
  },
  "language_info": {
   "codemirror_mode": {
    "name": "ipython",
    "version": 3
   },
   "file_extension": ".py",
   "mimetype": "text/x-python",
   "name": "python",
   "nbconvert_exporter": "python",
   "pygments_lexer": "ipython3",
   "version": "3.7.6"
  }
 },
 "nbformat": 4,
 "nbformat_minor": 4
}
