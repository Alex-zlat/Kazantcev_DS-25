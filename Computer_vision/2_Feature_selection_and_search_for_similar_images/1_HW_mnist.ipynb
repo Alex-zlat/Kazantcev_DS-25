{
 "cells": [
  {
   "cell_type": "code",
   "execution_count": 1,
   "id": "3a564ddd",
   "metadata": {},
   "outputs": [],
   "source": [
    "# This Python 3 environment comes with many helpful analytics libraries installed\n",
    "# It is defined by the kaggle/python Docker image: https://github.com/kaggle/docker-python\n",
    "# For example, here's several helpful packages to load\n",
    "\n",
    "import numpy as np # linear algebra\n",
    "import pandas as pd # data processing, CSV file I/O (e.g. pd.read_csv)\n"
   ]
  },
  {
   "cell_type": "markdown",
   "id": "936fba5c",
   "metadata": {},
   "source": [
    "## Загружаем данные"
   ]
  },
  {
   "cell_type": "code",
   "execution_count": 2,
   "id": "71c27f74",
   "metadata": {},
   "outputs": [],
   "source": [
    "import os\n",
    "train = np.loadtxt('train.csv', delimiter=',', skiprows=1)\n",
    "test = np.loadtxt('test.csv', delimiter=',', skiprows=1)"
   ]
  },
  {
   "cell_type": "code",
   "execution_count": 3,
   "id": "23547ee5",
   "metadata": {},
   "outputs": [
    {
     "name": "stdout",
     "output_type": "stream",
     "text": [
      "Размер обучающей разметки:  (42000,)\n",
      "Размер обучающей выборки:  (42000, 28, 28)\n",
      "Размер тестовой выборки:  (28000, 28, 28)\n"
     ]
    }
   ],
   "source": [
    "# сохраняем разметку в отдельную переменную \n",
    "\n",
    "# train_label.shape = (42000,)\n",
    "train_label = train[:, 0]  # В нулевом столбце представлены конкретные цифры \n",
    "print('Размер обучающей разметки: ', train_label.shape)\n",
    "# определяем, как будут представлены обучающая и тестовая картинки\n",
    "\n",
    "# приводим размерность к удобному для обаботки виду\n",
    "# размер train[:, 1:] = (42000, 784), размер train.shape[0] = 42000\n",
    "# берем массив train[:, 1:] и представляем его в форме train.shape[0] (т.е. len(train) = 42000 строк 28*28)\n",
    "# train.shape = (42000, 28, 28)\n",
    "\n",
    "train_img = np.resize(train[:, 1:], (train.shape[0], 28, 28))\n",
    "print('Размер обучающей выборки: ', train_img.shape)\n",
    "# test.shape = (28000, 784), test.shape[0] = 28000\n",
    "# test_img.shape = (28000, 28, 28)\n",
    "# предсталение test_img = (28000, 28, 28)\n",
    "\n",
    "test_img = np.resize(test, (test.shape[0], 28, 28))\n",
    "print('Размер тестовой выборки: ', test_img.shape)"
   ]
  },
  {
   "cell_type": "markdown",
   "id": "e7fdb634",
   "metadata": {},
   "source": [
    "## Визуализируем исходные данные"
   ]
  },
  {
   "cell_type": "code",
   "execution_count": 4,
   "id": "67b292d7",
   "metadata": {},
   "outputs": [
    {
     "data": {
      "image/png": "[encoded data removed]",
      "text/plain": [
       "<Figure size 1440x720 with 5 Axes>"
      ]
     },
     "metadata": {
      "needs_background": "light"
     },
     "output_type": "display_data"
    }
   ],
   "source": [
    "import matplotlib.pyplot as plt\n",
    "fig = plt.figure(figsize=(20, 10))\n",
    "# в enumerate() второй аргумент (здесь 1) назначает нумерацию индекса \n",
    "# (здесь нулевому элементу присвоили именование 1, а не 0)\n",
    "for i, img in enumerate(train_img[0:5], 1):\n",
    "    # здесь (1,7,i) - это 1-я строка, 7-й столбец и i-тая (для каждой картинки своя i) ячейка на сетке Figure\n",
    "    # чем больше вторая цифра (у нас она 7), тем мельче выводимое на печать изображение \n",
    "    subplot = fig.add_subplot(1, 7, i)\n",
    "    plt.imshow(img, cmap='gray');\n",
    "    # [i-1] - т.к. индекс с нуля, и в такой системе пересчета 4-й элемент на самом деле третий\n",
    "    subplot.set_title('%s' % train_label[i-1]);"
   ]
  },
  {
   "cell_type": "markdown",
   "id": "9014083b",
   "metadata": {},
   "source": [
    "## Стандартизируем данные\n",
    "Пеобразуем данные в единичный масштаб (среднее = 0 и дисперсия = 1), что является требованием для оптимальной производительности многих алгоритмов машинного обучения"
   ]
  },
  {
   "cell_type": "code",
   "execution_count": 5,
   "id": "cc42cca0",
   "metadata": {},
   "outputs": [],
   "source": [
    "from sklearn.preprocessing import StandardScaler\n",
    "scaler = StandardScaler()\n",
    "train_img = scaler.fit_transform(train[:, 1:])\n",
    "test_img = scaler.fit_transform(test)"
   ]
  },
  {
   "cell_type": "code",
   "execution_count": 6,
   "id": "2ab3c415",
   "metadata": {},
   "outputs": [
    {
     "name": "stdout",
     "output_type": "stream",
     "text": [
      "(42000, 784)\n",
      "(28000, 784)\n"
     ]
    }
   ],
   "source": [
    "print(train_img.shape)\n",
    "print(test_img.shape)"
   ]
  },
  {
   "cell_type": "markdown",
   "id": "19de2678",
   "metadata": {},
   "source": [
    "## Импортируем и применим модель PCA\n",
    "Код имеет .95 для параметра количества компонентов. \n",
    "Это означает, что scikit-learn выбирает минимальное количество главных компонентов, чтобы сохранить 95% дисперсии"
   ]
  },
  {
   "cell_type": "code",
   "execution_count": 7,
   "id": "14610838",
   "metadata": {},
   "outputs": [
    {
     "data": {
      "text/plain": [
       "PCA(n_components=0.95)"
      ]
     },
     "execution_count": 7,
     "metadata": {},
     "output_type": "execute_result"
    }
   ],
   "source": [
    "from sklearn.decomposition import PCA\n",
    "pca = PCA(.95)\n",
    "pca.fit(train_img)\n",
    "pca.fit(test_img)"
   ]
  },
  {
   "cell_type": "code",
   "execution_count": 8,
   "id": "4c2f2960",
   "metadata": {},
   "outputs": [
    {
     "name": "stdout",
     "output_type": "stream",
     "text": [
      "Размерность тестовой выборки (28000, 784)\n",
      "Размерность обучающей выборки (42000, 784)\n"
     ]
    }
   ],
   "source": [
    "print('Размерность тестовой выборки', test_img.shape)\n",
    "print('Размерность обучающей выборки', train_img.shape)"
   ]
  },
  {
   "cell_type": "code",
   "execution_count": 9,
   "id": "7707a8cf",
   "metadata": {},
   "outputs": [],
   "source": [
    "# pca.transform() - уменьшим размерность изображения \n",
    "train_img = pca.transform(train_img)\n",
    "test_img = pca.transform(test_img)"
   ]
  },
  {
   "cell_type": "markdown",
   "id": "ede4c5b3",
   "metadata": {},
   "source": [
    "## Применим к данным модель логистической регрессии"
   ]
  },
  {
   "cell_type": "code",
   "execution_count": 10,
   "id": "abc9e89f",
   "metadata": {},
   "outputs": [
    {
     "data": {
      "text/plain": [
       "array([1., 0., 1., ..., 7., 6., 9.])"
      ]
     },
     "execution_count": 10,
     "metadata": {},
     "output_type": "execute_result"
    }
   ],
   "source": [
    "train_label"
   ]
  },
  {
   "cell_type": "code",
   "execution_count": 11,
   "id": "8ccddaa0",
   "metadata": {},
   "outputs": [
    {
     "data": {
      "text/plain": [
       "LogisticRegression(solver='liblinear')"
      ]
     },
     "execution_count": 11,
     "metadata": {},
     "output_type": "execute_result"
    }
   ],
   "source": [
    "from sklearn.linear_model import LogisticRegression\n",
    "\n",
    "# для всех не указанных параметров устанавим значения по умолчанию\n",
    "# solver по умолчанию невероятно медленный, поэтому его можно было бы изменить его на \"lbfgs\"\n",
    "# однако есть трудности: \n",
    "logisticRegr = LogisticRegression(solver = 'liblinear')\n",
    "logisticRegr.fit(train_img, train_label)"
   ]
  },
  {
   "cell_type": "code",
   "execution_count": 12,
   "id": "12fdfd12",
   "metadata": {},
   "outputs": [
    {
     "name": "stdout",
     "output_type": "stream",
     "text": [
      "Размерность тестовой выборки (28000, 315)\n",
      "Размерность обучающей выборки (42000, 315)\n"
     ]
    }
   ],
   "source": [
    "print('Размерность тестовой выборки', test_img.shape)\n",
    "print('Размерность обучающей выборки', train_img.shape)"
   ]
  },
  {
   "cell_type": "markdown",
   "id": "16345e57",
   "metadata": {},
   "source": [
    "## Предскажем метки новых данных (новые изображения)\n",
    "Используем информацию, полученную моделью в процессе обучения модели."
   ]
  },
  {
   "cell_type": "code",
   "execution_count": 13,
   "id": "0e298ac5",
   "metadata": {},
   "outputs": [
    {
     "data": {
      "text/plain": [
       "array([2.])"
      ]
     },
     "execution_count": 13,
     "metadata": {},
     "output_type": "execute_result"
    }
   ],
   "source": [
    "# Код ниже предсказывает одно наблюдение\n",
    "logisticRegr.predict(test_img[0].reshape(1,-1))"
   ]
  },
  {
   "cell_type": "code",
   "execution_count": 14,
   "id": "c4fcdff7",
   "metadata": {},
   "outputs": [],
   "source": [
    "test_label = logisticRegr.predict(test_img)"
   ]
  },
  {
   "cell_type": "code",
   "execution_count": 15,
   "id": "9310453c",
   "metadata": {},
   "outputs": [
    {
     "data": {
      "text/plain": [
       "array([2., 0., 9., 7., 3.])"
      ]
     },
     "execution_count": 15,
     "metadata": {},
     "output_type": "execute_result"
    }
   ],
   "source": [
    "# Код ниже предсказывает 5 наблюдений\n",
    "test_label[0:5]"
   ]
  },
  {
   "cell_type": "markdown",
   "id": "374ded5b",
   "metadata": {},
   "source": [
    "## Разбиваем выборку на обучение и валидацию"
   ]
  },
  {
   "cell_type": "code",
   "execution_count": 16,
   "id": "342c385e",
   "metadata": {},
   "outputs": [],
   "source": [
    "from sklearn.model_selection import train_test_split\n",
    "y_train, y_val, X_train, X_val = train_test_split(\n",
    "    train_label, train_img, test_size=0.2,\n",
    "    random_state=42)"
   ]
  },
  {
   "cell_type": "markdown",
   "id": "e2fdef6c",
   "metadata": {},
   "source": [
    "## Вычисляем центроиды каждого из 10 классов\n"
   ]
  },
  {
   "cell_type": "code",
   "execution_count": 17,
   "id": "114d5c73",
   "metadata": {},
   "outputs": [],
   "source": [
    "centroids = np.zeros((10, train_img.shape[1]), dtype=np.float32)"
   ]
  },
  {
   "cell_type": "code",
   "execution_count": 18,
   "id": "cd006aa2",
   "metadata": {},
   "outputs": [
    {
     "name": "stdout",
     "output_type": "stream",
     "text": [
      "315\n"
     ]
    },
    {
     "data": {
      "text/plain": [
       "array([[0., 0., 0., ..., 0., 0., 0.],\n",
       "       [0., 0., 0., ..., 0., 0., 0.],\n",
       "       [0., 0., 0., ..., 0., 0., 0.],\n",
       "       ...,\n",
       "       [0., 0., 0., ..., 0., 0., 0.],\n",
       "       [0., 0., 0., ..., 0., 0., 0.],\n",
       "       [0., 0., 0., ..., 0., 0., 0.]], dtype=float32)"
      ]
     },
     "execution_count": 18,
     "metadata": {},
     "output_type": "execute_result"
    }
   ],
   "source": [
    "print(train_img.shape[1])\n",
    "centroids"
   ]
  },
  {
   "cell_type": "code",
   "execution_count": 19,
   "id": "336968df",
   "metadata": {},
   "outputs": [],
   "source": [
    "for i in range(10):\n",
    "    centroids[i] = np.mean(X_train[y_train == i], axis=0)"
   ]
  },
  {
   "cell_type": "markdown",
   "id": "e546726b",
   "metadata": {},
   "source": [
    "## Находим ближайший центроид для валидации"
   ]
  },
  {
   "cell_type": "code",
   "execution_count": 20,
   "id": "60bbff56",
   "metadata": {},
   "outputs": [],
   "source": [
    "# смотрим наименьшую дистанцию до соответствующей цифры \n",
    "pred_val = np.zeros_like(y_val)\n",
    "for i in range(len(y_val)):\n",
    "    distances = np.linalg.norm(centroids - X_val[i], axis=1)\n",
    "    pred_val[i] = np.argmin(distances)"
   ]
  },
  {
   "cell_type": "markdown",
   "id": "91592971",
   "metadata": {},
   "source": [
    "## Оцениваем качество решение на валидационной выборке"
   ]
  },
  {
   "cell_type": "code",
   "execution_count": 21,
   "id": "440327bd",
   "metadata": {},
   "outputs": [
    {
     "name": "stdout",
     "output_type": "stream",
     "text": [
      "Accuracy: 0.8027380952380953\n"
     ]
    }
   ],
   "source": [
    "from sklearn.metrics import accuracy_score\n",
    "print('Accuracy: %s' % accuracy_score(y_val, pred_val))"
   ]
  },
  {
   "cell_type": "code",
   "execution_count": 22,
   "id": "530e7091",
   "metadata": {},
   "outputs": [
    {
     "name": "stdout",
     "output_type": "stream",
     "text": [
      "              precision    recall  f1-score   support\n",
      "\n",
      "         0.0       0.87      0.83      0.85       816\n",
      "         1.0       0.75      0.97      0.85       909\n",
      "         2.0       0.89      0.74      0.80       846\n",
      "         3.0       0.77      0.78      0.78       937\n",
      "         4.0       0.83      0.80      0.81       839\n",
      "         5.0       0.75      0.68      0.71       702\n",
      "         6.0       0.86      0.84      0.85       785\n",
      "         7.0       0.92      0.81      0.86       893\n",
      "         8.0       0.74      0.72      0.73       835\n",
      "         9.0       0.72      0.82      0.76       838\n",
      "\n",
      "    accuracy                           0.80      8400\n",
      "   macro avg       0.81      0.80      0.80      8400\n",
      "weighted avg       0.81      0.80      0.80      8400\n",
      "\n"
     ]
    }
   ],
   "source": [
    "from sklearn.metrics import classification_report\n",
    "print(classification_report(y_val, pred_val))"
   ]
  },
  {
   "cell_type": "markdown",
   "id": "5424f092",
   "metadata": {},
   "source": [
    "Точность по класам вариативна: например, модель хорошо предсказывает семерки (92%), двойки (89%), нули (87%), шестерки (86%), четверки (83%). recall - сколько данной цифры модель нашла, support - количество таких объектов (например, семерок), f1-score - комбинация пресижн и рекол"
   ]
  },
  {
   "cell_type": "code",
   "execution_count": 23,
   "id": "469b83ac",
   "metadata": {},
   "outputs": [
    {
     "name": "stdout",
     "output_type": "stream",
     "text": [
      "[[675   0   6   6   2  64  32   0  29   2]\n",
      " [  0 886   2   1   0   1   2   0  17   0]\n",
      " [ 20  40 622  34  31   5  33   8  48   5]\n",
      " [  5  39  28 735   3  23   8  11  55  30]\n",
      " [  8  26   6   0 673   6   9   1  12  98]\n",
      " [ 11  31  11  97  18 478  17   3  14  22]\n",
      " [ 35  37  11   1   9  19 662   0  11   0]\n",
      " [  2  46   3   2  17   2   0 725  14  82]\n",
      " [ 11  57  10  63  14  39   6   3 602  30]\n",
      " [ 12  25   2  13  47   4   0  41   9 685]]\n"
     ]
    }
   ],
   "source": [
    "from sklearn.metrics import confusion_matrix\n",
    "print(confusion_matrix(y_val, pred_val))"
   ]
  },
  {
   "cell_type": "markdown",
   "id": "0c5d74e4",
   "metadata": {},
   "source": [
    "Здесь выше представлен еще один способ посмотреть, что происходит с результатами: матрица невязки. По оси Х - предсказанные значения, по оси Y - актуальные значения\n",
    "\n",
    "При идеальных предсказаниях - все большие значения должны быть на главной диагонали, все прочие позиции - нулевые\n",
    "\n",
    "Первая строка отвечает за 0: как нули мы предсказываем цифру 675 раз, а как пятерку - 64 раза. То есть нули иногда путаются с пятерками, реже - с шестерками."
   ]
  },
  {
   "cell_type": "markdown",
   "id": "e7a818c0",
   "metadata": {},
   "source": [
    "## Предсказания на тестовых данных"
   ]
  },
  {
   "cell_type": "code",
   "execution_count": 24,
   "id": "83f2b00d",
   "metadata": {},
   "outputs": [],
   "source": [
    "# инициализируем нулевой вектор предсказаний, чтобы затем заполнить его минимальной дистанцией\n",
    "pred_test = np.zeros(len(test_img), np.uint8)\n",
    "for i in range(len(test_img)):\n",
    "    distances = np.linalg.norm(centroids - test_img[i], axis=1)\n",
    "    pred_test[i] = np.argmin(distances)"
   ]
  },
  {
   "cell_type": "markdown",
   "id": "62b1c742",
   "metadata": {},
   "source": [
    "## Визуализируем предсказания"
   ]
  },
  {
   "cell_type": "code",
   "execution_count": 25,
   "id": "7f8d973f",
   "metadata": {},
   "outputs": [],
   "source": [
    "# fig = plt.figure(figsize=(20, 10))\n",
    "# for i, img in enumerate(test_img[0:5], 1):\n",
    "#     subplot = fig.add_subplot(1, 7, i)\n",
    "#     plt.imshow(img, cmap='gray');\n",
    "#     subplot.set_title('%s' % pred_test[i - 1]);"
   ]
  },
  {
   "cell_type": "markdown",
   "id": "800ee625",
   "metadata": {},
   "source": [
    "## Готовим файл для отправки"
   ]
  },
  {
   "cell_type": "code",
   "execution_count": 26,
   "id": "074c4f22",
   "metadata": {},
   "outputs": [],
   "source": [
    "# with open('submit.txt', 'w') as dst:\n",
    "#     dst.write('ImageId,Label\\n')\n",
    "#     for i, p in enumerate(pred_test, 1):\n",
    "#         dst.write('%s,%s\\n' % (i, p))"
   ]
  }
 ],
 "metadata": {
  "kernelspec": {
   "display_name": "Python 3",
   "language": "python",
   "name": "python3"
  },
  "language_info": {
   "codemirror_mode": {
    "name": "ipython",
    "version": 3
   },
   "file_extension": ".py",
   "mimetype": "text/x-python",
   "name": "python",
   "nbconvert_exporter": "python",
   "pygments_lexer": "ipython3",
   "version": "3.7.6"
  }
 },
 "nbformat": 4,
 "nbformat_minor": 5
}
