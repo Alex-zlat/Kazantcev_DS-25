{
 "cells": [
  {
   "cell_type": "code",
   "execution_count": 48,
   "metadata": {},
   "outputs": [
    {
     "data": {
      "text/html": [
       "<div>\n",
       "<style scoped>\n",
       "    .dataframe tbody tr th:only-of-type {\n",
       "        vertical-align: middle;\n",
       "    }\n",
       "\n",
       "    .dataframe tbody tr th {\n",
       "        vertical-align: top;\n",
       "    }\n",
       "\n",
       "    .dataframe thead th {\n",
       "        text-align: right;\n",
       "    }\n",
       "</style>\n",
       "<table border=\"1\" class=\"dataframe\">\n",
       "  <thead>\n",
       "    <tr style=\"text-align: right;\">\n",
       "      <th></th>\n",
       "      <th>count</th>\n",
       "    </tr>\n",
       "    <tr>\n",
       "      <th>title</th>\n",
       "      <th></th>\n",
       "    </tr>\n",
       "  </thead>\n",
       "  <tbody>\n",
       "    <tr>\n",
       "      <th>Shawshank Redemption, The (1994)</th>\n",
       "      <td>153</td>\n",
       "    </tr>\n",
       "  </tbody>\n",
       "</table>\n",
       "</div>"
      ],
      "text/plain": [
       "                                  count\n",
       "title                                  \n",
       "Shawshank Redemption, The (1994)    153"
      ]
     },
     "execution_count": 48,
     "metadata": {},
     "output_type": "execute_result"
    }
   ],
   "source": [
    "\"\"\"Задание 1\n",
    "Скачайте с сайта https://grouplens.org/datasets/movielens/ датасет любого размера. \n",
    "Определите какому фильму было выставлено больше всего оценок 5.0\"\"\"\n",
    "\n",
    "\n",
    "\n",
    "import pandas as pd\n",
    "\n",
    "movies_id = pd.read_csv('ratings.csv')                                   # читаем из файла ratings.csv\n",
    "selected_movies_id = movies_id[['movieId', 'rating']]                    # выбираем 2 столбца для представления\n",
    "movies_name = pd.read_csv('movies.csv')                                  # читаем из файла movies.csv\n",
    "joined = selected_movies_id.merge(movies_name, on='movieId', how='left') # соединяем данные таблиц по столбцу movieId\n",
    "new_row = joined[['title', 'rating']]                                    # выбираем для представления столбцы в заданном порядке\n",
    "\n",
    "max_rating = new_row.rating.max()                                        # определяем столбец, по которому считать max()\n",
    "filter_1 = new_row[new_row.rating == max_rating]                         # фильтр_1: выводить только фильмы с макс. рейтингом\n",
    "\n",
    "# группируем данные по фильму, к рейтингу применяем функцию счетчика, которая с \n",
    "# сортируем данные по убыванию и выводим первый фильм: он получил наибольшее количество оценок \"5.0\"\n",
    "filter_2 = filter_1.groupby(['title'])['rating'].agg(['count']).sort_values(by='count', ascending=False).head(1)\n",
    "filter_2"
   ]
  },
  {
   "cell_type": "code",
   "execution_count": 10,
   "metadata": {},
   "outputs": [
    {
     "data": {
      "text/plain": [
       "sum    240580.0\n",
       "Name: quantity, dtype: float64"
      ]
     },
     "execution_count": 10,
     "metadata": {},
     "output_type": "execute_result"
    }
   ],
   "source": [
    "\"\"\"Задание 2\n",
    "По данным файла power.csv посчитайте суммарное потребление стран Прибалтики (Латвия, Литва и Эстония) \n",
    "категорий 4, 12 и 21 за период с 2005 по 2010 года. \n",
    "Не учитывайте в расчетах отрицательные значения quantity\"\"\"\n",
    "\n",
    "\n",
    "import pandas as pd\n",
    "\n",
    "countries = pd.read_csv('power.csv')\n",
    "category_sorted = countries[(countries['country'].isin(['Estonia','Lithuania', 'Latvia'])) &    # определяем условия: выбираем страны\n",
    "                            (countries['quantity'] > 0) &                                       # выбираем положительные значения\n",
    "                            (countries['year'].between(2005, 2010)) &                           # выбираем период \n",
    "                            (countries['category'].isin([4, 12, 21]))]                          # выбираем категории \n",
    "sum_quantity = category_sorted['quantity'].agg(['sum']).head()                                  # суммируем значения в столбце quantity \n",
    "sum_quantity\n",
    "\n",
    "# если необходимо получить расклад в разрезе по странам, то используем нижеприведенную запись: \n",
    "# sum_country_quantity = category_sorted.groupby(['country'])['quantity'].agg(['sum']).head()\n"
   ]
  },
  {
   "cell_type": "code",
   "execution_count": 21,
   "metadata": {},
   "outputs": [
    {
     "data": {
      "text/html": [
       "<div>\n",
       "<style scoped>\n",
       "    .dataframe tbody tr th:only-of-type {\n",
       "        vertical-align: middle;\n",
       "    }\n",
       "\n",
       "    .dataframe tbody tr th {\n",
       "        vertical-align: top;\n",
       "    }\n",
       "\n",
       "    .dataframe thead th {\n",
       "        text-align: right;\n",
       "    }\n",
       "</style>\n",
       "<table border=\"1\" class=\"dataframe\">\n",
       "  <thead>\n",
       "    <tr style=\"text-align: right;\">\n",
       "      <th></th>\n",
       "      <th>Название</th>\n",
       "      <th>Цена</th>\n",
       "      <th>Изменение</th>\n",
       "      <th>Изменение(%)</th>\n",
       "      <th>Обновлено</th>\n",
       "    </tr>\n",
       "  </thead>\n",
       "  <tbody>\n",
       "    <tr>\n",
       "      <th>0</th>\n",
       "      <td>Золото Цена золота на бирже</td>\n",
       "      <td>1 835</td>\n",
       "      <td>-10.00</td>\n",
       "      <td>-1.00</td>\n",
       "      <td>NaN</td>\n",
       "    </tr>\n",
       "    <tr>\n",
       "      <th>1</th>\n",
       "      <td>Серебро Цена на серебро на бирже</td>\n",
       "      <td>24.89</td>\n",
       "      <td>-0.26</td>\n",
       "      <td>-1.04</td>\n",
       "      <td>NaN</td>\n",
       "    </tr>\n",
       "    <tr>\n",
       "      <th>2</th>\n",
       "      <td>Палладий Цена на Палладий</td>\n",
       "      <td>2 299</td>\n",
       "      <td>-7.00</td>\n",
       "      <td>-0.00</td>\n",
       "      <td>NaN</td>\n",
       "    </tr>\n",
       "    <tr>\n",
       "      <th>3</th>\n",
       "      <td>Платина Цены на платину</td>\n",
       "      <td>1 057</td>\n",
       "      <td>-9.00</td>\n",
       "      <td>-1.00</td>\n",
       "      <td>NaN</td>\n",
       "    </tr>\n",
       "    <tr>\n",
       "      <th>4</th>\n",
       "      <td>Медь Цена меди на бирже</td>\n",
       "      <td>3.52</td>\n",
       "      <td>-0.02</td>\n",
       "      <td>-0.52</td>\n",
       "      <td>NaN</td>\n",
       "    </tr>\n",
       "  </tbody>\n",
       "</table>\n",
       "</div>"
      ],
      "text/plain": [
       "                           Название   Цена  Изменение  Изменение(%)  Обновлено\n",
       "0       Золото Цена золота на бирже  1 835     -10.00         -1.00        NaN\n",
       "1  Серебро Цена на серебро на бирже  24.89      -0.26         -1.04        NaN\n",
       "2         Палладий Цена на Палладий  2 299      -7.00         -0.00        NaN\n",
       "3           Платина Цены на платину  1 057      -9.00         -1.00        NaN\n",
       "4           Медь Цена меди на бирже   3.52      -0.02         -0.52        NaN"
      ]
     },
     "execution_count": 21,
     "metadata": {},
     "output_type": "execute_result"
    }
   ],
   "source": [
    "\"\"\"Задание 3\n",
    "Выберите страницу любого сайта с табличными данными. Импортируйте таблицы в pandas dataframe.\n",
    "Примеры страниц (необязательно брать именно эти)\"\"\"\n",
    "\n",
    "import pandas as pd\n",
    "\n",
    "# currency_table = pd.read_html('https://fortrader.org/quotes', attrs= {'class': 'tabl_quotes'}, encoding='utf-8').head()\n",
    "# currency_table\n",
    "\n",
    "currency_table = pd.read_html('https://fortrader.org/quotes', encoding='utf-8')[2]\n",
    "currency_table"
   ]
  },
  {
   "cell_type": "code",
   "execution_count": null,
   "metadata": {},
   "outputs": [],
   "source": []
  }
 ],
 "metadata": {
  "kernelspec": {
   "display_name": "Python 3",
   "language": "python",
   "name": "python3"
  },
  "language_info": {
   "codemirror_mode": {
    "name": "ipython",
    "version": 3
   },
   "file_extension": ".py",
   "mimetype": "text/x-python",
   "name": "python",
   "nbconvert_exporter": "python",
   "pygments_lexer": "ipython3",
   "version": "3.7.6"
  }
 },
 "nbformat": 4,
 "nbformat_minor": 4
}
