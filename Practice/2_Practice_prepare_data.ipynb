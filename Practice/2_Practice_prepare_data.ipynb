{
 "cells": [
  {
   "cell_type": "markdown",
   "id": "e549228b",
   "metadata": {},
   "source": [
    "# Подготовка данных"
   ]
  },
  {
   "cell_type": "markdown",
   "id": "e737605e",
   "metadata": {},
   "source": [
    "### Теперь приготовим данные для поиска. Далее будем искать их с помощью библиотек, умеющих анализировать человеческий язык"
   ]
  },
  {
   "cell_type": "code",
   "execution_count": 39,
   "id": "57c7aae9",
   "metadata": {},
   "outputs": [],
   "source": [
    "from bs4 import BeautifulSoup\n",
    "# функция walk дает рекурсивное получение имен файлов в дереве каталогов\n",
    "from os import walk\n",
    "\n",
    "# модуль difflib содержит классы и функции для сравнения последовательностей (текстов)\n",
    "import difflib\n",
    "import re\n",
    "# модуль символьной перекодировки \n",
    "import codecs\n",
    "# from os import makedirs\n",
    "\n",
    "import pandas as pd\n",
    "import numpy as np\n",
    "\n",
    "# nltk - модуль для символьной и статистической обработки естественного языка\n",
    "import nltk\n",
    "import pymorphy2\n",
    "from string import punctuation"
   ]
  },
  {
   "cell_type": "code",
   "execution_count": 40,
   "id": "5d9515be",
   "metadata": {},
   "outputs": [],
   "source": [
    "pages_list = []\n",
    "\n",
    "# собираем список страниц, которые есть, для этого: проходим по raw_pages:\n",
    "for dirpath, dirnames, filenames in walk('data/raw_pages'):\n",
    "    if '.ipynb_checkpoints' in dirpath:\n",
    "        continue\n",
    "    \n",
    "    dirpath = dirpath.replace('\\\\', '/') # для Windows\n",
    "    for fn in filenames:\n",
    "        if '.DS_Store' in fn:\n",
    "            continue \n",
    "            \n",
    "        fp = f'{dirpath}/{fn}'\n",
    "        pages_list.append(fp)"
   ]
  },
  {
   "cell_type": "code",
   "execution_count": 41,
   "id": "ba931433",
   "metadata": {},
   "outputs": [
    {
     "data": {
      "text/plain": [
       "['data/raw_pages/data+raw_pages+zrg74.ru+obshhestvo+item+26920-chistovoe-vyrazhenie-v-zlatouste-oglasili-sroki-sdachi-10-jetazhki-dlja-vethoavarijshhikov.html.txt',\n",
       " 'data/raw_pages/data+raw_pages+zrg74.ru+obshhestvo+item+26924-verh-masterstva-v-zlatouste-blagoustrojstvo-jekotropy-urenga-zavershajut-rabotami-na-vysote.html.txt',\n",
       " 'data/raw_pages/data+raw_pages+zrg74.ru+obshhestvo+item+26932-kanikuljarnyj-podschjot-bolee-6-tysjach-junyh-zlatoustovcev-otdohnuli-jetim-letom-v-lagerjah-i-zdravnicah.html.txt',\n",
       " 'data/raw_pages/data+raw_pages+zrg74.ru+obshhestvo+item+26934-takoj-variant-zhiteli-zlatousta-mogut-projti-perepis-v-mfc.html.txt',\n",
       " 'data/raw_pages/data+raw_pages+zrg74.ru+obshhestvo+item+26936-po-snezhnym-koridoram-zhitelej-zlatousta-posvjatili-v-plany-po-sozdaniju-novogodnih-ploshhadok.html.txt']"
      ]
     },
     "execution_count": 41,
     "metadata": {},
     "output_type": "execute_result"
    }
   ],
   "source": [
    "pages_list[:5]"
   ]
  },
  {
   "cell_type": "code",
   "execution_count": 42,
   "id": "2c07620c",
   "metadata": {},
   "outputs": [],
   "source": [
    "def remove_script(file):\n",
    "    \"\"\"Функция облегчает жизнь difflib'у и удаляет скрипты, футеры и хедеры\"\"\"\n",
    "    # первый аргумент здесь - html_doc, второй - тип парсера \n",
    "    soup = BeautifulSoup(''.join(file), 'html.parser')\n",
    "    for s in soup.select('script'):\n",
    "        # extract()удаляет тег или строку из дерева \n",
    "        # и возвращает тег или строку, которые были извлечены\n",
    "        s.extract()\n",
    "        \n",
    "    for f in soup.select('footer'):\n",
    "        f.extract()\n",
    "    \n",
    "    # селектор CSS для проанализированного документа:  возвращает все совпадающие элементы;\n",
    "    # soup.select(\"body a\") - достанет тело данного тега;\n",
    "    # soup.select(\"title\") --> # [<title>The Dormouse's story</title>]\n",
    "    for f in soup.select('header'):\n",
    "        f.extract()\n",
    "        \n",
    "    return str(soup).split('\\n')"
   ]
  },
  {
   "cell_type": "code",
   "execution_count": 43,
   "id": "c19262e5",
   "metadata": {},
   "outputs": [],
   "source": [
    "# Теперь из полученного списка берем 2 первых файла и очищаем их функцией remove_script:\n",
    "fp_1 = 'data/raw_pages/zrg74.ru/obshhestvo/item/26920-chistovoe-vyrazhenie-v-zlatouste-oglasili-sroki-sdachi-10-jetazhki-dlja-vethoavarijshhikov.html'\n",
    "fp_2 = 'data/raw_pages/zrg74.ru/obshhestvo/item/26924-verh-masterstva-v-zlatouste-blagoustrojstvo-jekotropy-urenga-zavershajut-rabotami-na-vysote.html'\n",
    "\n",
    "with codecs.open(fp_1, 'r', 'utf_8_sig') as f:\n",
    "    file1 = remove_script(f.readlines())\n",
    "with codecs.open(fp_2, 'r', 'utf_8_sig') as f:\n",
    "    file2 = remove_script(f.readlines())"
   ]
  },
  {
   "cell_type": "code",
   "execution_count": 44,
   "id": "a252bfa5",
   "metadata": {},
   "outputs": [],
   "source": [
    "def clean_diff(diff): \n",
    "    \"\"\"Функция очиcтки (пригодится позже)\"\"\"\n",
    "    diff = re.sub('\\<[^\\<\\>]+\\>', ' ', diff)\n",
    "    diff = re.sub('&nbsp;', ' ', diff)\n",
    "    diff = re.sub('\\xa0', ' ', diff)\n",
    "    diff = re.sub('\\s\\s+', ' ', diff)\n",
    "    diff = re.sub('^[\\+\\-] ', '', diff)\n",
    "    diff = re.sub('[^\\s]*(jeg|background|li|widget|a:hover|comment|button|page|color|div|split|cartdetail|current|ul|a|span|owl|entry|tr|height|border|content|quantity|jnews|sub|#|px|url|width|Roboto|h|btn|none|t|woocommerce|img|pricegroup|p|Мы в социальных сетях|Метки|тэги|О нас|Тэги|Златоустовский рабочий|Новости Златоуста)[^\\s]*', '', diff)\n",
    "    diff = re.sub('\\>', '', diff)\n",
    "    diff = re.sub('(\\{  : ; \\})|(\\{  :  \\})|(\\{  : ;  :   : ;  : ; \\})|(\\{  : ;  : ;  : ; \\})|(\\{  :   : ; \\})|(\\{  : ;  : ; \\})|(\\(\\{    \\})|(\\{  : ;  : ;  :   : ; \\})|(\\{  :   : ;  :   : ; \\})|(\\{  :   :  \\})|(\\{  : ;  :  \\})|(\\{  : %; \\})|(\\{  1; \\})|(\\{   \\})|col-md-7', '', diff)\n",
    "    diff = re.sub('(\\s){2,50}', '', diff)\n",
    "    \n",
    "    return diff"
   ]
  },
  {
   "cell_type": "code",
   "execution_count": 45,
   "id": "f66e2e9b",
   "metadata": {},
   "outputs": [],
   "source": [
    "# теперь сравним все страницы с «эталонной»: за нее возьмем первую же ссылку.\n",
    "# difflib работает так, что сравнивает правый документ с «эталоном» слева.\n",
    "# вновь появившийся текст (справа) функция пометит плюсом \n",
    "# (также спорные моменты – знак ?, пустой символ – без изменений, \n",
    "# минус – текст, который был слева, но отсутствует в документе справа). Нам нужны только плюсы \n",
    "page_lines = []\n",
    "# ndiff в модуле in difflib позволяет получить различия между двумя текстами при их сравнении\n",
    "for diff in difflib.ndiff(file1, file2): # с предобработкой данных\n",
    "    if re.search('^\\+ ', diff) is None:\n",
    "        continue  \n",
    "    diff = clean_diff(diff)\n",
    "    if len(diff) == 0:\n",
    "        continue\n",
    "    page_lines.append(diff)\n",
    "#     print(diff)\n",
    "page_text = ' '.join(page_lines)\n",
    "\n",
    "# print(page_text)\n"
   ]
  },
  {
   "cell_type": "code",
   "execution_count": 46,
   "id": "b1d40e7e",
   "metadata": {},
   "outputs": [],
   "source": [
    "def extract_page_text(file, origin_file):\n",
    "    \"\"\"Функция объединяет методы, описанные выше в коде\"\"\"\n",
    "    page_lines = []\n",
    "    for diff in difflib.ndiff(origin_file, file):\n",
    "        if re.search('^\\+ ', diff) is None:\n",
    "            continue\n",
    "\n",
    "        diff = clean_diff(diff)\n",
    "\n",
    "        if len(diff) == 0:\n",
    "            continue\n",
    "\n",
    "        page_lines.append(diff)\n",
    "\n",
    "    page_text = '. '.join(page_lines)\n",
    "    \n",
    "    return page_text"
   ]
  },
  {
   "cell_type": "code",
   "execution_count": 47,
   "id": "0d33128e",
   "metadata": {},
   "outputs": [],
   "source": [
    "# Извлекаем тексты и сохраняем в файлы\n",
    "\n",
    "\n",
    "page_texts_path = 'data/raw_pages/'\n",
    "create_fp = lambda fp: fp.replace('/', '+').replace('\\\\', '+') + '.txt'\n",
    "\n",
    "\n",
    "with open(pages_list[0], 'r', encoding=\"utf-8\") as f:\n",
    "    origin_file = remove_script(f.readlines())\n",
    "\n",
    "with open(pages_list[1], 'r', encoding=\"utf-8\") as f:\n",
    "    file = remove_script(f.readlines())\n",
    "\n",
    "# сравниваем текст с \"эталонным\":\n",
    "page_text = extract_page_text(origin_file, file)\n",
    "# page_text\n",
    "try:\n",
    "    with open(page_texts_path + create_fp(pages_list[0]), 'w', encoding=\"utf-8\") as f:\n",
    "        f.write(page_text)\n",
    "except FileNotFoundError:\n",
    "        print(f\"Запрашиваемый файл {page_texts_path + create_fp(pages_list[0])} не найден\")\n",
    "\n",
    "for fp in pages_list[1:]:\n",
    "    with open(fp, 'r', encoding=\"utf-8\") as f:\n",
    "        file = remove_script(f.readlines())\n",
    "    \n",
    "    page_text = extract_page_text(file, origin_file)\n",
    "    with open(page_texts_path + create_fp(fp), 'w', encoding=\"utf-8\") as f:\n",
    "        f.write(page_text)"
   ]
  },
  {
   "cell_type": "code",
   "execution_count": 65,
   "id": "d729b6f4",
   "metadata": {},
   "outputs": [],
   "source": [
    "pages_texts = {}\n",
    "\n",
    "for dirpath, dirnames, filenames in walk(page_texts_path):\n",
    "    if '.ipynb_checkpoints' in dirpath:\n",
    "        continue\n",
    "        \n",
    "    for fn in filenames:\n",
    "        if '.DS_Store' in fn:\n",
    "            continue\n",
    "            \n",
    "        fp = f'{dirpath}/{fn}'\n",
    "        with open(fp, 'r', encoding=\"utf-8\") as f:\n",
    "            pt = ' '.join(f.readlines())\n",
    "        \n",
    "        original_link = fp.split('/')[-1].replace('|', '/').replace('+', '/').replace('.txt', '')\n",
    "        pages_texts[original_link] = pt"
   ]
  },
  {
   "cell_type": "markdown",
   "id": "5f40a266",
   "metadata": {},
   "source": [
    "### Займемся работой непосредственно текстами"
   ]
  },
  {
   "cell_type": "code",
   "execution_count": 66,
   "id": "6b042d60",
   "metadata": {},
   "outputs": [],
   "source": [
    "# pymorphy2 - морфологический анализатор для русского языка, написанный на языке Python и использующий словари из OpenCorpora\n",
    "# !pip install pymorphy2\n",
    "# Словари распространяются отдельным пакетом:\n",
    "# !pip install pymorphy2-dicts\n",
    "\n",
    "# ставим либо DAWG-Python, либо DAWG (он быстрее)\n",
    "# Этот пакет pure-python обеспечивает доступ \n",
    "# только для чтения к файлам, созданным библиотекой dawgdic C ++ и пакетом DAWG python\n",
    "# Основная цель DAWG-Python - предоставить доступ к DAWG, \n",
    "# не требуя скомпилированных расширений\n",
    "# !pip install DAWG-Python"
   ]
  },
  {
   "cell_type": "code",
   "execution_count": 67,
   "id": "7130c9e0",
   "metadata": {},
   "outputs": [
    {
     "name": "stdout",
     "output_type": "stream",
     "text": [
      "!\"#$%&'()*+,-./:;<=>?@[\\]^_`{|}~\n"
     ]
    },
    {
     "name": "stderr",
     "output_type": "stream",
     "text": [
      "Loading dictionaries from C:\\Users\\zlatt\\anaconda3\\lib\\site-packages\\pymorphy2_dicts_ru\\data\n",
      "format: 2.4, revision: 417127, updated: 2020-10-11T15:05:51.070345\n"
     ]
    }
   ],
   "source": [
    "# выведем знаки пунктуации\n",
    "print(punctuation)\n",
    "\n",
    "# В pymorphy2 для морфологического анализа русских слов имеется класс MorphAnalyzer\n",
    "MORPH = pymorphy2.MorphAnalyzer()\n",
    "\n",
    "def preprocess_text(text):\n",
    "    text = text.lower()\n",
    "    # множество пробелов заменяется на один:\n",
    "    text = re.sub('\\s\\s+', ' ', text)\n",
    "    return text\n",
    "\n",
    "def extract_sentences(text):\n",
    "    text = preprocess_text(text)\n",
    "\n",
    "    sentences = []\n",
    "    # sent_tokenize() - токенизация на уровне предложений:\n",
    "    for s in nltk.sent_tokenize(text):\n",
    "        wrds = []\n",
    "        # word_tokenize() - токенизация на уровне слов:\n",
    "        for wrd in nltk.word_tokenize(s):\n",
    "            if wrd in punctuation:\n",
    "                continue\n",
    "            # берем, по умолчанию, первый из доступных разборов слова MORPH.parse(wrd)[0] в его нормальной форме \n",
    "            wrd = MORPH.parse(wrd)[0].normal_form\n",
    "            wrds.append(wrd)\n",
    "            \n",
    "        clear_sentence = ' '.join(wrds)\n",
    "        \n",
    "        sentences.append(clear_sentence)\n",
    "    \n",
    "    return sentences"
   ]
  },
  {
   "cell_type": "code",
   "execution_count": 68,
   "id": "e7e42296",
   "metadata": {},
   "outputs": [
    {
     "data": {
      "text/plain": [
       "Parse(word='берёзой', tag=OpencorporaTag('NOUN,inan,femn sing,ablt'), normal_form='берёза', score=1.0, methods_stack=((DictionaryAnalyzer(), 'берёзой', 55, 4),))"
      ]
     },
     "execution_count": 68,
     "metadata": {},
     "output_type": "execute_result"
    }
   ],
   "source": [
    "# Сделаем проверку того, как работает анализатор\n",
    "MORPH.parse('березой')[0]"
   ]
  },
  {
   "cell_type": "code",
   "execution_count": 69,
   "id": "15d68f5c",
   "metadata": {},
   "outputs": [
    {
     "data": {
      "text/plain": [
       "['Винсент ван Гог писал много.',\n",
       " 'Ценители счастливы, когда рассматривают его картины']"
      ]
     },
     "execution_count": 69,
     "metadata": {},
     "output_type": "execute_result"
    }
   ],
   "source": [
    "nltk.sent_tokenize('Винсент ван Гог писал много. Ценители счастливы, когда рассматривают его картины')"
   ]
  },
  {
   "cell_type": "code",
   "execution_count": 70,
   "id": "1392c4cd",
   "metadata": {},
   "outputs": [
    {
     "data": {
      "text/plain": [
       "['Винсент', 'ван', 'Гог', 'писал', 'много', '-', '1700руб./картина']"
      ]
     },
     "execution_count": 70,
     "metadata": {},
     "output_type": "execute_result"
    }
   ],
   "source": [
    "nltk.word_tokenize('Винсент ван Гог писал много - 1700руб./картина')"
   ]
  },
  {
   "cell_type": "code",
   "execution_count": 71,
   "id": "4d52256e",
   "metadata": {},
   "outputs": [
    {
     "data": {
      "text/plain": [
       "20"
      ]
     },
     "execution_count": 71,
     "metadata": {},
     "output_type": "execute_result"
    }
   ],
   "source": [
    "len(pages_texts)"
   ]
  },
  {
   "cell_type": "code",
   "execution_count": 72,
   "id": "7217795d",
   "metadata": {},
   "outputs": [
    {
     "name": "stderr",
     "output_type": "stream",
     "text": [
      "[nltk_data] Downloading package punkt to\n",
      "[nltk_data]     C:\\Users\\zlatt\\AppData\\Roaming\\nltk_data...\n",
      "[nltk_data]   Package punkt is already up-to-date!\n"
     ]
    },
    {
     "data": {
      "text/plain": [
       "True"
      ]
     },
     "execution_count": 72,
     "metadata": {},
     "output_type": "execute_result"
    }
   ],
   "source": [
    "nltk.download('punkt')"
   ]
  },
  {
   "cell_type": "code",
   "execution_count": 87,
   "id": "eab810ba",
   "metadata": {},
   "outputs": [],
   "source": [
    "full_link_df = pd.DataFrame(columns=['link', 'sentence_order', 'sentence_text'])\n",
    "\n",
    "for link, text in pages_texts.items():\n",
    "    sentences = extract_sentences(text) \n",
    "    sentence_count = len(sentences)\n",
    "#     for sent in sentences:\n",
    "#         for wr in sent:\n",
    "#             wr = wr.decode('utf-8', 'replace')\n",
    "    \n",
    "    link_df = pd.DataFrame({'link': np.repeat(link, sentence_count),\n",
    "                            'sentence_order': np.arange(sentence_count),\n",
    "                            'sentence_text': sentences})\n",
    "    \n",
    "    full_link_df = full_link_df.append(link_df)"
   ]
  },
  {
   "cell_type": "code",
   "execution_count": 88,
   "id": "e61df57a",
   "metadata": {},
   "outputs": [
    {
     "data": {
      "text/html": [
       "<div>\n",
       "<style scoped>\n",
       "    .dataframe tbody tr th:only-of-type {\n",
       "        vertical-align: middle;\n",
       "    }\n",
       "\n",
       "    .dataframe tbody tr th {\n",
       "        vertical-align: top;\n",
       "    }\n",
       "\n",
       "    .dataframe thead th {\n",
       "        text-align: right;\n",
       "    }\n",
       "</style>\n",
       "<table border=\"1\" class=\"dataframe\">\n",
       "  <thead>\n",
       "    <tr style=\"text-align: right;\">\n",
       "      <th></th>\n",
       "      <th>link</th>\n",
       "      <th>sentence_order</th>\n",
       "      <th>sentence_text</th>\n",
       "    </tr>\n",
       "  </thead>\n",
       "  <tbody>\n",
       "    <tr>\n",
       "      <th>0</th>\n",
       "      <td>data/raw_pages/zrg74.ru/obshhestvo/item/26920-...</td>\n",
       "      <td>0</td>\n",
       "      <td>--</td>\n",
       "    </tr>\n",
       "    <tr>\n",
       "      <th>1</th>\n",
       "      <td>data/raw_pages/zrg74.ru/obshhestvo/item/26920-...</td>\n",
       "      <td>1</td>\n",
       "      <td>чистовой выражение</td>\n",
       "    </tr>\n",
       "    <tr>\n",
       "      <th>2</th>\n",
       "      <td>data/raw_pages/zrg74.ru/obshhestvo/item/26920-...</td>\n",
       "      <td>2</td>\n",
       "      <td>в златоуст огласить срок сдача 10-этажка для в...</td>\n",
       "    </tr>\n",
       "    <tr>\n",
       "      <th>3</th>\n",
       "      <td>data/raw_pages/zrg74.ru/obshhestvo/item/26920-...</td>\n",
       "      <td>3</td>\n",
       "      <td></td>\n",
       "    </tr>\n",
       "    <tr>\n",
       "      <th>4</th>\n",
       "      <td>data/raw_pages/zrg74.ru/obshhestvo/item/26920-...</td>\n",
       "      <td>4</td>\n",
       "      <td>1em</td>\n",
       "    </tr>\n",
       "    <tr>\n",
       "      <th>...</th>\n",
       "      <td>...</td>\n",
       "      <td>...</td>\n",
       "      <td>...</td>\n",
       "    </tr>\n",
       "    <tr>\n",
       "      <th>401</th>\n",
       "      <td>26959-rabota-ne-dlja-galochki-zlatoustovec-pov...</td>\n",
       "      <td>401</td>\n",
       "      <td>\\u0421\\u0447\\u0438\\u0442\\u0430\\u044e \\u0447\\u0...</td>\n",
       "    </tr>\n",
       "    <tr>\n",
       "      <th>402</th>\n",
       "      <td>26959-rabota-ne-dlja-galochki-zlatoustovec-pov...</td>\n",
       "      <td>402</td>\n",
       "      <td>\\u042d\\u0442\\u0438 \\u0434\\u0430\\u043d\\u043d\\u0...</td>\n",
       "    </tr>\n",
       "    <tr>\n",
       "      <th>403</th>\n",
       "      <td>26959-rabota-ne-dlja-galochki-zlatoustovec-pov...</td>\n",
       "      <td>403</td>\n",
       "      <td>\\u041e\\u043d\\u0438 \\u043f\\u043e\\u043c\\u043e\\u0...</td>\n",
       "    </tr>\n",
       "    <tr>\n",
       "      <th>404</th>\n",
       "      <td>26959-rabota-ne-dlja-galochki-zlatoustovec-pov...</td>\n",
       "      <td>404</td>\n",
       "      <td>\\u041a\\u0440\\u043e\\u043c\\u0435 \\u0442\\u043e\\u0...</td>\n",
       "    </tr>\n",
       "    <tr>\n",
       "      <th>405</th>\n",
       "      <td>26959-rabota-ne-dlja-galochki-zlatoustovec-pov...</td>\n",
       "      <td>405</td>\n",
       "      <td>\\u0417\\u043b\\u0430\\u0442\\u043e\\u0443\\u0441\\u04...</td>\n",
       "    </tr>\n",
       "  </tbody>\n",
       "</table>\n",
       "<p>8226 rows × 3 columns</p>\n",
       "</div>"
      ],
      "text/plain": [
       "                                                  link sentence_order  \\\n",
       "0    data/raw_pages/zrg74.ru/obshhestvo/item/26920-...              0   \n",
       "1    data/raw_pages/zrg74.ru/obshhestvo/item/26920-...              1   \n",
       "2    data/raw_pages/zrg74.ru/obshhestvo/item/26920-...              2   \n",
       "3    data/raw_pages/zrg74.ru/obshhestvo/item/26920-...              3   \n",
       "4    data/raw_pages/zrg74.ru/obshhestvo/item/26920-...              4   \n",
       "..                                                 ...            ...   \n",
       "401  26959-rabota-ne-dlja-galochki-zlatoustovec-pov...            401   \n",
       "402  26959-rabota-ne-dlja-galochki-zlatoustovec-pov...            402   \n",
       "403  26959-rabota-ne-dlja-galochki-zlatoustovec-pov...            403   \n",
       "404  26959-rabota-ne-dlja-galochki-zlatoustovec-pov...            404   \n",
       "405  26959-rabota-ne-dlja-galochki-zlatoustovec-pov...            405   \n",
       "\n",
       "                                         sentence_text  \n",
       "0                                                   --  \n",
       "1                                   чистовой выражение  \n",
       "2    в златоуст огласить срок сдача 10-этажка для в...  \n",
       "3                                                       \n",
       "4                                                  1em  \n",
       "..                                                 ...  \n",
       "401  \\u0421\\u0447\\u0438\\u0442\\u0430\\u044e \\u0447\\u0...  \n",
       "402  \\u042d\\u0442\\u0438 \\u0434\\u0430\\u043d\\u043d\\u0...  \n",
       "403  \\u041e\\u043d\\u0438 \\u043f\\u043e\\u043c\\u043e\\u0...  \n",
       "404  \\u041a\\u0440\\u043e\\u043c\\u0435 \\u0442\\u043e\\u0...  \n",
       "405  \\u0417\\u043b\\u0430\\u0442\\u043e\\u0443\\u0441\\u04...  \n",
       "\n",
       "[8226 rows x 3 columns]"
      ]
     },
     "execution_count": 88,
     "metadata": {},
     "output_type": "execute_result"
    }
   ],
   "source": [
    "full_link_df"
   ]
  },
  {
   "cell_type": "code",
   "execution_count": 89,
   "id": "c4cbfb67",
   "metadata": {},
   "outputs": [],
   "source": [
    "full_link_df.to_csv('data/link_page_sentences.csv', index=False)"
   ]
  },
  {
   "cell_type": "code",
   "execution_count": 90,
   "id": "8185f4c1",
   "metadata": {},
   "outputs": [
    {
     "data": {
      "text/html": [
       "<div>\n",
       "<style scoped>\n",
       "    .dataframe tbody tr th:only-of-type {\n",
       "        vertical-align: middle;\n",
       "    }\n",
       "\n",
       "    .dataframe tbody tr th {\n",
       "        vertical-align: top;\n",
       "    }\n",
       "\n",
       "    .dataframe thead th {\n",
       "        text-align: right;\n",
       "    }\n",
       "</style>\n",
       "<table border=\"1\" class=\"dataframe\">\n",
       "  <thead>\n",
       "    <tr style=\"text-align: right;\">\n",
       "      <th></th>\n",
       "      <th>link</th>\n",
       "      <th>sentence_order</th>\n",
       "      <th>sentence_text</th>\n",
       "    </tr>\n",
       "  </thead>\n",
       "  <tbody>\n",
       "    <tr>\n",
       "      <th>0</th>\n",
       "      <td>data/raw_pages/zrg74.ru/obshhestvo/item/26920-...</td>\n",
       "      <td>0</td>\n",
       "      <td>--</td>\n",
       "    </tr>\n",
       "    <tr>\n",
       "      <th>1</th>\n",
       "      <td>data/raw_pages/zrg74.ru/obshhestvo/item/26920-...</td>\n",
       "      <td>1</td>\n",
       "      <td>чистовой выражение</td>\n",
       "    </tr>\n",
       "    <tr>\n",
       "      <th>2</th>\n",
       "      <td>data/raw_pages/zrg74.ru/obshhestvo/item/26920-...</td>\n",
       "      <td>2</td>\n",
       "      <td>в златоуст огласить срок сдача 10-этажка для в...</td>\n",
       "    </tr>\n",
       "    <tr>\n",
       "      <th>3</th>\n",
       "      <td>data/raw_pages/zrg74.ru/obshhestvo/item/26920-...</td>\n",
       "      <td>3</td>\n",
       "      <td>NaN</td>\n",
       "    </tr>\n",
       "    <tr>\n",
       "      <th>4</th>\n",
       "      <td>data/raw_pages/zrg74.ru/obshhestvo/item/26920-...</td>\n",
       "      <td>4</td>\n",
       "      <td>1em</td>\n",
       "    </tr>\n",
       "  </tbody>\n",
       "</table>\n",
       "</div>"
      ],
      "text/plain": [
       "                                                link  sentence_order  \\\n",
       "0  data/raw_pages/zrg74.ru/obshhestvo/item/26920-...               0   \n",
       "1  data/raw_pages/zrg74.ru/obshhestvo/item/26920-...               1   \n",
       "2  data/raw_pages/zrg74.ru/obshhestvo/item/26920-...               2   \n",
       "3  data/raw_pages/zrg74.ru/obshhestvo/item/26920-...               3   \n",
       "4  data/raw_pages/zrg74.ru/obshhestvo/item/26920-...               4   \n",
       "\n",
       "                                       sentence_text  \n",
       "0                                                 --  \n",
       "1                                 чистовой выражение  \n",
       "2  в златоуст огласить срок сдача 10-этажка для в...  \n",
       "3                                                NaN  \n",
       "4                                                1em  "
      ]
     },
     "execution_count": 90,
     "metadata": {},
     "output_type": "execute_result"
    }
   ],
   "source": [
    "pd.read_csv('data/link_page_sentences.csv').head()"
   ]
  },
  {
   "cell_type": "code",
   "execution_count": 91,
   "id": "8d623f33",
   "metadata": {},
   "outputs": [
    {
     "name": "stdout",
     "output_type": "stream",
     "text": [
      "Collecting pyarrow\n",
      "  Downloading pyarrow-6.0.1-cp37-cp37m-win_amd64.whl (15.4 MB)\n"
     ]
    },
    {
     "name": "stderr",
     "output_type": "stream",
     "text": [
      "WARNING: Ignoring invalid distribution -rpcio (c:\\users\\zlatt\\anaconda3\\lib\\site-packages)\n",
      "WARNING: Ignoring invalid distribution -rpcio (c:\\users\\zlatt\\anaconda3\\lib\\site-packages)\n",
      "WARNING: Ignoring invalid distribution -rpcio (c:\\users\\zlatt\\anaconda3\\lib\\site-packages)\n",
      "WARNING: Ignoring invalid distribution -rpcio (c:\\users\\zlatt\\anaconda3\\lib\\site-packages)\n",
      "WARNING: Ignoring invalid distribution -rpcio (c:\\users\\zlatt\\anaconda3\\lib\\site-packages)\n",
      "WARNING: Ignoring invalid distribution -rpcio (c:\\users\\zlatt\\anaconda3\\lib\\site-packages)\n",
      "WARNING: Ignoring invalid distribution -rpcio (c:\\users\\zlatt\\anaconda3\\lib\\site-packages)\n",
      "WARNING: You are using pip version 21.2.4; however, version 21.3.1 is available.\n",
      "You should consider upgrading via the 'c:\\users\\zlatt\\anaconda3\\python.exe -m pip install --upgrade pip' command.\n"
     ]
    },
    {
     "name": "stdout",
     "output_type": "stream",
     "text": [
      "Requirement already satisfied: numpy>=1.16.6 in c:\\users\\zlatt\\anaconda3\\lib\\site-packages (from pyarrow) (1.19.5)\n",
      "Installing collected packages: pyarrow\n",
      "Successfully installed pyarrow-6.0.1\n"
     ]
    }
   ],
   "source": [
    "# !pip install pyarrow\n",
    "# Эта библиотека предоставляет Python API для функций, \n",
    "# предоставляемых библиотеками Arrow C ++, \n",
    "# а также инструменты для интеграции Arrow \n",
    "# и взаимодействия с pandas, NumPy и \n",
    "# другим программным обеспечением в экосистеме Python"
   ]
  },
  {
   "cell_type": "code",
   "execution_count": null,
   "id": "88630362",
   "metadata": {},
   "outputs": [],
   "source": []
  }
 ],
 "metadata": {
  "kernelspec": {
   "display_name": "Python 3",
   "language": "python",
   "name": "python3"
  },
  "language_info": {
   "codemirror_mode": {
    "name": "ipython",
    "version": 3
   },
   "file_extension": ".py",
   "mimetype": "text/x-python",
   "name": "python",
   "nbconvert_exporter": "python",
   "pygments_lexer": "ipython3",
   "version": "3.7.6"
  }
 },
 "nbformat": 4,
 "nbformat_minor": 5
}
