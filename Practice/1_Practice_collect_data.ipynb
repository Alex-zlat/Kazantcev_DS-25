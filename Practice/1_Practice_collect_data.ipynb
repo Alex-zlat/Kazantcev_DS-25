{
 "cells": [
  {
   "cell_type": "markdown",
   "id": "152bfb8c",
   "metadata": {},
   "source": [
    "# Сбор данных"
   ]
  },
  {
   "cell_type": "code",
   "execution_count": 2,
   "id": "cc4043a3",
   "metadata": {},
   "outputs": [],
   "source": [
    "import requests\n",
    "import re\n",
    "from bs4 import BeautifulSoup\n",
    "from os import makedirs\n",
    "# from urllib.parse import urlparse"
   ]
  },
  {
   "cell_type": "code",
   "execution_count": 3,
   "id": "e96ddbe8",
   "metadata": {},
   "outputs": [],
   "source": [
    "# прописываем типы браузеров, с которыми будем работать\n",
    "USER_AGENT = 'Mozilla/5.0 (Macintosh; Intel Mac OS X 10_9_3) AppleWebKit/537.36 (KHTML, like Gecko) Chrome/35.0.1916.47 Safari/537.36'\n",
    "\n",
    "def get_page_text(url, user_agent, error_log=True): # error_log=True - записываем ошибки\n",
    "    \"\"\"Функция получает исходник страницы в том виде, в котором она есть.\n",
    "    Если все успешно (response.status_code == 200), то возвращается страничка, иначе - пустота\"\"\"\n",
    "    headers = {'User-Agent': user_agent}\n",
    "    response = requests.get(url, headers=headers, allow_redirects=True)\n",
    "\n",
    "    if response.status_code == 200:\n",
    "        page_text = response.text\n",
    "        return page_text\n",
    "    elif error_log:\n",
    "        print(f'Ошибка! Response code: {response.status_code}')\n",
    "        print(f'URL: {url}')\n",
    "        print('--------------')\n",
    "    \n",
    "    return None"
   ]
  },
  {
   "cell_type": "code",
   "execution_count": 4,
   "id": "73dd9b81",
   "metadata": {},
   "outputs": [],
   "source": [
    "# поработаем с функцией - посмотрим, как она работает\n",
    "index=1\n",
    "url = f'http://zrg74.ru/category/obshhestvo/page/{index}'\n",
    "\n",
    "page_text = get_page_text(url, USER_AGENT)"
   ]
  },
  {
   "cell_type": "code",
   "execution_count": 5,
   "id": "27dbe7d1",
   "metadata": {},
   "outputs": [],
   "source": [
    "# url"
   ]
  },
  {
   "cell_type": "code",
   "execution_count": 6,
   "id": "74621268",
   "metadata": {},
   "outputs": [],
   "source": [
    "# print(page_text[:1000])"
   ]
  },
  {
   "cell_type": "code",
   "execution_count": 9,
   "id": "4ab4883d",
   "metadata": {},
   "outputs": [],
   "source": [
    "import urllib.parse\n",
    "# from urllib.parse import urlparse\n",
    "\n",
    "soup = BeautifulSoup(page_text)\n",
    "# по тегам выберем только те фрагменты страницы, которые интересуют\n",
    "# здесь 'div' - фильтр, а конкретный класс - из отфильтрованных контейнеров div делаем выбор лишь по нему \n",
    "posts_list = soup.find_all('div', {'class': 'jeg_post_excerpt'})  \n",
    "counter = 0\n",
    "for p in posts_list:\n",
    "    if not p.find('a').attrs['href'] is None:\n",
    "        lnk = p.find('a').attrs['href']\n",
    "    \n",
    "        page_text = get_page_text(lnk, USER_AGENT)\n",
    "        if page_text is None:\n",
    "            continue\n",
    "        \n",
    "        \n",
    "        urlSplit = urllib.parse.urlsplit(lnk)\n",
    "        if counter == 0:\n",
    "            dir_path = 'data/raw_pages/' + urlSplit.netloc + '/'.join(urlSplit.path.split('/')[:-1])\n",
    "            makedirs(dir_path, exist_ok=False) # exist_ok=True - управление ошибкой\n",
    "            with open(dir_path + '/' + urlSplit.path.split('/')[-1], 'w', encoding='utf-8') as f:\n",
    "                f.write(page_text)\n",
    "            counter+=1\n",
    "        else:\n",
    "            with open(dir_path + '/' + urlSplit.path.split('/')[-1], 'w', encoding='utf-8') as f:\n",
    "                f.write(page_text)\n"
   ]
  },
  {
   "cell_type": "markdown",
   "id": "10a12786",
   "metadata": {},
   "source": [
    "Теперь реализуем несколько иной вариант поиска \n"
   ]
  },
  {
   "cell_type": "code",
   "execution_count": 29,
   "id": "378d8d60",
   "metadata": {},
   "outputs": [],
   "source": [
    "# # Пишем вспомогательные функции. Очищаем ссылку — убираем лишние символы (например, уберем якоря а):\n",
    "# def clear_link(page_link):\n",
    "#     \"\"\"\n",
    "#     re.sub(pattern, repl, string, count=0, flags=0)\n",
    "#     pattern - строка шаблона регулярного выражения (находим сочетание символов)\n",
    "#     repl - строка замены (меняем их на такие-то иные символы)\n",
    "#     string - строка для поиска (в такой-то строке)\n",
    "#     \"\"\"\n",
    "#     page_link = re.sub('^\\/', '', page_link) # находим символ \"/\" в начале строки и меняем его на пустой символ\n",
    "#     # находим символы \"#?\"+\"любой символ (кроме перевода строки)\" - от одного раза и больше, \n",
    "#     # меняем их на пустой символ\n",
    "#     page_link = re.sub('[\\#\\?].+', '', page_link) \n",
    "    \n",
    "#     return page_link"
   ]
  },
  {
   "cell_type": "code",
   "execution_count": 1,
   "id": "a9a2f96e",
   "metadata": {},
   "outputs": [
    {
     "name": "stdout",
     "output_type": "stream",
     "text": [
      " HTML \n",
      "http://zrg74.ru/obshhestvo/item/27073-uklon-na-sport-v-zlatouste-planirujut-rekonstruirovat-gornolyzhnuju-bazu-v-rajone-balashihi.html\n",
      "http://zrg74.ru/obshhestvo/item/27050-otdohnut-s-appetitom-selo-pod-zlatoustom-sobralo-fermerov-regiona-na-festival-agroturizma.html\n",
      "http://zrg74.ru/proisshestviya/item/27049-postsezonnyj-obhod-v-zlatouste-zaderzhali-dachnogo-vorishku.html\n",
      "http://zrg74.ru/proisshestviya/item/27038-spasti-ne-udalos-pozhar-v-odnoj-iz-kvartir-zlatousta-unes-zhizn-7-letnego-malchika.html\n",
      "http://zrg74.ru/obshhestvo/item/27039-pokazal-nagljadno-razrabotku-shkolnika-iz-zlatousta-ocenili-na-prestizhnom-mezhdunarodnom-smotre.html\n",
      "http://zrg74.ru/kulytura/item/27029-zhizn-kak-posvjashhenie-v-zlatouste-otkryli-pamjatnik-imenitomu-skulptoru.html\n",
      "http://zrg74.ru/sport/item/27027-dostizhenij-kompleks-komanda-iz-zlatousta-vzjala-serebro-na-festivale-gto.html\n"
     ]
    }
   ],
   "source": [
    "# import requests\n",
    "# from bs4 import BeautifulSoup\n",
    "\n",
    "main_url = f'http://www.zrg74.ru/'\n",
    "\n",
    "# прописываем типы браузеров, с которыми будем работать\n",
    "USER_AGENT = 'Mozilla/5.0 (Macintosh; Intel Mac OS X 10_9_3) AppleWebKit/537.36 (KHTML, like Gecko) Chrome/35.0.1916.47 Safari/537.36'\n",
    "\n",
    "def get_page_text(url, user_agent, error_log=True):\n",
    "    headers = {'User-Agent': user_agent}\n",
    "    response = requests.get(url, headers=headers, allow_redirects=True)\n",
    "    if response.status_code == 200:\n",
    "        with open('test.html', 'w', encoding='utf-8') as output_file:\n",
    "            print(' HTML ')\n",
    "            output_file.write(response.text)\n",
    "        page_text = response.text\n",
    "        return page_text\n",
    "    elif error_log:\n",
    "        print(f'Ошибка! Response code: {response.status_code}')\n",
    "        print(f'URL: {url}')\n",
    "    return None\n",
    "\n",
    "page_text = get_page_text(main_url, USER_AGENT)\n",
    "soup = BeautifulSoup(page_text, 'lxml')\n",
    "links = soup.find('div', class_=\"jeg_posts jeg_load_more_flag\").find_all('h3', class_=\"jeg_post_title\")\n",
    "\n",
    "for link in links:\n",
    "    print (link.find('a').get('href'))"
   ]
  },
  {
   "cell_type": "code",
   "execution_count": null,
   "id": "0fca7119",
   "metadata": {},
   "outputs": [],
   "source": []
  }
 ],
 "metadata": {
  "kernelspec": {
   "display_name": "Python 3",
   "language": "python",
   "name": "python3"
  },
  "language_info": {
   "codemirror_mode": {
    "name": "ipython",
    "version": 3
   },
   "file_extension": ".py",
   "mimetype": "text/x-python",
   "name": "python",
   "nbconvert_exporter": "python",
   "pygments_lexer": "ipython3",
   "version": "3.7.6"
  }
 },
 "nbformat": 4,
 "nbformat_minor": 5
}
