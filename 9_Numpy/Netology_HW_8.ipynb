{
 "cells": [
  {
   "cell_type": "code",
   "execution_count": 1,
   "metadata": {},
   "outputs": [
    {
     "data": {
      "text/plain": [
       "array([9, 8, 7, 6, 5, 4, 3, 2, 1, 0])"
      ]
     },
     "execution_count": 1,
     "metadata": {},
     "output_type": "execute_result"
    }
   ],
   "source": [
    "\"\"\"Задание 1\n",
    "Создайте numpy array с элементами от числа N до 0 (например, для N = 10 это будет array([9, 8, 7, 6, 5, 4, 3, 2, 1, 0]))\"\"\"\n",
    "\n",
    "import numpy as np\n",
    "\n",
    "a = np.array(range(10))\n",
    "a[::-1]"
   ]
  },
  {
   "cell_type": "code",
   "execution_count": 2,
   "metadata": {},
   "outputs": [
    {
     "name": "stdout",
     "output_type": "stream",
     "text": [
      "[[10  0  0  0]\n",
      " [ 0  8  0  0]\n",
      " [ 0  0  6  0]\n",
      " [ 0  0  0  4]]\n",
      "28\n"
     ]
    }
   ],
   "source": [
    "\"\"\"Задание 2\n",
    "Создайте диагональную матрицу с элементами от N до 0. Посчитайте сумму ее значений на диагонали\"\"\"\n",
    "\n",
    "import numpy as np\n",
    "\n",
    "a = np.diag(np.arange(10, 2, -2))\n",
    "print(a)\n",
    "print(np.sum(a))\n"
   ]
  },
  {
   "cell_type": "code",
   "execution_count": 3,
   "metadata": {},
   "outputs": [
    {
     "name": "stdout",
     "output_type": "stream",
     "text": [
      "[-5.18181818  5.72727273 13.27272727]\n",
      "True\n"
     ]
    }
   ],
   "source": [
    "\"\"\"Задание 3\n",
    "Решите систему уравнений:\n",
    "4x + 2y + z = 4\n",
    "x + 3y = 12\n",
    "5y + 4z = -3\"\"\"\n",
    "\n",
    "from numpy import linalg\n",
    "a = np.array([[4, 2, 1], [1, 3, 0], [5, 4, 0]])\n",
    "b = np.array([4, 12, -3])\n",
    "print(linalg.solve(a, b))\n",
    "\n",
    "print(np.allclose(np.dot(a, linalg.solve(a,b)), b))\n"
   ]
  },
  {
   "cell_type": "code",
   "execution_count": 1,
   "metadata": {},
   "outputs": [
    {
     "name": "stdout",
     "output_type": "stream",
     "text": [
      "[0.2, 0.85, 0.4, 0.79, 0.4, 0.0, 0.0, 0.95, 0.0, 0.0]\n"
     ]
    }
   ],
   "source": [
    "\"\"\"Имеется база покупок Интернет-магазина. Столбец А - ID пользователя, остальные столбцы - \n",
    "количество покупок категорий товаров, совершенных данными пользователями. \n",
    "Найдите самого похожего пользователя. \n",
    "Т. е. посчитайте косинусное сходство между этим пользователем и всеми пользователями из массива user_stats\n",
    "\"\"\"\n",
    "import numpy as np\n",
    "users_stats = np.array(\n",
    "    [\n",
    "        [2, 1, 0, 0, 0, 0],\n",
    "        [1, 1, 2, 1, 0, 0],\n",
    "        [2, 0, 1, 0, 0, 0],\n",
    "        [1, 1, 2, 1, 0, 1],\n",
    "        [0, 0, 1, 2, 0, 0],\n",
    "        [0, 0, 0, 0, 0, 5],\n",
    "        [1, 0, 0, 0, 0, 0],\n",
    "        [0, 1, 1, 0, 0, 0],\n",
    "        [0, 0, 0, 1, 1, 3],\n",
    "        [1, 0, 0, 2, 1, 4]\n",
    "    ], \n",
    "    np.int32\n",
    ")\n",
    "\n",
    "next_user_stats = np.array([0, 1, 2, 0, 0, 0])\n",
    "\n",
    "\n",
    "\n",
    "\n",
    "similarity=[]\n",
    "next_user_stats_lenght = np.linalg.norm(next_user_stats)\n",
    "\n",
    "# перебираем циклом массив:\n",
    "for line in users_stats:\n",
    "    users_stats_lenght = np.linalg.norm(line)              \n",
    "    \n",
    "    # заполняем пустой список элементами: \n",
    "    # элементы similarity - это косинусное сходство каждого покупателя из users_stats с новым покупателем next_user_stats:\n",
    "    new_items = similarity.append(round((np.dot(line, next_user_stats)/(users_stats_lenght*next_user_stats_lenght)), 2))\n",
    "print(similarity)\n"
   ]
  },
  {
   "cell_type": "code",
   "execution_count": null,
   "metadata": {},
   "outputs": [],
   "source": []
  }
 ],
 "metadata": {
  "kernelspec": {
   "display_name": "Python 3",
   "language": "python",
   "name": "python3"
  },
  "language_info": {
   "codemirror_mode": {
    "name": "ipython",
    "version": 3
   },
   "file_extension": ".py",
   "mimetype": "text/x-python",
   "name": "python",
   "nbconvert_exporter": "python",
   "pygments_lexer": "ipython3",
   "version": "3.7.6"
  }
 },
 "nbformat": 4,
 "nbformat_minor": 4
}
