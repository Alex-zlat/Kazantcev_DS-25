{
 "cells": [
  {
   "cell_type": "code",
   "execution_count": 1,
   "metadata": {},
   "outputs": [],
   "source": [
    "\"\"\"Задание 1\n",
    "Печатные газеты использовали свой формат дат для каждого выпуска. \n",
    "Для каждой газеты из списка напишите формат указанной даты для перевода в объект datetime:\n",
    "The Moscow Times - Wednesday, October 2, 2002\n",
    "The Guardian - Friday, 11.10.13\n",
    "Daily News - Thursday, 18 August 1977\"\"\"\n",
    "\n",
    "from datetime import datetime as dt\n",
    "\n",
    "date_form = ['Wednesday, October 2, 2002', 'Friday, 11.10.13', 'Thursday, 18 August 1977']\n",
    "\n",
    "def date_transform():\n",
    "    \"\"\"\n",
    "    Функция преобразует введенный формат даты в формат datetime \n",
    "    \"\"\"\n",
    "    for formats in date_form:\n",
    "        try:\n",
    "            return date_transform == dt.strptime(date_form, '%A, %B, %d, %Y') \n",
    "        except:\n",
    "            pass\n",
    "        try:\n",
    "            return date_transform == dt.strptime(date_form, '%A, %d.%m.%y')  \n",
    "        except:\n",
    "            pass\n",
    "        try:\n",
    "            return date_transform == dt.strptime(date_form, '%A, %d, %B, %Y')    \n",
    "        except:\n",
    "            pass\n",
    "    return None \n"
   ]
  },
  {
   "cell_type": "code",
   "execution_count": 12,
   "metadata": {},
   "outputs": [
    {
     "data": {
      "text/plain": [
       "False"
      ]
     },
     "execution_count": 12,
     "metadata": {},
     "output_type": "execute_result"
    }
   ],
   "source": [
    "\"\"\"Задание 2\n",
    "Дан поток дат в формате YYYY-MM-DD, в которых встречаются некорректные значения:\n",
    "stream = [‘2018-04-02’, ‘2018-02-29’, ‘2018-19-02’]\n",
    "\n",
    "Напишите функцию, которая проверяет эти даты на корректность. \n",
    "Т. е. для каждой даты возвращает True (дата корректна) или False (некорректная дата)\"\"\"\n",
    "\n",
    "stream = ['2018-04-02', '2018-02-29', '2018-19-02']\n",
    "\n",
    "from datetime import datetime as dt\n",
    "\n",
    "def correct_date(date):\n",
    "    \"\"\"Функция проверяет на корректность даты из потока\n",
    "    и возвращает True при корректности даты\n",
    "    и False при ее некорректности\"\"\"\n",
    "    \n",
    "    correct_format = '%Y-%m-%d'\n",
    "    try:\n",
    "        dt.strptime(date, correct_format)\n",
    "        return True\n",
    "    except:\n",
    "        return False\n",
    "\n",
    "\n",
    "correct_date(stream)"
   ]
  },
  {
   "cell_type": "code",
   "execution_count": 18,
   "metadata": {},
   "outputs": [
    {
     "ename": "TypeError",
     "evalue": "unsupported operand type(s) for -: 'str' and 'str'",
     "output_type": "error",
     "traceback": [
      "\u001b[1;31m---------------------------------------------------------------------------\u001b[0m",
      "\u001b[1;31mTypeError\u001b[0m                                 Traceback (most recent call last)",
      "\u001b[1;32m<ipython-input-18-8804cd2bdf85>\u001b[0m in \u001b[0;36m<module>\u001b[1;34m\u001b[0m\n\u001b[0;32m     37\u001b[0m     \u001b[1;32mreturn\u001b[0m \u001b[1;33m[\u001b[0m\u001b[1;33m]\u001b[0m\u001b[1;33m\u001b[0m\u001b[1;33m\u001b[0m\u001b[0m\n\u001b[0;32m     38\u001b[0m \u001b[1;33m\u001b[0m\u001b[0m\n\u001b[1;32m---> 39\u001b[1;33m \u001b[0mdate_range\u001b[0m\u001b[1;33m(\u001b[0m\u001b[1;34m'20200101'\u001b[0m\u001b[1;33m,\u001b[0m \u001b[1;34m'20200102'\u001b[0m\u001b[1;33m)\u001b[0m\u001b[1;33m\u001b[0m\u001b[1;33m\u001b[0m\u001b[0m\n\u001b[0m\u001b[0;32m     40\u001b[0m \u001b[1;33m\u001b[0m\u001b[0m\n",
      "\u001b[1;32m<ipython-input-18-8804cd2bdf85>\u001b[0m in \u001b[0;36mdate_range\u001b[1;34m(start_date, end_date)\u001b[0m\n\u001b[0;32m     27\u001b[0m     \u001b[1;31m# определяем разницу между датами - конечной и начальной\u001b[0m\u001b[1;33m\u001b[0m\u001b[1;33m\u001b[0m\u001b[1;33m\u001b[0m\u001b[0m\n\u001b[0;32m     28\u001b[0m \u001b[1;33m\u001b[0m\u001b[0m\n\u001b[1;32m---> 29\u001b[1;33m     \u001b[0mdays_delta_date\u001b[0m \u001b[1;33m=\u001b[0m \u001b[1;33m(\u001b[0m\u001b[0mend_date\u001b[0m\u001b[1;33m-\u001b[0m\u001b[0mstart_date\u001b[0m\u001b[1;33m)\u001b[0m\u001b[1;33m.\u001b[0m\u001b[0mdays\u001b[0m\u001b[1;33m\u001b[0m\u001b[1;33m\u001b[0m\u001b[0m\n\u001b[0m\u001b[0;32m     30\u001b[0m \u001b[1;33m\u001b[0m\u001b[0m\n\u001b[0;32m     31\u001b[0m \u001b[1;33m\u001b[0m\u001b[0m\n",
      "\u001b[1;31mTypeError\u001b[0m: unsupported operand type(s) for -: 'str' and 'str'"
     ]
    }
   ],
   "source": [
    "\"\"\"Задание 3\n",
    "Напишите функцию date_range, \n",
    "которая возвращает список дат за период от start_date до end_date. \n",
    "Даты должны вводиться в формате YYYY-MM-DD. \n",
    "В случае неверного формата или при start_date > end_date \n",
    "должен возвращаться пустой список\"\"\"\n",
    "\n",
    "from datetime import datetime as dt \n",
    "from datetime import timedelta\n",
    "\n",
    "def date_range(start_date, end_date):\n",
    "    \n",
    "    # преобразуем форматы всех дат (начальной, конечной) в формат datetime; если не получится, то выводим пустой список  \n",
    "    try:\n",
    "        start_date = dt.strptime(start_date, '%Y-%m-%d')\n",
    "        end_date = dt.strptime(end_date, '%Y-%m-%d')\n",
    "    except:\n",
    "        []\n",
    "    \n",
    "    # проверим границы диапазона: если неверны, то отдаем пустой список\n",
    "    if start_date > end_date:\n",
    "        return []\n",
    "    \n",
    "    # приступаем к \"корректной\" части функции: \n",
    "    # задаем пустой список, который будет наполняться для последующего вывода, если даты корректны и не выпадают из диапазона\n",
    "    result = []\n",
    "    # определяем разницу между датами - конечной и начальной\n",
    "    \n",
    "    days_delta_date = (end_date-start_date).days\n",
    "    \n",
    "    \n",
    "    # задаем диапазон для перебора дат в пределах разницы между датами - конечной и начальной (включительно, потому \"+1\")\n",
    "    for item in range (0, days_delta_date+1):\n",
    "        # перебор возвращает даты от начальной и в пределах диапазона (в строковом формате)\n",
    "        result += [dt.strf(start_date+timedelta(item), '%Y-%m-%d')]\n",
    "        return result\n",
    "    return []\n",
    "        \n",
    "date_range('20200101', '20200102')\n",
    "\n"
   ]
  },
  {
   "cell_type": "code",
   "execution_count": null,
   "metadata": {},
   "outputs": [],
   "source": []
  },
  {
   "cell_type": "code",
   "execution_count": null,
   "metadata": {},
   "outputs": [],
   "source": []
  }
 ],
 "metadata": {
  "kernelspec": {
   "display_name": "Python 3",
   "language": "python",
   "name": "python3"
  },
  "language_info": {
   "codemirror_mode": {
    "name": "ipython",
    "version": 3
   },
   "file_extension": ".py",
   "mimetype": "text/x-python",
   "name": "python",
   "nbconvert_exporter": "python",
   "pygments_lexer": "ipython3",
   "version": "3.7.6"
  }
 },
 "nbformat": 4,
 "nbformat_minor": 4
}
