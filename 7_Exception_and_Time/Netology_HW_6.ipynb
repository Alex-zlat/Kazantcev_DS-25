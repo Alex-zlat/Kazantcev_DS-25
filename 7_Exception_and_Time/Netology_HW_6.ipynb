{
 "cells": [
  {
   "cell_type": "code",
   "execution_count": 1,
   "metadata": {},
   "outputs": [],
   "source": [
    "\"\"\"Задание 1\n",
    "Печатные газеты использовали свой формат дат для каждого выпуска. \n",
    "Для каждой газеты из списка напишите формат указанной даты для перевода в объект datetime:\n",
    "The Moscow Times - Wednesday, October 2, 2002\n",
    "The Guardian - Friday, 11.10.13\n",
    "Daily News - Thursday, 18 August 1977\"\"\"\n",
    "\n",
    "from datetime import datetime as dt\n",
    "\n",
    "date_form = ['Wednesday, October 2, 2002', 'Friday, 11.10.13', 'Thursday, 18 August 1977']\n",
    "\n",
    "def date_transform():\n",
    "    \"\"\"\n",
    "    Функция преобразует введенный формат даты в формат datetime \n",
    "    \"\"\"\n",
    "    for formats in date_form:\n",
    "        try:\n",
    "            return date_transform == dt.strptime(date_form, '%A, %B, %d, %Y') \n",
    "        except:\n",
    "            pass\n",
    "        try:\n",
    "            return date_transform == dt.strptime(date_form, '%A, %d.%m.%y')  \n",
    "        except:\n",
    "            pass\n",
    "        try:\n",
    "            return date_transform == dt.strptime(date_form, '%A, %d, %B, %Y')    \n",
    "        except:\n",
    "            pass\n",
    "    return None \n"
   ]
  },
  {
   "cell_type": "code",
   "execution_count": 12,
   "metadata": {},
   "outputs": [
    {
     "name": "stdout",
     "output_type": "stream",
     "text": [
      "[True, False, False]\n"
     ]
    }
   ],
   "source": [
    "\"\"\"Задание 2\n",
    "Дан поток дат в формате YYYY-MM-DD, в которых встречаются некорректные значения:\n",
    "stream = [‘2018-04-02’, ‘2018-02-29’, ‘2018-19-02’]\n",
    "\n",
    "Напишите функцию, которая проверяет эти даты на корректность. \n",
    "Т. е. для каждой даты возвращает True (дата корректна) или False (некорректная дата)\"\"\"\n",
    "\n",
    "stream = ['2018-04-02', '2018-02-29', '2018-19-02']\n",
    "\n",
    "from datetime import datetime as dt\n",
    "\n",
    "def correct_date(date):\n",
    "    \"\"\"Функция проверяет на корректность даты из потока\n",
    "    и возвращает True при корректности даты\n",
    "    и False при ее некорректности\"\"\"\n",
    "    \n",
    "    my_list = []\n",
    "    correct_format = '%Y-%m-%d'\n",
    "    for date in stream:\n",
    "        try:\n",
    "            dt.strptime(date, correct_format)\n",
    "            my_list.append(True)\n",
    "            \n",
    "        except:\n",
    "            my_list.append(False)\n",
    "    print(my_list)\n",
    "\n",
    "\n",
    "correct_date(stream)"
   ]
  },
  {
   "cell_type": "code",
   "execution_count": 17,
   "metadata": {},
   "outputs": [
    {
     "data": {
      "text/plain": [
       "['2020-01-01',\n",
       " '2020-01-02',\n",
       " '2020-01-03',\n",
       " '2020-01-04',\n",
       " '2020-01-05',\n",
       " '2020-01-06',\n",
       " '2020-01-07']"
      ]
     },
     "execution_count": 17,
     "metadata": {},
     "output_type": "execute_result"
    }
   ],
   "source": [
    "\"\"\"Задание 3\n",
    "Напишите функцию date_range, \n",
    "которая возвращает список дат за период от start_date до end_date. \n",
    "Даты должны вводиться в формате YYYY-MM-DD. \n",
    "В случае неверного формата или при start_date > end_date \n",
    "должен возвращаться пустой список\"\"\"\n",
    "\n",
    "from datetime import datetime as dt \n",
    "from datetime import timedelta\n",
    "\n",
    "def date_range(start_date, end_date):\n",
    "    \n",
    "    # преобразуем форматы всех дат (начальной, конечной) в формат datetime; если не получится, то выводим пустой список  \n",
    "    try:\n",
    "        start_date = dt.strptime(start_date, '%Y-%m-%d')\n",
    "        end_date = dt.strptime(end_date, '%Y-%m-%d')\n",
    "    except:\n",
    "        return []\n",
    "    \n",
    "    # проверим границы диапазона: если неверны, то отдаем пустой список\n",
    "    if start_date > end_date:\n",
    "        return []\n",
    "    \n",
    "    # приступаем к \"корректной\" части функции: \n",
    "    # задаем пустой список, который будет наполняться для последующего вывода, если даты корректны и не выпадают из диапазона\n",
    "    result = []\n",
    "    # определяем разницу между датами - конечной и начальной\n",
    "    \n",
    "    days_delta_date = (end_date-start_date).days\n",
    "    \n",
    "    \n",
    "    # задаем диапазон для перебора дат в пределах разницы между датами - конечной и начальной (включительно, потому \"+1\")\n",
    "    for item in range (0, days_delta_date+1):\n",
    "        # перебор возвращает даты от начальной до пределов диапазона (в строковом формате)\n",
    "        result += [dt.strftime(start_date+timedelta(item), '%Y-%m-%d')]\n",
    "\n",
    "    return result\n",
    "        \n",
    "date_range('2020-01-01', '2020-01-07')\n",
    "\n"
   ]
  },
  {
   "cell_type": "code",
   "execution_count": null,
   "metadata": {},
   "outputs": [],
   "source": []
  },
  {
   "cell_type": "code",
   "execution_count": null,
   "metadata": {},
   "outputs": [],
   "source": []
  }
 ],
 "metadata": {
  "kernelspec": {
   "display_name": "Python 3",
   "language": "python",
   "name": "python3"
  },
  "language_info": {
   "codemirror_mode": {
    "name": "ipython",
    "version": 3
   },
   "file_extension": ".py",
   "mimetype": "text/x-python",
   "name": "python",
   "nbconvert_exporter": "python",
   "pygments_lexer": "ipython3",
   "version": "3.7.6"
  }
 },
 "nbformat": 4,
 "nbformat_minor": 4
}
