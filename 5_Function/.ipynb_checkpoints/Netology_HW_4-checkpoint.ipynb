{
 "cells": [
  {
   "cell_type": "code",
   "execution_count": 10,
   "metadata": {},
   "outputs": [
    {
     "name": "stdout",
     "output_type": "stream",
     "text": [
      "Документ не найден в базе\n"
     ]
    }
   ],
   "source": [
    "\"\"\"Вам нужно помочь секретарю автоматизировать работу. \n",
    "Для этого нужно написать программу, \n",
    "которая будет на основе хранимых данных \n",
    "исполнять пользовательские команды\"\"\"\n",
    "\n",
    "documents = [\n",
    "{'type': 'passport', 'number': '2207 876234', 'name': 'Василий Гупкин'},\n",
    "{'type': 'invoice', 'number': '11-2', 'name': 'Геннадий Покемонов'},\n",
    "{'type': 'insurance', 'number': '10006', 'name': 'Аристарх Павлов'}\n",
    "]\n",
    "\n",
    "#перечень полок, на которых хранятся документы (если документ есть в documents, то он обязательно должен быть и в directories)\n",
    "\n",
    "directories = {\n",
    "'1': ['2207 876234', '11-2'],\n",
    "'2': ['10006'],\n",
    "'3': []\n",
    "}\n",
    "\n",
    "\"\"\"Пункт 1. Пользователь по команде “p” может узнать владельца документа по его номеру\"\"\"\n",
    "\n",
    "def document_owner(employees):                 # функция для определения владельца документа \n",
    "    for position in employees:\n",
    "        doc_owner = position['name']\n",
    "    if doc_owner in employees:\n",
    "        return doc_owner\n",
    "        print('Результат:\\n Владелец документа: {doc_owner}')\n",
    "    else:\n",
    "        print('Документ не найден в базе')\n",
    "\n",
    "document_owner(documents)                       "
   ]
  },
  {
   "cell_type": "code",
   "execution_count": 17,
   "metadata": {},
   "outputs": [
    {
     "name": "stdout",
     "output_type": "stream",
     "text": [
      "Документ не найден в базе\n"
     ]
    }
   ],
   "source": [
    "\"\"\"Пункт 2. Пользователь по команде “s” может по номеру документа узнать, на какой полке он хранится\"\"\"\n",
    "\n",
    "def number_shelf(shelfs):                       # функция для поиска номера полки с документом (по его номеру)\n",
    "    for doc_number in shelfs: \n",
    "        use_shelf = shelfs [doc_number]\n",
    "    if doc_number in shelfs.values():\n",
    "        return use_shelf\n",
    "        print('Результат:\\n Документ хранится на полке: {use_shelf}')\n",
    "    else:\n",
    "        print('Документ не найден в базе') \n",
    "\n",
    "number_shelf(directories)"
   ]
  },
  {
   "cell_type": "code",
   "execution_count": null,
   "metadata": {},
   "outputs": [],
   "source": [
    "\"\"\"Пункт 3. Пользователь по команде “l” может увидеть полную информацию по всем документам\"\"\"\n",
    "\n",
    "def all_info ():\n",
    "    for position in employees:\n",
    "        for "
   ]
  }
 ],
 "metadata": {
  "kernelspec": {
   "display_name": "Python 3",
   "language": "python",
   "name": "python3"
  },
  "language_info": {
   "codemirror_mode": {
    "name": "ipython",
    "version": 3
   },
   "file_extension": ".py",
   "mimetype": "text/x-python",
   "name": "python",
   "nbconvert_exporter": "python",
   "pygments_lexer": "ipython3",
   "version": "3.7.6"
  }
 },
 "nbformat": 4,
 "nbformat_minor": 4
}
