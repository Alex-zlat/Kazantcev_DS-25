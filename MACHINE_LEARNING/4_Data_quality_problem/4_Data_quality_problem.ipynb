{
 "cells": [
  {
   "cell_type": "code",
   "execution_count": 130,
   "metadata": {},
   "outputs": [],
   "source": [
    "\"\"\"\n",
    "Необходимо запустить практическую часть занятия, и посмотреть самому то, о чём говорили на лекции. \n",
    "По образу практики, попробуйте создать искусственный датасет с лишними столбцами. \n",
    "Целевую метку, при правильной обработке данных, формируйте таким образом, \n",
    "чтобы без затруднений её смогла описать линейная модель. Ориентируйтесь на то, что было показано во время занятия, \n",
    "и каждый шаг описывайте в markdown. Здесь важно видеть ваш ход мысли. Не бойтесь ошибиться или написать не то. \n",
    "Данное задание не имеет какого-то “правильного” решения. Цель - достичь базового понимания проблемы. \n",
    "Чем больше вы фантазируете, тем лучше :) \n",
    "Тем не менее, старайтесь представить те ситуации, которые по-вашему мнению могли бы быть в реальных данных\n",
    "\"\"\"\n",
    "\n",
    "import numpy as np\n",
    "import pandas as pd\n",
    "import seaborn as sns\n",
    "from sklearn.linear_model import LinearRegression"
   ]
  },
  {
   "cell_type": "code",
   "execution_count": 131,
   "metadata": {},
   "outputs": [
    {
     "data": {
      "text/html": [
       "<div>\n",
       "<style scoped>\n",
       "    .dataframe tbody tr th:only-of-type {\n",
       "        vertical-align: middle;\n",
       "    }\n",
       "\n",
       "    .dataframe tbody tr th {\n",
       "        vertical-align: top;\n",
       "    }\n",
       "\n",
       "    .dataframe thead th {\n",
       "        text-align: right;\n",
       "    }\n",
       "</style>\n",
       "<table border=\"1\" class=\"dataframe\">\n",
       "  <thead>\n",
       "    <tr style=\"text-align: right;\">\n",
       "      <th></th>\n",
       "      <th>Number_of_passengers</th>\n",
       "      <th>Age</th>\n",
       "      <th>Price</th>\n",
       "      <th>Amount</th>\n",
       "    </tr>\n",
       "  </thead>\n",
       "  <tbody>\n",
       "    <tr>\n",
       "      <th>0</th>\n",
       "      <td>2</td>\n",
       "      <td>61</td>\n",
       "      <td>22601</td>\n",
       "      <td>137144</td>\n",
       "    </tr>\n",
       "    <tr>\n",
       "      <th>1</th>\n",
       "      <td>3</td>\n",
       "      <td>25</td>\n",
       "      <td>21077</td>\n",
       "      <td>191231</td>\n",
       "    </tr>\n",
       "    <tr>\n",
       "      <th>2</th>\n",
       "      <td>4</td>\n",
       "      <td>28</td>\n",
       "      <td>26904</td>\n",
       "      <td>136058</td>\n",
       "    </tr>\n",
       "    <tr>\n",
       "      <th>3</th>\n",
       "      <td>4</td>\n",
       "      <td>72</td>\n",
       "      <td>9861</td>\n",
       "      <td>40982</td>\n",
       "    </tr>\n",
       "    <tr>\n",
       "      <th>4</th>\n",
       "      <td>2</td>\n",
       "      <td>15</td>\n",
       "      <td>3471</td>\n",
       "      <td>36248</td>\n",
       "    </tr>\n",
       "    <tr>\n",
       "      <th>5</th>\n",
       "      <td>4</td>\n",
       "      <td>45</td>\n",
       "      <td>10989</td>\n",
       "      <td>100439</td>\n",
       "    </tr>\n",
       "    <tr>\n",
       "      <th>6</th>\n",
       "      <td>2</td>\n",
       "      <td>77</td>\n",
       "      <td>11834</td>\n",
       "      <td>37040</td>\n",
       "    </tr>\n",
       "    <tr>\n",
       "      <th>7</th>\n",
       "      <td>2</td>\n",
       "      <td>51</td>\n",
       "      <td>1816</td>\n",
       "      <td>21514</td>\n",
       "    </tr>\n",
       "    <tr>\n",
       "      <th>8</th>\n",
       "      <td>4</td>\n",
       "      <td>28</td>\n",
       "      <td>34701</td>\n",
       "      <td>348548</td>\n",
       "    </tr>\n",
       "    <tr>\n",
       "      <th>9</th>\n",
       "      <td>3</td>\n",
       "      <td>38</td>\n",
       "      <td>29118</td>\n",
       "      <td>59774</td>\n",
       "    </tr>\n",
       "  </tbody>\n",
       "</table>\n",
       "</div>"
      ],
      "text/plain": [
       "   Number_of_passengers  Age  Price  Amount\n",
       "0                     2   61  22601  137144\n",
       "1                     3   25  21077  191231\n",
       "2                     4   28  26904  136058\n",
       "3                     4   72   9861   40982\n",
       "4                     2   15   3471   36248\n",
       "5                     4   45  10989  100439\n",
       "6                     2   77  11834   37040\n",
       "7                     2   51   1816   21514\n",
       "8                     4   28  34701  348548\n",
       "9                     3   38  29118   59774"
      ]
     },
     "execution_count": 131,
     "metadata": {},
     "output_type": "execute_result"
    }
   ],
   "source": [
    "# Создаём сэмпл\n",
    "n_samples = 890\n",
    "\n",
    "# числа в диапазоне до 3 в количестве n_samples (т.е. 890 штук)+2 к каждому числу:\n",
    "number_of_passengers = np.random.choice(3, n_samples) + 2 \n",
    "price_of_ticket = np.random.choice(35000, n_samples) + 28\n",
    "invoice_amount = ((np.random.choice(12, n_samples)) * price_of_ticket) + 1538\n",
    "age_of_passengers = np.random.choice(78, n_samples) + 5\n",
    "\n",
    "data = pd.DataFrame({'Number_of_passengers': number_of_passengers, 'Age': age_of_passengers, 'Price': price_of_ticket, 'Amount': invoice_amount}) \n",
    "data.head(10)"
   ]
  },
  {
   "cell_type": "code",
   "execution_count": 132,
   "metadata": {},
   "outputs": [],
   "source": [
    "X = data[['Number_of_passengers', 'Age', 'Price']]\n",
    "y = data['Amount']"
   ]
  },
  {
   "cell_type": "code",
   "execution_count": 133,
   "metadata": {},
   "outputs": [
    {
     "data": {
      "text/plain": [
       "LinearRegression(copy_X=True, fit_intercept=True, n_jobs=None, normalize=False)"
      ]
     },
     "execution_count": 133,
     "metadata": {},
     "output_type": "execute_result"
    }
   ],
   "source": [
    "from sklearn.model_selection import train_test_split\n",
    "model = LinearRegression()\n",
    "X_train, X_test, y_train, y_test = train_test_split(X, y, \n",
    "                                                        test_size=0.3, \n",
    "                                                        random_state=42 )\n",
    "model.fit(X_train, y_train)"
   ]
  },
  {
   "cell_type": "code",
   "execution_count": 134,
   "metadata": {},
   "outputs": [
    {
     "name": "stdout",
     "output_type": "stream",
     "text": [
      "Веса признаков: [3657.8606821    81.43708049    5.62779018]\n",
      "Bias: -14164.627426650812\n",
      "Абсолютная ошибка предсказания: 52481.68\n"
     ]
    }
   ],
   "source": [
    "from sklearn.metrics import mean_absolute_error\n",
    "\n",
    "print(f'Веса признаков: {model.coef_}') # веса каждого элемента (признака) из переменной Х, определяемые коэффициентами reg.coef_\n",
    "print(f'Bias: {model.intercept_}') # Смещение: intercept_ float или массив формы (n_targets,)\n",
    "                                         # Независимый член в линейной модели. Установите 0,0, если .fit_intercept = False\n",
    "\n",
    "pred_values = model.predict(data[['Number_of_passengers', 'Age', 'Price']]) # фактически это - reg.predict(X)\n",
    "print(f'Абсолютная ошибка предсказания: {round(mean_absolute_error(pred_values, y),2)}')   # Средняя абсолютная ошибка регрессии"
   ]
  },
  {
   "cell_type": "code",
   "execution_count": 135,
   "metadata": {},
   "outputs": [
    {
     "data": {
      "text/html": [
       "<div>\n",
       "<style scoped>\n",
       "    .dataframe tbody tr th:only-of-type {\n",
       "        vertical-align: middle;\n",
       "    }\n",
       "\n",
       "    .dataframe tbody tr th {\n",
       "        vertical-align: top;\n",
       "    }\n",
       "\n",
       "    .dataframe thead th {\n",
       "        text-align: right;\n",
       "    }\n",
       "</style>\n",
       "<table border=\"1\" class=\"dataframe\">\n",
       "  <thead>\n",
       "    <tr style=\"text-align: right;\">\n",
       "      <th></th>\n",
       "      <th>Number_of_passengers</th>\n",
       "      <th>Age</th>\n",
       "      <th>Price</th>\n",
       "      <th>Amount</th>\n",
       "      <th>mult</th>\n",
       "    </tr>\n",
       "  </thead>\n",
       "  <tbody>\n",
       "    <tr>\n",
       "      <th>0</th>\n",
       "      <td>2</td>\n",
       "      <td>61</td>\n",
       "      <td>22601</td>\n",
       "      <td>137144</td>\n",
       "      <td>45202</td>\n",
       "    </tr>\n",
       "    <tr>\n",
       "      <th>1</th>\n",
       "      <td>3</td>\n",
       "      <td>25</td>\n",
       "      <td>21077</td>\n",
       "      <td>191231</td>\n",
       "      <td>63231</td>\n",
       "    </tr>\n",
       "    <tr>\n",
       "      <th>2</th>\n",
       "      <td>4</td>\n",
       "      <td>28</td>\n",
       "      <td>26904</td>\n",
       "      <td>136058</td>\n",
       "      <td>107616</td>\n",
       "    </tr>\n",
       "    <tr>\n",
       "      <th>3</th>\n",
       "      <td>4</td>\n",
       "      <td>72</td>\n",
       "      <td>9861</td>\n",
       "      <td>40982</td>\n",
       "      <td>39444</td>\n",
       "    </tr>\n",
       "    <tr>\n",
       "      <th>4</th>\n",
       "      <td>2</td>\n",
       "      <td>15</td>\n",
       "      <td>3471</td>\n",
       "      <td>36248</td>\n",
       "      <td>6942</td>\n",
       "    </tr>\n",
       "  </tbody>\n",
       "</table>\n",
       "</div>"
      ],
      "text/plain": [
       "   Number_of_passengers  Age  Price  Amount    mult\n",
       "0                     2   61  22601  137144   45202\n",
       "1                     3   25  21077  191231   63231\n",
       "2                     4   28  26904  136058  107616\n",
       "3                     4   72   9861   40982   39444\n",
       "4                     2   15   3471   36248    6942"
      ]
     },
     "execution_count": 135,
     "metadata": {},
     "output_type": "execute_result"
    }
   ],
   "source": [
    "# Дополнительно создадим новый признак. Как он влияет на прогноз? Какова его прогностическая сила? \n",
    "\n",
    "data['mult'] = data['Number_of_passengers'] * data['Price']\n",
    "data.head()"
   ]
  },
  {
   "cell_type": "code",
   "execution_count": 136,
   "metadata": {},
   "outputs": [
    {
     "name": "stdout",
     "output_type": "stream",
     "text": [
      "Веса признаков: [1.53083316]\n",
      "Bias: 18380.392576071827\n",
      "Абсолютная ошибка предсказания: 55154.7\n"
     ]
    }
   ],
   "source": [
    "X = data[['mult']]\n",
    "y = data['Amount']\n",
    "\n",
    "new_model = LinearRegression()\n",
    "X_train, X_test, y_train, y_test = train_test_split(X, y, \n",
    "                                                        test_size=0.3, \n",
    "                                                        random_state=42 )\n",
    "new_model.fit(X_train, y_train)\n",
    "\n",
    "print(f'Веса признаков: {new_model.coef_}') \n",
    "print(f'Bias: {new_model.intercept_}') \n",
    "pred_values = new_model.predict(data[['mult']]) \n",
    "print(f'Абсолютная ошибка предсказания: {round(mean_absolute_error(pred_values, y),2)}')   \n",
    "# Видим, что созданный признак дает еще бОльшую ошибку - он явно не годится для прогнозирования результатов "
   ]
  },
  {
   "cell_type": "code",
   "execution_count": 137,
   "metadata": {},
   "outputs": [
    {
     "name": "stdout",
     "output_type": "stream",
     "text": [
      "815\n"
     ]
    }
   ],
   "source": [
    "# Создадим ячейки NaN \n",
    "print(data['Amount'].replace([1538,10686],np.NaN).count())"
   ]
  },
  {
   "cell_type": "code",
   "execution_count": 126,
   "metadata": {},
   "outputs": [
    {
     "data": {
      "text/html": [
       "<div>\n",
       "<style scoped>\n",
       "    .dataframe tbody tr th:only-of-type {\n",
       "        vertical-align: middle;\n",
       "    }\n",
       "\n",
       "    .dataframe tbody tr th {\n",
       "        vertical-align: top;\n",
       "    }\n",
       "\n",
       "    .dataframe thead th {\n",
       "        text-align: right;\n",
       "    }\n",
       "</style>\n",
       "<table border=\"1\" class=\"dataframe\">\n",
       "  <thead>\n",
       "    <tr style=\"text-align: right;\">\n",
       "      <th></th>\n",
       "      <th>Number_of_passengers</th>\n",
       "      <th>Age</th>\n",
       "      <th>Price</th>\n",
       "      <th>Amount</th>\n",
       "      <th>mult</th>\n",
       "    </tr>\n",
       "  </thead>\n",
       "  <tbody>\n",
       "    <tr>\n",
       "      <th>0</th>\n",
       "      <td>3</td>\n",
       "      <td>79</td>\n",
       "      <td>3860</td>\n",
       "      <td>32418.0</td>\n",
       "      <td>11580</td>\n",
       "    </tr>\n",
       "    <tr>\n",
       "      <th>1</th>\n",
       "      <td>3</td>\n",
       "      <td>67</td>\n",
       "      <td>8439</td>\n",
       "      <td>77489.0</td>\n",
       "      <td>25317</td>\n",
       "    </tr>\n",
       "    <tr>\n",
       "      <th>2</th>\n",
       "      <td>4</td>\n",
       "      <td>12</td>\n",
       "      <td>12115</td>\n",
       "      <td>110573.0</td>\n",
       "      <td>48460</td>\n",
       "    </tr>\n",
       "    <tr>\n",
       "      <th>3</th>\n",
       "      <td>3</td>\n",
       "      <td>16</td>\n",
       "      <td>23076</td>\n",
       "      <td>209222.0</td>\n",
       "      <td>69228</td>\n",
       "    </tr>\n",
       "    <tr>\n",
       "      <th>4</th>\n",
       "      <td>3</td>\n",
       "      <td>59</td>\n",
       "      <td>26178</td>\n",
       "      <td>NaN</td>\n",
       "      <td>78534</td>\n",
       "    </tr>\n",
       "  </tbody>\n",
       "</table>\n",
       "</div>"
      ],
      "text/plain": [
       "   Number_of_passengers  Age  Price    Amount   mult\n",
       "0                     3   79   3860   32418.0  11580\n",
       "1                     3   67   8439   77489.0  25317\n",
       "2                     4   12  12115  110573.0  48460\n",
       "3                     3   16  23076  209222.0  69228\n",
       "4                     3   59  26178       NaN  78534"
      ]
     },
     "execution_count": 126,
     "metadata": {},
     "output_type": "execute_result"
    }
   ],
   "source": [
    "data['Amount'] = data['Amount'].replace([1538,10686],np.NaN)\n",
    "data.head()"
   ]
  },
  {
   "cell_type": "code",
   "execution_count": 141,
   "metadata": {},
   "outputs": [],
   "source": [
    "# Применим стратегию замены пустых значений столбца выставленного пассажирам счета на медианное значение данного признака:\n",
    "data.loc[data[data['Amount'].isna()].index ,'Amount'] = data['Amount'].median() "
   ]
  },
  {
   "cell_type": "code",
   "execution_count": 146,
   "metadata": {},
   "outputs": [
    {
     "name": "stdout",
     "output_type": "stream",
     "text": [
      "<class 'pandas.core.frame.DataFrame'>\n",
      "RangeIndex: 890 entries, 0 to 889\n",
      "Data columns (total 5 columns):\n",
      " #   Column                Non-Null Count  Dtype\n",
      "---  ------                --------------  -----\n",
      " 0   Number_of_passengers  890 non-null    int32\n",
      " 1   Age                   890 non-null    int32\n",
      " 2   Price                 890 non-null    int32\n",
      " 3   Amount                890 non-null    int32\n",
      " 4   mult                  890 non-null    int32\n",
      "dtypes: int32(5)\n",
      "memory usage: 17.5 KB\n"
     ]
    }
   ],
   "source": [
    "# data['Amount'].head()\n",
    "data.info()"
   ]
  }
 ],
 "metadata": {
  "kernelspec": {
   "display_name": "Python 3",
   "language": "python",
   "name": "python3"
  },
  "language_info": {
   "codemirror_mode": {
    "name": "ipython",
    "version": 3
   },
   "file_extension": ".py",
   "mimetype": "text/x-python",
   "name": "python",
   "nbconvert_exporter": "python",
   "pygments_lexer": "ipython3",
   "version": "3.7.6"
  }
 },
 "nbformat": 4,
 "nbformat_minor": 4
}
