{
 "cells": [
  {
   "cell_type": "code",
   "execution_count": 92,
   "metadata": {},
   "outputs": [
    {
     "data": {
      "text/html": [
       "<div>\n",
       "<style scoped>\n",
       "    .dataframe tbody tr th:only-of-type {\n",
       "        vertical-align: middle;\n",
       "    }\n",
       "\n",
       "    .dataframe tbody tr th {\n",
       "        vertical-align: top;\n",
       "    }\n",
       "\n",
       "    .dataframe thead th {\n",
       "        text-align: right;\n",
       "    }\n",
       "</style>\n",
       "<table border=\"1\" class=\"dataframe\">\n",
       "  <thead>\n",
       "    <tr style=\"text-align: right;\">\n",
       "      <th></th>\n",
       "      <th>age/возраст</th>\n",
       "      <th>workclass/рабочий класс</th>\n",
       "      <th>fnlwgt/кол-во людей</th>\n",
       "      <th>education/образование</th>\n",
       "      <th>educational-num/длительность обучения</th>\n",
       "      <th>marital-status/семейный статус</th>\n",
       "      <th>occupation/род занятий</th>\n",
       "      <th>relationship/родственные связи</th>\n",
       "      <th>race/Раса</th>\n",
       "      <th>gender/пол</th>\n",
       "      <th>capital-gain/прирост капитала</th>\n",
       "      <th>capital-loss/убыток капитала</th>\n",
       "      <th>hours-per-week/часов в неделю</th>\n",
       "      <th>native-country/страна происхождения</th>\n",
       "      <th>income/доход</th>\n",
       "    </tr>\n",
       "  </thead>\n",
       "  <tbody>\n",
       "    <tr>\n",
       "      <th>48837</th>\n",
       "      <td>27</td>\n",
       "      <td>Private</td>\n",
       "      <td>257302</td>\n",
       "      <td>Assoc-acdm</td>\n",
       "      <td>12</td>\n",
       "      <td>Married-civ-spouse</td>\n",
       "      <td>Tech-support</td>\n",
       "      <td>Wife</td>\n",
       "      <td>White</td>\n",
       "      <td>Female</td>\n",
       "      <td>0</td>\n",
       "      <td>0</td>\n",
       "      <td>38</td>\n",
       "      <td>United-States</td>\n",
       "      <td>&lt;=50K</td>\n",
       "    </tr>\n",
       "    <tr>\n",
       "      <th>48838</th>\n",
       "      <td>40</td>\n",
       "      <td>Private</td>\n",
       "      <td>154374</td>\n",
       "      <td>HS-grad</td>\n",
       "      <td>9</td>\n",
       "      <td>Married-civ-spouse</td>\n",
       "      <td>Machine-op-inspct</td>\n",
       "      <td>Husband</td>\n",
       "      <td>White</td>\n",
       "      <td>Male</td>\n",
       "      <td>0</td>\n",
       "      <td>0</td>\n",
       "      <td>40</td>\n",
       "      <td>United-States</td>\n",
       "      <td>&gt;50K</td>\n",
       "    </tr>\n",
       "    <tr>\n",
       "      <th>48839</th>\n",
       "      <td>58</td>\n",
       "      <td>Private</td>\n",
       "      <td>151910</td>\n",
       "      <td>HS-grad</td>\n",
       "      <td>9</td>\n",
       "      <td>Widowed</td>\n",
       "      <td>Adm-clerical</td>\n",
       "      <td>Unmarried</td>\n",
       "      <td>White</td>\n",
       "      <td>Female</td>\n",
       "      <td>0</td>\n",
       "      <td>0</td>\n",
       "      <td>40</td>\n",
       "      <td>United-States</td>\n",
       "      <td>&lt;=50K</td>\n",
       "    </tr>\n",
       "    <tr>\n",
       "      <th>48840</th>\n",
       "      <td>22</td>\n",
       "      <td>Private</td>\n",
       "      <td>201490</td>\n",
       "      <td>HS-grad</td>\n",
       "      <td>9</td>\n",
       "      <td>Never-married</td>\n",
       "      <td>Adm-clerical</td>\n",
       "      <td>Own-child</td>\n",
       "      <td>White</td>\n",
       "      <td>Male</td>\n",
       "      <td>0</td>\n",
       "      <td>0</td>\n",
       "      <td>20</td>\n",
       "      <td>United-States</td>\n",
       "      <td>&lt;=50K</td>\n",
       "    </tr>\n",
       "    <tr>\n",
       "      <th>48841</th>\n",
       "      <td>52</td>\n",
       "      <td>Self-emp-inc</td>\n",
       "      <td>287927</td>\n",
       "      <td>HS-grad</td>\n",
       "      <td>9</td>\n",
       "      <td>Married-civ-spouse</td>\n",
       "      <td>Exec-managerial</td>\n",
       "      <td>Wife</td>\n",
       "      <td>White</td>\n",
       "      <td>Female</td>\n",
       "      <td>15024</td>\n",
       "      <td>0</td>\n",
       "      <td>40</td>\n",
       "      <td>United-States</td>\n",
       "      <td>&gt;50K</td>\n",
       "    </tr>\n",
       "  </tbody>\n",
       "</table>\n",
       "</div>"
      ],
      "text/plain": [
       "       age/возраст workclass/рабочий класс  fnlwgt/кол-во людей  \\\n",
       "48837           27                 Private               257302   \n",
       "48838           40                 Private               154374   \n",
       "48839           58                 Private               151910   \n",
       "48840           22                 Private               201490   \n",
       "48841           52            Self-emp-inc               287927   \n",
       "\n",
       "      education/образование  educational-num/длительность обучения  \\\n",
       "48837            Assoc-acdm                                     12   \n",
       "48838               HS-grad                                      9   \n",
       "48839               HS-grad                                      9   \n",
       "48840               HS-grad                                      9   \n",
       "48841               HS-grad                                      9   \n",
       "\n",
       "      marital-status/семейный статус occupation/род занятий  \\\n",
       "48837             Married-civ-spouse           Tech-support   \n",
       "48838             Married-civ-spouse      Machine-op-inspct   \n",
       "48839                        Widowed           Adm-clerical   \n",
       "48840                  Never-married           Adm-clerical   \n",
       "48841             Married-civ-spouse        Exec-managerial   \n",
       "\n",
       "      relationship/родственные связи race/Раса gender/пол  \\\n",
       "48837                           Wife     White     Female   \n",
       "48838                        Husband     White       Male   \n",
       "48839                      Unmarried     White     Female   \n",
       "48840                      Own-child     White       Male   \n",
       "48841                           Wife     White     Female   \n",
       "\n",
       "       capital-gain/прирост капитала  capital-loss/убыток капитала  \\\n",
       "48837                              0                             0   \n",
       "48838                              0                             0   \n",
       "48839                              0                             0   \n",
       "48840                              0                             0   \n",
       "48841                          15024                             0   \n",
       "\n",
       "       hours-per-week/часов в неделю native-country/страна происхождения  \\\n",
       "48837                             38                       United-States   \n",
       "48838                             40                       United-States   \n",
       "48839                             40                       United-States   \n",
       "48840                             20                       United-States   \n",
       "48841                             40                       United-States   \n",
       "\n",
       "      income/доход  \n",
       "48837        <=50K  \n",
       "48838         >50K  \n",
       "48839        <=50K  \n",
       "48840        <=50K  \n",
       "48841         >50K  "
      ]
     },
     "execution_count": 92,
     "metadata": {},
     "output_type": "execute_result"
    }
   ],
   "source": [
    "\"\"\"Задание 1\n",
    "Необходимо построить модели логистической регрессии и SVM, которые предсказывает уровень дохода человека.\n",
    "Вывести качество полученных моделей на тестовой выборке, используя функцию score у модели\n",
    "\"\"\"\n",
    "\n",
    "import pandas as pd\n",
    "import numpy as np\n",
    "from sklearn.linear_model import LogisticRegression\n",
    "from sklearn.model_selection import train_test_split\n",
    "from sklearn.preprocessing import LabelEncoder\n",
    "# from sklearn.metrics import r2_score\n",
    "from sklearn import svm\n",
    "import matplotlib.pyplot as plt\n",
    "from matplotlib import colors\n",
    "\n",
    "data = pd.read_csv('adult.csv')\n",
    "data.head()\n",
    "\n",
    "data.columns = (['age/возраст',                                 # 'Возраст',\n",
    "                'workclass/рабочий класс',                      # 'Рабочий класс (частный, Self-emp-not-inc, Self-emp-inc, \n",
    "                                                                   # федеральное правительство, проч.)', \n",
    "                'fnlwgt/кол-во людей',                          # 'final weight) – примерная оценка количества людей, \n",
    "                                                                   # которое представляет каждая строка данных',\n",
    "                'education/образование',                        # 'Образование (бакалавриат, Some-College, 11, HS, Prof-school)',   \n",
    "                'educational-num/длительность обучения',        # 'Пульс (норм 30-40)',\n",
    "                'marital-status/семейный статус',               # 'Семейный статус (женат-гражданский-супруг, разведен, \n",
    "                                                                   #не был в браке и проч.)', \n",
    "                'occupation/род занятий',                       # 'Род занятий (Техподдержка, Ремесло-ремонт, Другое-обслуживание, \n",
    "                                                                   # Продажи и проч.)',\n",
    "                'relationship/родственные связи',               # 'Отношения (Жена, Собственный ребенок, Муж, Не в семье и проч.)'\n",
    "                'race/Раса',                                    # 'Раса (белая, азиатско-тихоокеанская, американская-индийская-эскимосская, \n",
    "                                                                   # другая, черная)',\n",
    "                'gender/пол',                                   # 'Пол (женский, мужской)'\n",
    "                'capital-gain/прирост капитала',                # 'Прирост капитала (непрерывная величина)',\n",
    "                'capital-loss/убыток капитала',                 # 'Убыток капитала (непрерывная величина)'\n",
    "                'hours-per-week/часов в неделю',                # 'Часов в неделю (непрерывная величина)',\n",
    "                'native-country/страна происхождения',          # 'Родная страна (США, Камбоджа, Англия и проч.)'\n",
    "                'income/доход'])                                # 'Доход (> 50K, <= 50K)'\n",
    "data.tail()"
   ]
  },
  {
   "cell_type": "code",
   "execution_count": 93,
   "metadata": {},
   "outputs": [],
   "source": [
    "# исследуем модель зависимости уровня дохода от пола человека \n",
    "model_1 = LogisticRegression()\n",
    "le = LabelEncoder() \n",
    "# le.fit_transform(data['income/доход'])\n",
    "X = pd.get_dummies(data.loc[:, ['gender/пол']])\n",
    "y = pd.Series(data = le.fit_transform(data['income/доход']))\n",
    "# разделим данные на 2 выборки: для обучения (50 процентов) и тестирования обученной модели (50 процентов):\n",
    "X_train, X_test, y_train, y_test = train_test_split(X, y, test_size=0.5, random_state=42)\n",
    "# print('Размер X_train: ', X_train.shape)\n",
    "# print('Размер X_test: ', X_test.shape)\n",
    "# print('Размер y_train: ', y_train.shape)\n",
    "# print('Размер y_test: ', y_test.shape)"
   ]
  },
  {
   "cell_type": "code",
   "execution_count": 94,
   "metadata": {},
   "outputs": [
    {
     "data": {
      "text/plain": [
       "array([0, 0, 0, ..., 0, 0, 0])"
      ]
     },
     "execution_count": 94,
     "metadata": {},
     "output_type": "execute_result"
    }
   ],
   "source": [
    "model_1.fit(X_train, y_train)            # обучаем модель \n",
    "y_pred = model_1.predict(X_test)         # формируем прогнозные значения\n",
    "y_pred"
   ]
  },
  {
   "cell_type": "code",
   "execution_count": 95,
   "metadata": {},
   "outputs": [
    {
     "data": {
      "text/html": [
       "<div>\n",
       "<style scoped>\n",
       "    .dataframe tbody tr th:only-of-type {\n",
       "        vertical-align: middle;\n",
       "    }\n",
       "\n",
       "    .dataframe tbody tr th {\n",
       "        vertical-align: top;\n",
       "    }\n",
       "\n",
       "    .dataframe thead th {\n",
       "        text-align: right;\n",
       "    }\n",
       "</style>\n",
       "<table border=\"1\" class=\"dataframe\">\n",
       "  <thead>\n",
       "    <tr style=\"text-align: right;\">\n",
       "      <th></th>\n",
       "      <th>0</th>\n",
       "      <th>1</th>\n",
       "    </tr>\n",
       "  </thead>\n",
       "  <tbody>\n",
       "    <tr>\n",
       "      <th>7762</th>\n",
       "      <td>0.0</td>\n",
       "      <td>0.0</td>\n",
       "    </tr>\n",
       "    <tr>\n",
       "      <th>23881</th>\n",
       "      <td>0.0</td>\n",
       "      <td>0.0</td>\n",
       "    </tr>\n",
       "    <tr>\n",
       "      <th>30507</th>\n",
       "      <td>1.0</td>\n",
       "      <td>NaN</td>\n",
       "    </tr>\n",
       "    <tr>\n",
       "      <th>28911</th>\n",
       "      <td>0.0</td>\n",
       "      <td>NaN</td>\n",
       "    </tr>\n",
       "    <tr>\n",
       "      <th>19484</th>\n",
       "      <td>0.0</td>\n",
       "      <td>0.0</td>\n",
       "    </tr>\n",
       "    <tr>\n",
       "      <th>43031</th>\n",
       "      <td>0.0</td>\n",
       "      <td>NaN</td>\n",
       "    </tr>\n",
       "    <tr>\n",
       "      <th>28188</th>\n",
       "      <td>0.0</td>\n",
       "      <td>NaN</td>\n",
       "    </tr>\n",
       "    <tr>\n",
       "      <th>12761</th>\n",
       "      <td>1.0</td>\n",
       "      <td>0.0</td>\n",
       "    </tr>\n",
       "    <tr>\n",
       "      <th>40834</th>\n",
       "      <td>0.0</td>\n",
       "      <td>NaN</td>\n",
       "    </tr>\n",
       "    <tr>\n",
       "      <th>27875</th>\n",
       "      <td>0.0</td>\n",
       "      <td>NaN</td>\n",
       "    </tr>\n",
       "  </tbody>\n",
       "</table>\n",
       "</div>"
      ],
      "text/plain": [
       "         0    1\n",
       "7762   0.0  0.0\n",
       "23881  0.0  0.0\n",
       "30507  1.0  NaN\n",
       "28911  0.0  NaN\n",
       "19484  0.0  0.0\n",
       "43031  0.0  NaN\n",
       "28188  0.0  NaN\n",
       "12761  1.0  0.0\n",
       "40834  0.0  NaN\n",
       "27875  0.0  NaN"
      ]
     },
     "execution_count": 95,
     "metadata": {},
     "output_type": "execute_result"
    }
   ],
   "source": [
    "# # смотрим разницу факта и прогноза\n",
    "result = pd.DataFrame([y_test, y_pred]).T\n",
    "                      \n",
    "result.head(10)"
   ]
  },
  {
   "cell_type": "code",
   "execution_count": 96,
   "metadata": {},
   "outputs": [
    {
     "data": {
      "text/plain": [
       "0.7629089717865771"
      ]
     },
     "execution_count": 96,
     "metadata": {},
     "output_type": "execute_result"
    }
   ],
   "source": [
    "# Рассчитаем коэффициент детерминации, демонстрирующий нам уровень ошибки прогноза\n",
    "# получаем ошибку в половне случаев\n",
    "\n",
    "model_1.score(X_test, y_test)  "
   ]
  },
  {
   "cell_type": "code",
   "execution_count": 102,
   "metadata": {},
   "outputs": [
    {
     "data": {
      "text/plain": [
       "SVC(C=1.0, break_ties=False, cache_size=200, class_weight=None, coef0=0.0,\n",
       "    decision_function_shape='ovr', degree=3, gamma='scale', kernel='rbf',\n",
       "    max_iter=-1, probability=False, random_state=None, shrinking=True,\n",
       "    tol=0.001, verbose=False)"
      ]
     },
     "execution_count": 102,
     "metadata": {},
     "output_type": "execute_result"
    }
   ],
   "source": [
    "# реализуем метод опорных векторов \n",
    "clf = svm.SVC()\n",
    "clf.fit(X_train, y_train)   \n"
   ]
  },
  {
   "cell_type": "code",
   "execution_count": 106,
   "metadata": {},
   "outputs": [
    {
     "data": {
      "text/plain": [
       "array([0, 0, 0, ..., 0, 0, 0])"
      ]
     },
     "execution_count": 106,
     "metadata": {},
     "output_type": "execute_result"
    }
   ],
   "source": [
    "y_pred_clf = clf.predict(X_test)         # формируем прогнозные значения в методе опорных векторов\n",
    "y_pred_clf"
   ]
  },
  {
   "cell_type": "code",
   "execution_count": 107,
   "metadata": {},
   "outputs": [
    {
     "data": {
      "text/plain": [
       "0.7811309938167971"
      ]
     },
     "execution_count": 107,
     "metadata": {},
     "output_type": "execute_result"
    }
   ],
   "source": [
    "clf.score(X_test, y_test)  "
   ]
  },
  {
   "cell_type": "code",
   "execution_count": 111,
   "metadata": {},
   "outputs": [],
   "source": [
    "# исследуем модель зависимости уровня дохода от образования\n",
    "model_2 = LogisticRegression()\n",
    "# целевая переменная (столбец 'income/доход') является категориальной\n",
    "# переведем значения этой колонки в числа, оставив один столбец\n",
    "le = LabelEncoder() \n",
    "# le.fit_transform(data['income/доход'])\n",
    "X = pd.get_dummies(data.loc[:, ['education/образование']])\n",
    "y = pd.Series(data = le.fit_transform(data['income/доход']))\n",
    "# разделим данные на 2 выборки: для обучения (50 процентов) и тестирования обученной модели (50 процентов):\n",
    "X_train, X_test, y_train, y_test = train_test_split(X, y, test_size=0.5, random_state=42)\n"
   ]
  },
  {
   "cell_type": "code",
   "execution_count": 112,
   "metadata": {},
   "outputs": [
    {
     "data": {
      "text/plain": [
       "array([0, 0, 0, ..., 0, 0, 0])"
      ]
     },
     "execution_count": 112,
     "metadata": {},
     "output_type": "execute_result"
    }
   ],
   "source": [
    "model_2.fit(X_train, y_train)            # обучаем модель \n",
    "y_pred = model_2.predict(X_test)         # формируем прогнозные значения\n",
    "y_pred"
   ]
  },
  {
   "cell_type": "code",
   "execution_count": 113,
   "metadata": {},
   "outputs": [
    {
     "data": {
      "text/plain": [
       "0.7811309938167971"
      ]
     },
     "execution_count": 113,
     "metadata": {},
     "output_type": "execute_result"
    }
   ],
   "source": [
    "# Рассчитаем коэффициент детерминации, демонстрирующий нам уровень ошибки прогноза\n",
    "# получаем ошибку в половне случаев\n",
    "\n",
    "model_2.score(X_test, y_test) "
   ]
  },
  {
   "cell_type": "code",
   "execution_count": 114,
   "metadata": {},
   "outputs": [
    {
     "data": {
      "text/plain": [
       "SVC(C=1.0, break_ties=False, cache_size=200, class_weight=None, coef0=0.0,\n",
       "    decision_function_shape='ovr', degree=3, gamma='scale', kernel='rbf',\n",
       "    max_iter=-1, probability=False, random_state=None, shrinking=True,\n",
       "    tol=0.001, verbose=False)"
      ]
     },
     "execution_count": 114,
     "metadata": {},
     "output_type": "execute_result"
    }
   ],
   "source": [
    "# реализуем метод опорных векторов для зависимости уровня дохода от образования \n",
    "clf = svm.SVC()\n",
    "clf.fit(X_train, y_train) "
   ]
  },
  {
   "cell_type": "code",
   "execution_count": 115,
   "metadata": {},
   "outputs": [
    {
     "data": {
      "text/plain": [
       "array([0, 0, 0, ..., 0, 0, 0])"
      ]
     },
     "execution_count": 115,
     "metadata": {},
     "output_type": "execute_result"
    }
   ],
   "source": [
    "y_pred_clf = clf.predict(X_test)         # формируем прогнозные значения в методе опорных векторов\n",
    "y_pred_clf"
   ]
  },
  {
   "cell_type": "code",
   "execution_count": 116,
   "metadata": {},
   "outputs": [
    {
     "data": {
      "text/plain": [
       "0.7811309938167971"
      ]
     },
     "execution_count": 116,
     "metadata": {},
     "output_type": "execute_result"
    }
   ],
   "source": [
    "clf.score(X_test, y_test)  "
   ]
  }
 ],
 "metadata": {
  "kernelspec": {
   "display_name": "Python 3",
   "language": "python",
   "name": "python3"
  },
  "language_info": {
   "codemirror_mode": {
    "name": "ipython",
    "version": 3
   },
   "file_extension": ".py",
   "mimetype": "text/x-python",
   "name": "python",
   "nbconvert_exporter": "python",
   "pygments_lexer": "ipython3",
   "version": "3.7.6"
  }
 },
 "nbformat": 4,
 "nbformat_minor": 4
}
