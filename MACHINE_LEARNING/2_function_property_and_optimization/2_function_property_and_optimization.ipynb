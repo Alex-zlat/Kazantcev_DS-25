{
 "cells": [
  {
   "cell_type": "code",
   "execution_count": 7,
   "metadata": {},
   "outputs": [],
   "source": [
    "import pandas as pd\n",
    "import numpy as np\n",
    "import tensorflow as tf\n",
    "\n",
    "N = 100\n",
    "X = np.random.uniform(low=0, high=100, size=N)\n",
    "Y = 2*X + 1 + np.random.normal(scale=5, size=N)"
   ]
  },
  {
   "cell_type": "code",
   "execution_count": 8,
   "metadata": {},
   "outputs": [],
   "source": [
    "#Применим метод градиентного спуска\n",
    "EPOCHS = 20\n",
    "LEARNING_RATE = 0.0001"
   ]
  },
  {
   "cell_type": "code",
   "execution_count": 9,
   "metadata": {},
   "outputs": [
    {
     "name": "stdout",
     "output_type": "stream",
     "text": [
      "-0.15459161970370722 1.5845243755008094\n",
      "-0.1523062643255199 1.7467411651054985\n",
      "-0.1508997465027756 1.8463674611301508\n",
      "-0.15003297169060953 1.9075534597415533\n",
      "-0.14949768310095876 1.9451311373336373\n",
      "-0.14916597867691517 1.968209634148198\n",
      "-0.14895930666363022 1.9823833789883079\n",
      "-0.14882942406690172 1.9910882212098744\n",
      "-0.1487467021853196 1.996434306676226\n",
      "-0.14869294438822697 1.999717593126857\n",
      "-0.1486569751143767 2.001734000167014\n",
      "-0.1486319308310876 2.0029723462193285\n",
      "-0.14861359626184417 2.003732841818544\n",
      "-0.14859938257128533 2.00419986292309\n",
      "-0.1485876998118703 2.0044866450464247\n",
      "-0.14857757150853163 2.004662732404708\n",
      "-0.1485683979537103 2.004770835962494\n",
      "-0.14855981083369418 2.00483718689462\n",
      "-0.14855158394658055 2.0048778952220268\n",
      "-0.14854357836921944 2.004902855003076\n"
     ]
    }
   ],
   "source": [
    "costs = []\n",
    "params = []\n",
    "preds = []\n",
    "params = np.random.normal(size=(2,))\n",
    "\n",
    "for i in range(EPOCHS):\n",
    "    predictions = params[0] + params[1] * X\n",
    "    preds.append(predictions)\n",
    "\n",
    "    cost = np.sum(np.square(predictions - Y)) / (2 * len(predictions))\n",
    "    costs.append(cost)\n",
    "    \n",
    "    params[0] -= LEARNING_RATE * np.sum(predictions - Y) / len(predictions)\n",
    "    params[1] -= LEARNING_RATE * np.sum((predictions - Y) * X) / len(predictions)  \n",
    "    print(params[0], params[1])"
   ]
  },
  {
   "cell_type": "code",
   "execution_count": 19,
   "metadata": {},
   "outputs": [],
   "source": [
    "# vt = γvt-1 + η∇_θJ(θ), где \n",
    "# θ = θ - vθ\n",
    "\n",
    "γ = 0.9\n",
    "learning_rate = 0.1\n",
    "\n",
    "# метод ускоренного градиентного спуска Нестерова в библиотеке TensorFlow:\n",
    "# tf.compat.v1.train.MomentumOptimizer(\n",
    "#     learning_rate, momentum, use_locking=False, name='Momentum',\n",
    "#     use_nesterov=True\n",
    "# )\n",
    "\n",
    "# реализация функции ускоренного градиентного спуска Нестерова из модуля TensorFlow:\n",
    "def _update_nesterov_momentum_numpy(var, accum, g, lr, momentum): # accum - это average_grad (начинается с нуля) \n",
    "    var = var + accum * lr * momentum\n",
    "    accum = accum * momentum + g\n",
    "    var = var - lr * accum\n",
    "    var = var - accum * lr * momentum\n",
    "    return var, accum\n",
    "\n",
    "\n",
    "# _update_nesterov_momentum_numpy(1.0, 0, 0.1, 0.1, 0.9)\n"
   ]
  },
  {
   "cell_type": "code",
   "execution_count": null,
   "metadata": {},
   "outputs": [],
   "source": [
    "# метод rmsprop в TensorFlow\n",
    "\n",
    "tf.keras.optimizers.RMSprop(\n",
    "    learning_rate=0.001, rho=0.9, momentum=0.0, epsilon=1e-07, centered=False,\n",
    "    name='RMSprop', **kwargs\n",
    ")"
   ]
  }
 ],
 "metadata": {
  "kernelspec": {
   "display_name": "Python 3",
   "language": "python",
   "name": "python3"
  },
  "language_info": {
   "codemirror_mode": {
    "name": "ipython",
    "version": 3
   },
   "file_extension": ".py",
   "mimetype": "text/x-python",
   "name": "python",
   "nbconvert_exporter": "python",
   "pygments_lexer": "ipython3",
   "version": "3.7.6"
  }
 },
 "nbformat": 4,
 "nbformat_minor": 4
}
