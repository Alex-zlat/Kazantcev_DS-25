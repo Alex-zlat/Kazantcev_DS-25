{
 "cells": [
  {
   "cell_type": "code",
   "execution_count": 2,
   "metadata": {},
   "outputs": [],
   "source": [
    "\"\"\"\n",
    "− используйте данные MovieLens 1M\n",
    "− можно использовать любые модели из пакета\n",
    "− получите RMSE на тестовом сете 0.87 и ниже\n",
    "\"\"\"\n",
    "\n",
    "import pandas as pd\n",
    "import numpy as np\n",
    "from surprise import KNNWithMeans, KNNBasic\n",
    "from surprise import Dataset\n",
    "from surprise import accuracy\n",
    "from surprise import Reader\n",
    "from surprise.model_selection import train_test_split\n",
    "# !pip install surprise"
   ]
  },
  {
   "cell_type": "code",
   "execution_count": 9,
   "metadata": {},
   "outputs": [
    {
     "data": {
      "text/html": [
       "<div>\n",
       "<style scoped>\n",
       "    .dataframe tbody tr th:only-of-type {\n",
       "        vertical-align: middle;\n",
       "    }\n",
       "\n",
       "    .dataframe tbody tr th {\n",
       "        vertical-align: top;\n",
       "    }\n",
       "\n",
       "    .dataframe thead th {\n",
       "        text-align: right;\n",
       "    }\n",
       "</style>\n",
       "<table border=\"1\" class=\"dataframe\">\n",
       "  <thead>\n",
       "    <tr style=\"text-align: right;\">\n",
       "      <th></th>\n",
       "      <th>userId</th>\n",
       "      <th>movieId</th>\n",
       "      <th>rating</th>\n",
       "      <th>timestamp</th>\n",
       "    </tr>\n",
       "  </thead>\n",
       "  <tbody>\n",
       "    <tr>\n",
       "      <th>74336</th>\n",
       "      <td>474</td>\n",
       "      <td>4769</td>\n",
       "      <td>3.0</td>\n",
       "      <td>1056372207</td>\n",
       "    </tr>\n",
       "    <tr>\n",
       "      <th>84724</th>\n",
       "      <td>547</td>\n",
       "      <td>2076</td>\n",
       "      <td>5.0</td>\n",
       "      <td>942723440</td>\n",
       "    </tr>\n",
       "    <tr>\n",
       "      <th>2115</th>\n",
       "      <td>18</td>\n",
       "      <td>59615</td>\n",
       "      <td>2.5</td>\n",
       "      <td>1455231357</td>\n",
       "    </tr>\n",
       "    <tr>\n",
       "      <th>94769</th>\n",
       "      <td>599</td>\n",
       "      <td>79702</td>\n",
       "      <td>2.5</td>\n",
       "      <td>1498517021</td>\n",
       "    </tr>\n",
       "    <tr>\n",
       "      <th>76040</th>\n",
       "      <td>478</td>\n",
       "      <td>33164</td>\n",
       "      <td>0.5</td>\n",
       "      <td>1121467489</td>\n",
       "    </tr>\n",
       "    <tr>\n",
       "      <th>28240</th>\n",
       "      <td>195</td>\n",
       "      <td>3826</td>\n",
       "      <td>3.0</td>\n",
       "      <td>997909336</td>\n",
       "    </tr>\n",
       "    <tr>\n",
       "      <th>48352</th>\n",
       "      <td>313</td>\n",
       "      <td>1374</td>\n",
       "      <td>4.0</td>\n",
       "      <td>1030474742</td>\n",
       "    </tr>\n",
       "    <tr>\n",
       "      <th>62274</th>\n",
       "      <td>413</td>\n",
       "      <td>4890</td>\n",
       "      <td>5.0</td>\n",
       "      <td>1484440124</td>\n",
       "    </tr>\n",
       "    <tr>\n",
       "      <th>33855</th>\n",
       "      <td>230</td>\n",
       "      <td>33679</td>\n",
       "      <td>4.5</td>\n",
       "      <td>1196305197</td>\n",
       "    </tr>\n",
       "    <tr>\n",
       "      <th>30296</th>\n",
       "      <td>212</td>\n",
       "      <td>1265</td>\n",
       "      <td>2.5</td>\n",
       "      <td>1490121496</td>\n",
       "    </tr>\n",
       "    <tr>\n",
       "      <th>54969</th>\n",
       "      <td>365</td>\n",
       "      <td>5669</td>\n",
       "      <td>0.5</td>\n",
       "      <td>1488332557</td>\n",
       "    </tr>\n",
       "    <tr>\n",
       "      <th>11700</th>\n",
       "      <td>70</td>\n",
       "      <td>1959</td>\n",
       "      <td>4.5</td>\n",
       "      <td>1355184760</td>\n",
       "    </tr>\n",
       "    <tr>\n",
       "      <th>88191</th>\n",
       "      <td>568</td>\n",
       "      <td>3053</td>\n",
       "      <td>4.0</td>\n",
       "      <td>1243575993</td>\n",
       "    </tr>\n",
       "    <tr>\n",
       "      <th>59405</th>\n",
       "      <td>387</td>\n",
       "      <td>1207</td>\n",
       "      <td>3.5</td>\n",
       "      <td>1094876849</td>\n",
       "    </tr>\n",
       "    <tr>\n",
       "      <th>25663</th>\n",
       "      <td>177</td>\n",
       "      <td>70286</td>\n",
       "      <td>2.5</td>\n",
       "      <td>1435524591</td>\n",
       "    </tr>\n",
       "    <tr>\n",
       "      <th>3940</th>\n",
       "      <td>24</td>\n",
       "      <td>2424</td>\n",
       "      <td>4.0</td>\n",
       "      <td>1458941144</td>\n",
       "    </tr>\n",
       "    <tr>\n",
       "      <th>39001</th>\n",
       "      <td>268</td>\n",
       "      <td>2539</td>\n",
       "      <td>3.0</td>\n",
       "      <td>940173069</td>\n",
       "    </tr>\n",
       "    <tr>\n",
       "      <th>94283</th>\n",
       "      <td>599</td>\n",
       "      <td>7762</td>\n",
       "      <td>4.0</td>\n",
       "      <td>1498526714</td>\n",
       "    </tr>\n",
       "    <tr>\n",
       "      <th>75220</th>\n",
       "      <td>475</td>\n",
       "      <td>1374</td>\n",
       "      <td>4.5</td>\n",
       "      <td>1498031874</td>\n",
       "    </tr>\n",
       "    <tr>\n",
       "      <th>66291</th>\n",
       "      <td>427</td>\n",
       "      <td>1394</td>\n",
       "      <td>5.0</td>\n",
       "      <td>1053068898</td>\n",
       "    </tr>\n",
       "    <tr>\n",
       "      <th>12791</th>\n",
       "      <td>82</td>\n",
       "      <td>1291</td>\n",
       "      <td>4.5</td>\n",
       "      <td>1084463946</td>\n",
       "    </tr>\n",
       "    <tr>\n",
       "      <th>61120</th>\n",
       "      <td>399</td>\n",
       "      <td>1</td>\n",
       "      <td>4.0</td>\n",
       "      <td>1167220428</td>\n",
       "    </tr>\n",
       "    <tr>\n",
       "      <th>23302</th>\n",
       "      <td>160</td>\n",
       "      <td>628</td>\n",
       "      <td>1.0</td>\n",
       "      <td>971196228</td>\n",
       "    </tr>\n",
       "    <tr>\n",
       "      <th>28285</th>\n",
       "      <td>196</td>\n",
       "      <td>1552</td>\n",
       "      <td>4.0</td>\n",
       "      <td>1460954263</td>\n",
       "    </tr>\n",
       "    <tr>\n",
       "      <th>30982</th>\n",
       "      <td>217</td>\n",
       "      <td>513</td>\n",
       "      <td>3.0</td>\n",
       "      <td>955943877</td>\n",
       "    </tr>\n",
       "  </tbody>\n",
       "</table>\n",
       "</div>"
      ],
      "text/plain": [
       "       userId  movieId  rating   timestamp\n",
       "74336     474     4769     3.0  1056372207\n",
       "84724     547     2076     5.0   942723440\n",
       "2115       18    59615     2.5  1455231357\n",
       "94769     599    79702     2.5  1498517021\n",
       "76040     478    33164     0.5  1121467489\n",
       "28240     195     3826     3.0   997909336\n",
       "48352     313     1374     4.0  1030474742\n",
       "62274     413     4890     5.0  1484440124\n",
       "33855     230    33679     4.5  1196305197\n",
       "30296     212     1265     2.5  1490121496\n",
       "54969     365     5669     0.5  1488332557\n",
       "11700      70     1959     4.5  1355184760\n",
       "88191     568     3053     4.0  1243575993\n",
       "59405     387     1207     3.5  1094876849\n",
       "25663     177    70286     2.5  1435524591\n",
       "3940       24     2424     4.0  1458941144\n",
       "39001     268     2539     3.0   940173069\n",
       "94283     599     7762     4.0  1498526714\n",
       "75220     475     1374     4.5  1498031874\n",
       "66291     427     1394     5.0  1053068898\n",
       "12791      82     1291     4.5  1084463946\n",
       "61120     399        1     4.0  1167220428\n",
       "23302     160      628     1.0   971196228\n",
       "28285     196     1552     4.0  1460954263\n",
       "30982     217      513     3.0   955943877"
      ]
     },
     "execution_count": 9,
     "metadata": {},
     "output_type": "execute_result"
    }
   ],
   "source": [
    "ratings = pd.read_csv('ratings.csv')\n",
    "ratings.sample(25)"
   ]
  },
  {
   "cell_type": "code",
   "execution_count": 6,
   "metadata": {},
   "outputs": [
    {
     "data": {
      "text/html": [
       "<div>\n",
       "<style scoped>\n",
       "    .dataframe tbody tr th:only-of-type {\n",
       "        vertical-align: middle;\n",
       "    }\n",
       "\n",
       "    .dataframe tbody tr th {\n",
       "        vertical-align: top;\n",
       "    }\n",
       "\n",
       "    .dataframe thead th {\n",
       "        text-align: right;\n",
       "    }\n",
       "</style>\n",
       "<table border=\"1\" class=\"dataframe\">\n",
       "  <thead>\n",
       "    <tr style=\"text-align: right;\">\n",
       "      <th></th>\n",
       "      <th>movieId</th>\n",
       "      <th>title</th>\n",
       "      <th>genres</th>\n",
       "    </tr>\n",
       "  </thead>\n",
       "  <tbody>\n",
       "    <tr>\n",
       "      <th>0</th>\n",
       "      <td>1</td>\n",
       "      <td>Toy Story (1995)</td>\n",
       "      <td>Adventure|Animation|Children|Comedy|Fantasy</td>\n",
       "    </tr>\n",
       "    <tr>\n",
       "      <th>1</th>\n",
       "      <td>2</td>\n",
       "      <td>Jumanji (1995)</td>\n",
       "      <td>Adventure|Children|Fantasy</td>\n",
       "    </tr>\n",
       "    <tr>\n",
       "      <th>2</th>\n",
       "      <td>3</td>\n",
       "      <td>Grumpier Old Men (1995)</td>\n",
       "      <td>Comedy|Romance</td>\n",
       "    </tr>\n",
       "    <tr>\n",
       "      <th>3</th>\n",
       "      <td>4</td>\n",
       "      <td>Waiting to Exhale (1995)</td>\n",
       "      <td>Comedy|Drama|Romance</td>\n",
       "    </tr>\n",
       "    <tr>\n",
       "      <th>4</th>\n",
       "      <td>5</td>\n",
       "      <td>Father of the Bride Part II (1995)</td>\n",
       "      <td>Comedy</td>\n",
       "    </tr>\n",
       "    <tr>\n",
       "      <th>...</th>\n",
       "      <td>...</td>\n",
       "      <td>...</td>\n",
       "      <td>...</td>\n",
       "    </tr>\n",
       "    <tr>\n",
       "      <th>9737</th>\n",
       "      <td>193581</td>\n",
       "      <td>Black Butler: Book of the Atlantic (2017)</td>\n",
       "      <td>Action|Animation|Comedy|Fantasy</td>\n",
       "    </tr>\n",
       "    <tr>\n",
       "      <th>9738</th>\n",
       "      <td>193583</td>\n",
       "      <td>No Game No Life: Zero (2017)</td>\n",
       "      <td>Animation|Comedy|Fantasy</td>\n",
       "    </tr>\n",
       "    <tr>\n",
       "      <th>9739</th>\n",
       "      <td>193585</td>\n",
       "      <td>Flint (2017)</td>\n",
       "      <td>Drama</td>\n",
       "    </tr>\n",
       "    <tr>\n",
       "      <th>9740</th>\n",
       "      <td>193587</td>\n",
       "      <td>Bungo Stray Dogs: Dead Apple (2018)</td>\n",
       "      <td>Action|Animation</td>\n",
       "    </tr>\n",
       "    <tr>\n",
       "      <th>9741</th>\n",
       "      <td>193609</td>\n",
       "      <td>Andrew Dice Clay: Dice Rules (1991)</td>\n",
       "      <td>Comedy</td>\n",
       "    </tr>\n",
       "  </tbody>\n",
       "</table>\n",
       "<p>9742 rows × 3 columns</p>\n",
       "</div>"
      ],
      "text/plain": [
       "      movieId                                      title  \\\n",
       "0           1                           Toy Story (1995)   \n",
       "1           2                             Jumanji (1995)   \n",
       "2           3                    Grumpier Old Men (1995)   \n",
       "3           4                   Waiting to Exhale (1995)   \n",
       "4           5         Father of the Bride Part II (1995)   \n",
       "...       ...                                        ...   \n",
       "9737   193581  Black Butler: Book of the Atlantic (2017)   \n",
       "9738   193583               No Game No Life: Zero (2017)   \n",
       "9739   193585                               Flint (2017)   \n",
       "9740   193587        Bungo Stray Dogs: Dead Apple (2018)   \n",
       "9741   193609        Andrew Dice Clay: Dice Rules (1991)   \n",
       "\n",
       "                                           genres  \n",
       "0     Adventure|Animation|Children|Comedy|Fantasy  \n",
       "1                      Adventure|Children|Fantasy  \n",
       "2                                  Comedy|Romance  \n",
       "3                            Comedy|Drama|Romance  \n",
       "4                                          Comedy  \n",
       "...                                           ...  \n",
       "9737              Action|Animation|Comedy|Fantasy  \n",
       "9738                     Animation|Comedy|Fantasy  \n",
       "9739                                        Drama  \n",
       "9740                             Action|Animation  \n",
       "9741                                       Comedy  \n",
       "\n",
       "[9742 rows x 3 columns]"
      ]
     },
     "execution_count": 6,
     "metadata": {},
     "output_type": "execute_result"
    }
   ],
   "source": [
    "movies = pd.read_csv('movies.csv')\n",
    "movies"
   ]
  },
  {
   "cell_type": "code",
   "execution_count": 26,
   "metadata": {},
   "outputs": [
    {
     "data": {
      "text/html": [
       "<div>\n",
       "<style scoped>\n",
       "    .dataframe tbody tr th:only-of-type {\n",
       "        vertical-align: middle;\n",
       "    }\n",
       "\n",
       "    .dataframe tbody tr th {\n",
       "        vertical-align: top;\n",
       "    }\n",
       "\n",
       "    .dataframe thead th {\n",
       "        text-align: right;\n",
       "    }\n",
       "</style>\n",
       "<table border=\"1\" class=\"dataframe\">\n",
       "  <thead>\n",
       "    <tr style=\"text-align: right;\">\n",
       "      <th></th>\n",
       "      <th>movieId</th>\n",
       "      <th>title</th>\n",
       "      <th>genres</th>\n",
       "      <th>userId</th>\n",
       "      <th>rating</th>\n",
       "      <th>timestamp</th>\n",
       "    </tr>\n",
       "  </thead>\n",
       "  <tbody>\n",
       "    <tr>\n",
       "      <th>0</th>\n",
       "      <td>1</td>\n",
       "      <td>Toy Story (1995)</td>\n",
       "      <td>Adventure|Animation|Children|Comedy|Fantasy</td>\n",
       "      <td>1.0</td>\n",
       "      <td>4.0</td>\n",
       "      <td>9.649827e+08</td>\n",
       "    </tr>\n",
       "    <tr>\n",
       "      <th>1</th>\n",
       "      <td>1</td>\n",
       "      <td>Toy Story (1995)</td>\n",
       "      <td>Adventure|Animation|Children|Comedy|Fantasy</td>\n",
       "      <td>5.0</td>\n",
       "      <td>4.0</td>\n",
       "      <td>8.474350e+08</td>\n",
       "    </tr>\n",
       "    <tr>\n",
       "      <th>2</th>\n",
       "      <td>1</td>\n",
       "      <td>Toy Story (1995)</td>\n",
       "      <td>Adventure|Animation|Children|Comedy|Fantasy</td>\n",
       "      <td>7.0</td>\n",
       "      <td>4.5</td>\n",
       "      <td>1.106636e+09</td>\n",
       "    </tr>\n",
       "    <tr>\n",
       "      <th>3</th>\n",
       "      <td>1</td>\n",
       "      <td>Toy Story (1995)</td>\n",
       "      <td>Adventure|Animation|Children|Comedy|Fantasy</td>\n",
       "      <td>15.0</td>\n",
       "      <td>2.5</td>\n",
       "      <td>1.510578e+09</td>\n",
       "    </tr>\n",
       "    <tr>\n",
       "      <th>4</th>\n",
       "      <td>1</td>\n",
       "      <td>Toy Story (1995)</td>\n",
       "      <td>Adventure|Animation|Children|Comedy|Fantasy</td>\n",
       "      <td>17.0</td>\n",
       "      <td>4.5</td>\n",
       "      <td>1.305696e+09</td>\n",
       "    </tr>\n",
       "    <tr>\n",
       "      <th>...</th>\n",
       "      <td>...</td>\n",
       "      <td>...</td>\n",
       "      <td>...</td>\n",
       "      <td>...</td>\n",
       "      <td>...</td>\n",
       "      <td>...</td>\n",
       "    </tr>\n",
       "    <tr>\n",
       "      <th>100849</th>\n",
       "      <td>193581</td>\n",
       "      <td>Black Butler: Book of the Atlantic (2017)</td>\n",
       "      <td>Action|Animation|Comedy|Fantasy</td>\n",
       "      <td>184.0</td>\n",
       "      <td>4.0</td>\n",
       "      <td>1.537109e+09</td>\n",
       "    </tr>\n",
       "    <tr>\n",
       "      <th>100850</th>\n",
       "      <td>193583</td>\n",
       "      <td>No Game No Life: Zero (2017)</td>\n",
       "      <td>Animation|Comedy|Fantasy</td>\n",
       "      <td>184.0</td>\n",
       "      <td>3.5</td>\n",
       "      <td>1.537110e+09</td>\n",
       "    </tr>\n",
       "    <tr>\n",
       "      <th>100851</th>\n",
       "      <td>193585</td>\n",
       "      <td>Flint (2017)</td>\n",
       "      <td>Drama</td>\n",
       "      <td>184.0</td>\n",
       "      <td>3.5</td>\n",
       "      <td>1.537110e+09</td>\n",
       "    </tr>\n",
       "    <tr>\n",
       "      <th>100852</th>\n",
       "      <td>193587</td>\n",
       "      <td>Bungo Stray Dogs: Dead Apple (2018)</td>\n",
       "      <td>Action|Animation</td>\n",
       "      <td>184.0</td>\n",
       "      <td>3.5</td>\n",
       "      <td>1.537110e+09</td>\n",
       "    </tr>\n",
       "    <tr>\n",
       "      <th>100853</th>\n",
       "      <td>193609</td>\n",
       "      <td>Andrew Dice Clay: Dice Rules (1991)</td>\n",
       "      <td>Comedy</td>\n",
       "      <td>331.0</td>\n",
       "      <td>4.0</td>\n",
       "      <td>1.537158e+09</td>\n",
       "    </tr>\n",
       "  </tbody>\n",
       "</table>\n",
       "<p>100836 rows × 6 columns</p>\n",
       "</div>"
      ],
      "text/plain": [
       "        movieId                                      title  \\\n",
       "0             1                           Toy Story (1995)   \n",
       "1             1                           Toy Story (1995)   \n",
       "2             1                           Toy Story (1995)   \n",
       "3             1                           Toy Story (1995)   \n",
       "4             1                           Toy Story (1995)   \n",
       "...         ...                                        ...   \n",
       "100849   193581  Black Butler: Book of the Atlantic (2017)   \n",
       "100850   193583               No Game No Life: Zero (2017)   \n",
       "100851   193585                               Flint (2017)   \n",
       "100852   193587        Bungo Stray Dogs: Dead Apple (2018)   \n",
       "100853   193609        Andrew Dice Clay: Dice Rules (1991)   \n",
       "\n",
       "                                             genres  userId  rating  \\\n",
       "0       Adventure|Animation|Children|Comedy|Fantasy     1.0     4.0   \n",
       "1       Adventure|Animation|Children|Comedy|Fantasy     5.0     4.0   \n",
       "2       Adventure|Animation|Children|Comedy|Fantasy     7.0     4.5   \n",
       "3       Adventure|Animation|Children|Comedy|Fantasy    15.0     2.5   \n",
       "4       Adventure|Animation|Children|Comedy|Fantasy    17.0     4.5   \n",
       "...                                             ...     ...     ...   \n",
       "100849              Action|Animation|Comedy|Fantasy   184.0     4.0   \n",
       "100850                     Animation|Comedy|Fantasy   184.0     3.5   \n",
       "100851                                        Drama   184.0     3.5   \n",
       "100852                             Action|Animation   184.0     3.5   \n",
       "100853                                       Comedy   331.0     4.0   \n",
       "\n",
       "           timestamp  \n",
       "0       9.649827e+08  \n",
       "1       8.474350e+08  \n",
       "2       1.106636e+09  \n",
       "3       1.510578e+09  \n",
       "4       1.305696e+09  \n",
       "...              ...  \n",
       "100849  1.537109e+09  \n",
       "100850  1.537110e+09  \n",
       "100851  1.537110e+09  \n",
       "100852  1.537110e+09  \n",
       "100853  1.537158e+09  \n",
       "\n",
       "[100836 rows x 6 columns]"
      ]
     },
     "execution_count": 26,
     "metadata": {},
     "output_type": "execute_result"
    }
   ],
   "source": [
    "# В переменную movies_ratings положим 2 таблицы - с рейтингами и фильмами\n",
    "# (для метода join сначала создадим, а затем удалим индекс по полю movieId, заодно удалив пропуски и переписав датасет)\n",
    "movies_ratings = movies.join(ratings.set_index('movieId'), on='movieId').reset_index(drop=True)\n",
    "movies_ratings.dropna(inplace=True)\n",
    "movies_ratings"
   ]
  },
  {
   "cell_type": "code",
   "execution_count": 12,
   "metadata": {},
   "outputs": [
    {
     "data": {
      "text/plain": [
       "array(['Jumanji (1995)', 'Babe (1995)', 'Clueless (1995)',\n",
       "       'Seven (a.k.a. Se7en) (1995)', 'Apollo 13 (1995)',\n",
       "       'Batman Forever (1995)', 'Hackers (1995)',\n",
       "       'Dumb & Dumber (Dumb and Dumber) (1994)',\n",
       "       'Interview with the Vampire: The Vampire Chronicles (1994)',\n",
       "       'Miracle on 34th Street (1994)',\n",
       "       'Shawshank Redemption, The (1994)',\n",
       "       'While You Were Sleeping (1995)',\n",
       "       'Ace Ventura: Pet Detective (1994)', 'Lion King, The (1994)',\n",
       "       'Mask, The (1994)', 'Speed (1994)', 'True Lies (1994)',\n",
       "       \"Schindler's List (1993)\", 'Sleepless in Seattle (1993)',\n",
       "       'Home Alone (1990)', 'Ghost (1990)', 'Aladdin (1992)',\n",
       "       'Terminator 2: Judgment Day (1991)', 'Dances with Wolves (1990)',\n",
       "       'Batman (1989)', 'Silence of the Lambs, The (1991)',\n",
       "       'Beauty and the Beast (1991)', 'Pretty Woman (1990)',\n",
       "       'Aristocats, The (1970)', 'Mission: Impossible (1996)',\n",
       "       'James and the Giant Peach (1996)', 'Twister (1996)',\n",
       "       'Independence Day (a.k.a. ID4) (1996)', 'Eraser (1996)',\n",
       "       'Nutty Professor, The (1996)', 'Casablanca (1942)',\n",
       "       'Cinderella (1950)', 'Ghost and the Darkness, The (1996)',\n",
       "       'Willy Wonka & the Chocolate Factory (1971)',\n",
       "       'E.T. the Extra-Terrestrial (1982)', 'Top Gun (1986)',\n",
       "       'Aliens (1986)', 'Alien (1979)', 'When Harry Met Sally... (1989)',\n",
       "       'American Werewolf in London, An (1981)',\n",
       "       'Nightmare on Elm Street, A (1984)', 'Jaws (1975)',\n",
       "       'Jerry Maguire (1996)', 'Scream (1996)', \"Dante's Peak (1997)\",\n",
       "       'Liar Liar (1997)', 'Fifth Element, The (1997)', 'Face/Off (1997)',\n",
       "       'Men in Black (a.k.a. MIB) (1997)', 'Air Force One (1997)',\n",
       "       'Starship Troopers (1997)', 'Truman Show, The (1998)',\n",
       "       'Good Will Hunting (1997)', 'Titanic (1997)', 'Bulworth (1998)',\n",
       "       'Rain Man (1988)', 'Breakfast Club, The (1985)',\n",
       "       'Honey, I Shrunk the Kids (1989)', 'Lady and the Tramp (1955)',\n",
       "       'Little Mermaid, The (1989)', 'Sleeping Beauty (1959)',\n",
       "       'Indiana Jones and the Temple of Doom (1984)',\n",
       "       'Beetlejuice (1988)', 'Edward Scissorhands (1990)',\n",
       "       'Pleasantville (1998)', 'Office Space (1999)', 'Entrapment (1999)',\n",
       "       'Mummy, The (1999)', 'Superman II (1980)',\n",
       "       'Austin Powers: The Spy Who Shagged Me (1999)',\n",
       "       'Blair Witch Project, The (1999)',\n",
       "       'Ghostbusters (a.k.a. Ghost Busters) (1984)',\n",
       "       'Sixth Sense, The (1999)', 'Risky Business (1983)',\n",
       "       'Total Recall (1990)', 'Fight Club (1999)', 'RoboCop (1987)',\n",
       "       'Who Framed Roger Rabbit? (1988)', 'Toy Story 2 (1999)',\n",
       "       'Green Mile, The (1999)', \"Wayne's World (1992)\",\n",
       "       'Predator (1987)', 'Gladiator (2000)',\n",
       "       'Mission: Impossible II (2000)', 'X-Men (2000)',\n",
       "       'Meet the Parents (2000)',\n",
       "       'Crouching Tiger, Hidden Dragon (Wo hu cang long) (2000)',\n",
       "       'Cast Away (2000)', 'Traffic (2000)',\n",
       "       'A.I. Artificial Intelligence (2001)', 'Beautiful Mind, A (2001)',\n",
       "       'Ice Age (2002)', 'Spider-Man (2002)',\n",
       "       'Men in Black II (a.k.a. MIIB) (a.k.a. MIB 2) (2002)',\n",
       "       'Signs (2002)', 'Ring, The (2002)',\n",
       "       'Lord of the Rings: The Two Towers, The (2002)',\n",
       "       'X2: X-Men United (2003)', 'Matrix Reloaded, The (2003)',\n",
       "       'Finding Nemo (2003)', '28 Days Later (2002)',\n",
       "       'Terminator 3: Rise of the Machines (2003)',\n",
       "       'Pirates of the Caribbean: The Curse of the Black Pearl (2003)',\n",
       "       'School of Rock (2003)', 'Kill Bill: Vol. 1 (2003)',\n",
       "       'Matrix Revolutions, The (2003)',\n",
       "       'Lord of the Rings: The Return of the King, The (2003)',\n",
       "       'Kill Bill: Vol. 2 (2004)', 'Shrek 2 (2004)',\n",
       "       \"Dr. Terror's House of Horrors (1965)\", 'Spider-Man 2 (2004)',\n",
       "       'I, Robot (2004)', 'Incredibles, The (2004)',\n",
       "       'Charlie and the Chocolate Factory (2005)', 'Crash (2004)',\n",
       "       'Mr. & Mrs. Smith (2005)', 'Batman Begins (2005)',\n",
       "       'War of the Worlds (2005)', 'Wedding Crashers (2005)',\n",
       "       'November (2004)', '40-Year-Old Virgin, The (2005)',\n",
       "       'Chronicles of Narnia: The Lion, the Witch and the Wardrobe, The (2005)',\n",
       "       'King Kong (2005)', 'Da Vinci Code, The (2006)',\n",
       "       'X-Men: The Last Stand (2006)',\n",
       "       \"Pirates of the Caribbean: Dead Man's Chest (2006)\",\n",
       "       'Ratatouille (2007)', '300 (2007)', 'Kickin It Old Skool (2007)',\n",
       "       'Knocked Up (2007)', 'Transformers (2007)',\n",
       "       'Simpsons Movie, The (2007)', 'Mr. Woodcock (2007)',\n",
       "       'Black Sheep (2006)'], dtype=object)"
      ]
     },
     "execution_count": 12,
     "metadata": {},
     "output_type": "execute_result"
    }
   ],
   "source": [
    "# Выберем наугад пользователя с его рейтингами \n",
    "movies_ratings[movies_ratings.userId == 230].title.unique()"
   ]
  },
  {
   "cell_type": "code",
   "execution_count": 21,
   "metadata": {},
   "outputs": [],
   "source": [
    "# Создадим датафрейм Pandas \n",
    "# dataset = pd.DataFrame({\n",
    "#     'uid': movies_ratings.userId,       # id пользователя\n",
    "#     'iid': movies_ratings.title,        # название фильма\n",
    "#     'rating': movies_ratings.rating     # рейтинг, который пользователь поставил фильму \n",
    "# })\n",
    "# dataset[dataset.uid == 230].iid.unique()"
   ]
  },
  {
   "cell_type": "code",
   "execution_count": 24,
   "metadata": {},
   "outputs": [
    {
     "name": "stdout",
     "output_type": "stream",
     "text": [
      "0.5\n",
      "5.0\n"
     ]
    }
   ],
   "source": [
    "# Изучим разброс значений по рейтингам в датафрейме \n",
    "print(ratings.rating.min())\n",
    "print(ratings.rating.max())"
   ]
  },
  {
   "cell_type": "code",
   "execution_count": 28,
   "metadata": {},
   "outputs": [],
   "source": [
    "# Объявим переменную класса Reader и преобразуем датафрейм Pandas в датасет surprise \n",
    "reader = Reader(rating_scale=(0.5, 5.0))\n",
    "data = Dataset.load_from_df(movies_ratings[['userId', 'title', 'rating']], reader)"
   ]
  },
  {
   "cell_type": "code",
   "execution_count": 29,
   "metadata": {},
   "outputs": [],
   "source": [
    "# Разобьем датасет surprise на трейн и тест \n",
    "trainset, testset = train_test_split(data, test_size=0.10)"
   ]
  },
  {
   "cell_type": "code",
   "execution_count": 30,
   "metadata": {},
   "outputs": [
    {
     "name": "stdout",
     "output_type": "stream",
     "text": [
      "Estimating biases using als...\n",
      "Computing the pearson_baseline similarity matrix...\n",
      "Done computing similarity matrix.\n"
     ]
    },
    {
     "data": {
      "text/plain": [
       "<surprise.prediction_algorithms.knns.KNNBasic at 0x22efdd67b48>"
      ]
     },
     "execution_count": 30,
     "metadata": {},
     "output_type": "execute_result"
    }
   ],
   "source": [
    "algo = KNNBasic(k=50, sim_options={'name': 'pearson_baseline', 'user_based': True})\n",
    "algo.fit(trainset)"
   ]
  },
  {
   "cell_type": "code",
   "execution_count": 31,
   "metadata": {},
   "outputs": [],
   "source": [
    "# Сформируем прогноз на основе полученной модели\n",
    "test_pred = algo.test(testset)"
   ]
  },
  {
   "cell_type": "code",
   "execution_count": 33,
   "metadata": {},
   "outputs": [
    {
     "name": "stdout",
     "output_type": "stream",
     "text": [
      "RMSE: 0.9608\n"
     ]
    },
    {
     "data": {
      "text/plain": [
       "0.9607602347017876"
      ]
     },
     "execution_count": 33,
     "metadata": {},
     "output_type": "execute_result"
    }
   ],
   "source": [
    "# Проверим качество прогноза\n",
    "accuracy.rmse(test_pred, verbose=True)"
   ]
  },
  {
   "cell_type": "code",
   "execution_count": 41,
   "metadata": {},
   "outputs": [
    {
     "name": "stdout",
     "output_type": "stream",
     "text": [
      "Estimating biases using als...\n",
      "Computing the pearson_baseline similarity matrix...\n",
      "Done computing similarity matrix.\n"
     ]
    },
    {
     "data": {
      "text/plain": [
       "<surprise.prediction_algorithms.knns.KNNBasic at 0x22efe4d4148>"
      ]
     },
     "execution_count": 41,
     "metadata": {},
     "output_type": "execute_result"
    }
   ],
   "source": [
    "# Попробуем повысить качество прогноза (уменьшим ошибку). \n",
    "# Испытаем гипотезу, снизив количество похожих пользователей до 25-ти\n",
    "algo = KNNBasic(k=25, sim_options={'name': 'pearson_baseline', 'user_based': True})\n",
    "algo.fit(trainset)"
   ]
  },
  {
   "cell_type": "code",
   "execution_count": 37,
   "metadata": {},
   "outputs": [
    {
     "name": "stdout",
     "output_type": "stream",
     "text": [
      "RMSE: 0.9619\n"
     ]
    },
    {
     "data": {
      "text/plain": [
       "0.9618514027340799"
      ]
     },
     "execution_count": 37,
     "metadata": {},
     "output_type": "execute_result"
    }
   ],
   "source": [
    "# Сформируем новый прогноз на основе полученной модели и проверим качество \n",
    "test_pred = algo.test(testset)\n",
    "accuracy.rmse(test_pred, verbose=True)"
   ]
  },
  {
   "cell_type": "code",
   "execution_count": 42,
   "metadata": {},
   "outputs": [
    {
     "name": "stdout",
     "output_type": "stream",
     "text": [
      "Evaluating RMSE, MAE of algorithm SVD on 5 split(s).\n",
      "\n",
      "                  Fold 1  Fold 2  Fold 3  Fold 4  Fold 5  Mean    Std     \n",
      "RMSE (testset)    0.8663  0.8799  0.8767  0.8720  0.8745  0.8739  0.0046  \n",
      "MAE (testset)     0.6656  0.6732  0.6755  0.6718  0.6714  0.6715  0.0033  \n",
      "Fit time          5.34    5.05    5.08    5.22    5.19    5.17    0.11    \n",
      "Test time         0.22    0.21    0.14    0.17    0.14    0.18    0.03    \n"
     ]
    },
    {
     "data": {
      "text/plain": [
       "{'test_rmse': array([0.8663193 , 0.87987362, 0.87665663, 0.87196777, 0.87454655]),\n",
       " 'test_mae': array([0.66560173, 0.67322859, 0.67554245, 0.67181064, 0.6713536 ]),\n",
       " 'fit_time': (5.340404748916626,\n",
       "  5.04597544670105,\n",
       "  5.078656435012817,\n",
       "  5.21901535987854,\n",
       "  5.189015626907349),\n",
       " 'test_time': (0.22144651412963867,\n",
       "  0.20526623725891113,\n",
       "  0.1399376392364502,\n",
       "  0.1683351993560791,\n",
       "  0.14021730422973633)}"
      ]
     },
     "execution_count": 42,
     "metadata": {},
     "output_type": "execute_result"
    }
   ],
   "source": [
    "# Применим алгоритм SVD (кросс-валидация): требуемая точность достигнута \n",
    "from surprise import SVD\n",
    "from surprise.model_selection import cross_validate\n",
    "\n",
    "algo_svd = SVD()\n",
    "cross_validate(algo_svd, data, measures=['RMSE', 'MAE'], cv=5, verbose=True)"
   ]
  },
  {
   "cell_type": "code",
   "execution_count": 44,
   "metadata": {},
   "outputs": [
    {
     "name": "stdout",
     "output_type": "stream",
     "text": [
      "Estimating biases using als...\n",
      "Computing the pearson_baseline similarity matrix...\n",
      "Done computing similarity matrix.\n",
      "RMSE: 0.8833\n"
     ]
    },
    {
     "data": {
      "text/plain": [
       "0.8832553077790254"
      ]
     },
     "execution_count": 44,
     "metadata": {},
     "output_type": "execute_result"
    }
   ],
   "source": [
    "# Попробуем также использовать модель KNNWithMeans\n",
    "algo = KNNWithMeans(k=50, sim_options={'name': 'pearson_baseline', 'user_based': True})\n",
    "algo.fit(trainset)\n",
    "test_pred = algo.test(testset)\n",
    "accuracy.rmse(test_pred, verbose=True)"
   ]
  },
  {
   "cell_type": "code",
   "execution_count": 46,
   "metadata": {},
   "outputs": [
    {
     "name": "stdout",
     "output_type": "stream",
     "text": [
      "Estimating biases using als...\n",
      "Computing the pearson_baseline similarity matrix...\n",
      "Done computing similarity matrix.\n",
      "RMSE: 0.8827\n"
     ]
    },
    {
     "data": {
      "text/plain": [
       "0.8826541742067375"
      ]
     },
     "execution_count": 46,
     "metadata": {},
     "output_type": "execute_result"
    }
   ],
   "source": [
    "# Попробуем также использовать модель KNNWithMeans\n",
    "algo = KNNWithMeans(k=25, sim_options={'name': 'pearson_baseline', 'user_based': True})\n",
    "algo.fit(trainset)\n",
    "test_pred = algo.test(testset)\n",
    "accuracy.rmse(test_pred, verbose=True)"
   ]
  },
  {
   "cell_type": "code",
   "execution_count": 48,
   "metadata": {},
   "outputs": [
    {
     "name": "stdout",
     "output_type": "stream",
     "text": [
      "RMSE: 0.8722\n",
      "RMSE: 0.8796\n",
      "RMSE: 0.8746\n",
      "RMSE: 0.8746\n"
     ]
    }
   ],
   "source": [
    "# Применим итератор перекретной проверки, который может быть использован и в других сетах\n",
    "# Первое разбиение дает наилучший результат\n",
    "from surprise.model_selection import KFold\n",
    "\n",
    "kf = KFold(n_splits=4)\n",
    "for trainset, testset in kf.split(data):\n",
    "\n",
    "    # алгоритм обучения и прогнозирования \n",
    "    algo_svd.fit(trainset)\n",
    "    predictions = algo_svd.test(testset)\n",
    "    accuracy.rmse(predictions, verbose=True)"
   ]
  },
  {
   "cell_type": "code",
   "execution_count": 49,
   "metadata": {},
   "outputs": [
    {
     "name": "stdout",
     "output_type": "stream",
     "text": [
      "0.8836173224315709\n",
      "{'n_epochs': 15, 'lr_all': 0.007, 'reg_all': 0.4}\n"
     ]
    }
   ],
   "source": [
    "# Попробуем настроить параметры алгоритма с помощью метода GridSearchCV\n",
    "\n",
    "from surprise.model_selection import GridSearchCV\n",
    "\n",
    "# определяем набор параметров для тестирования \n",
    "param_grid = {'n_epochs': [5, 10, 15], 'lr_all': [0.002, 0.005, 0.007],\n",
    "              'reg_all': [0.4, 0.6, 0.8]}\n",
    "\n",
    "gs = GridSearchCV(SVD, param_grid, measures=['rmse', 'mae'], cv=4)\n",
    "\n",
    "gs.fit(data)\n",
    "\n",
    "# выведем наилучший результат\n",
    "print(gs.best_score['rmse'])\n",
    "\n",
    "# комбинация параметров для получения наименьшей ошибки \n",
    "print(gs.best_params['rmse'])"
   ]
  },
  {
   "cell_type": "code",
   "execution_count": null,
   "metadata": {},
   "outputs": [],
   "source": []
  }
 ],
 "metadata": {
  "kernelspec": {
   "display_name": "Python 3",
   "language": "python",
   "name": "python3"
  },
  "language_info": {
   "codemirror_mode": {
    "name": "ipython",
    "version": 3
   },
   "file_extension": ".py",
   "mimetype": "text/x-python",
   "name": "python",
   "nbconvert_exporter": "python",
   "pygments_lexer": "ipython3",
   "version": "3.7.6"
  }
 },
 "nbformat": 4,
 "nbformat_minor": 4
}
