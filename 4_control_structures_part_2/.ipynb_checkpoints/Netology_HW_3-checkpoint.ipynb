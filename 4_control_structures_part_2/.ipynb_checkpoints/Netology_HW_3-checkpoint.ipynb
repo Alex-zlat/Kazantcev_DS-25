{
 "cells": [
  {
   "cell_type": "code",
   "execution_count": 1,
   "metadata": {},
   "outputs": [
    {
     "name": "stdout",
     "output_type": "stream",
     "text": [
      "Результат: {98, 35, 15, 213, 54, 119}\n"
     ]
    }
   ],
   "source": [
    "\"\"\"Задание 1\n",
    "Дана переменная, в которой хранится словарь, содержащий гео-метки для каждого пользователя \n",
    "(пример структуры данных приведен ниже). \n",
    "Вам необходимо написать программу, которая выведет на экран множество уникальных гео-меток всех пользователей\"\"\"\n",
    "\n",
    "\n",
    "ids = {'user1': [213, 213, 213, 15, 213],\n",
    "'user2': [54, 54, 119, 119, 119],\n",
    "'user3': [213, 98, 98, 35]}\n",
    "\n",
    "ids_list = ids.values()\n",
    "\n",
    "list_empty = []\n",
    "for i in ids_list:\n",
    "    list_empty.extend(i)\n",
    "\n",
    "set_ids = set(list_empty)\n",
    "print(f'Результат: {set_ids}')"
   ]
  },
  {
   "cell_type": "code",
   "execution_count": 2,
   "metadata": {},
   "outputs": [
    {
     "name": "stdout",
     "output_type": "stream",
     "text": [
      "Поисковых запросов, содержащих 3 слов(а): 57.14 %\n",
      "Поисковых запросов, содержащих 2 слов(а): 42.86 %\n"
     ]
    }
   ],
   "source": [
    "\"\"\"Задание 2\n",
    "Дана переменная, в которой хранится список поисковых запросов пользователя \n",
    "(пример структуры данных приведен ниже). \n",
    "Вам необходимо написать программу, которая выведет на экран \n",
    "распределение количества слов в запросах в требуемом виде\"\"\"\n",
    "\n",
    "queries = [\n",
    "'смотреть сериалы онлайн',\n",
    "'новости спорта',\n",
    "'афиша кино',\n",
    "'курс долларa',\n",
    "'сериалы этим летом',\n",
    "'курс по питону',\n",
    "'сериалы про спорт',\n",
    "]\n",
    "\n",
    "counter=0\n",
    "new_dict={}                                 # создали пустой словарь (позже занесем в него элементы: кол-во слов: сколько раз)\n",
    "for strings in queries:                     # проходим циклом по элементам списка и\n",
    "    a=strings.split()                       # получаем список из слов каждого отдельного запроса, разделенный по пробелу\n",
    "    count = len(a)                          # считаем, сколько слов в каждом из полученных списков \n",
    "    \n",
    "    if count in new_dict.keys():            # если значение количества слов уже есть в ключах словаря, то\n",
    "        new_dict[count]+=1                  # добавляем к накопленной сумме единицу\n",
    "    else: new_dict.update({                 # иначе: ставим первую единицу, обновив словарь новым элементом\n",
    "             count: 1\n",
    "     })\n",
    "\n",
    "    \n",
    "\n",
    "        \n",
    "            \n",
    "for key, value in new_dict.items():                                      # перебираем словарь поэлементно:                                     \n",
    "    percent = round( (value / len(queries)*100), 2)                      # делим каждый элемент словаря по значению (сколько раз встречается длина) на количество запросов\n",
    "    print(f'Поисковых запросов, содержащих {key} слов(а): {percent} %')"
   ]
  },
  {
   "cell_type": "code",
   "execution_count": 3,
   "metadata": {},
   "outputs": [
    {
     "name": "stdout",
     "output_type": "stream",
     "text": [
      "Результат:\n",
      "{'adwords': {'ROI': 2.94, 'cost': 34, 'revenue': 35},\n",
      " 'facebook': {'ROI': -6.36, 'cost': 110, 'revenue': 103},\n",
      " 'twitter': {'ROI': -54.17, 'cost': 24, 'revenue': 11},\n",
      " 'vk': {'ROI': 5.1, 'cost': 98, 'revenue': 103},\n",
      " 'yandex': {'ROI': 16.99, 'cost': 153, 'revenue': 179}}\n"
     ]
    }
   ],
   "source": [
    "\n",
    "\"\"\"Задание 3\n",
    "Дана переменная, в которой хранится информация о затратах и доходе \n",
    "рекламных кампаний по различным источникам. \n",
    "Необходимо дополнить исходную структуру показателем ROI, \n",
    "который рассчитаем по формуле: (revenue / cost - 1) * 100\"\"\"\n",
    "\n",
    "from pprint import pprint\n",
    "\n",
    "results = {\n",
    "'vk': {'revenue': 103, 'cost': 98},\n",
    "'yandex': {'revenue': 179, 'cost': 153},\n",
    "'facebook': {'revenue': 103, 'cost': 110},\n",
    "'adwords': {'revenue': 35, 'cost': 34},\n",
    "'twitter': {'revenue': 11, 'cost': 24},\n",
    "}\n",
    "\n",
    "new_dict = {}\n",
    "\n",
    "for socialmedia, indicators in results.items():\n",
    "    indicators['ROI'] = round( (indicators['revenue'] / indicators['cost'] - 1)*100, 2)\n",
    "\n",
    "    \n",
    "new_dict.update(results)\n",
    "\n",
    "print (\"Результат:\")\n",
    "pprint(new_dict)"
   ]
  },
  {
   "cell_type": "code",
   "execution_count": null,
   "metadata": {},
   "outputs": [],
   "source": [
    "\"\"\"Дана переменная, в которой хранится \n",
    "статистика рекламных каналов по объемам продаж \n",
    "(пример структуры данных приведен ниже). \n",
    "Напишите программу, которая возвращает название канала \n",
    "с максимальным объемом продаж\"\"\"\n",
    "\n",
    "stats = {'facebook': 55, 'yandex': 115, 'vk': 120, 'google': 99, 'email': 42, 'ok': 98}\n",
    "\n",
    "{resource: stat for resource, stat in filter(lambda resource: stats[resource[0]] == max(stats.values()), stats.items())}"
   ]
  }
 ],
 "metadata": {
  "kernelspec": {
   "display_name": "Python 3",
   "language": "python",
   "name": "python3"
  },
  "language_info": {
   "codemirror_mode": {
    "name": "ipython",
    "version": 3
   },
   "file_extension": ".py",
   "mimetype": "text/x-python",
   "name": "python",
   "nbconvert_exporter": "python",
   "pygments_lexer": "ipython3",
   "version": "3.7.6"
  }
 },
 "nbformat": 4,
 "nbformat_minor": 4
}
