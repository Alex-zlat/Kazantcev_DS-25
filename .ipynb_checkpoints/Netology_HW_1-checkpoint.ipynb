{
 "cells": [
  {
   "cell_type": "code",
   "execution_count": 9,
   "metadata": {},
   "outputs": [
    {
     "name": "stdout",
     "output_type": "stream",
     "text": [
      "Фраза 1 длиннее фразы 2\n",
      "Фраза 2 длиннее фразы 1\n",
      "Фразы равной длины\n"
     ]
    }
   ],
   "source": [
    "\"\"\"\n",
    "Даны 2 переменных, в которых хранятся строки произвольной длины: phrase_1 и phrase_2.\n",
    "Напишите код, который проверяет какая из этих строк длиннее\n",
    "\"\"\"\n",
    "\n",
    "phrase_1 = 'Насколько проще было бы писать программы, если бы не заказчики'\n",
    "phrase_2 = '640Кб должно хватить для любых задач. Билл Гейтс (по легенде)'\n",
    "if len (phrase_1) > len (phrase_2):\n",
    "    print ('Фраза 1 длиннее фразы 2')\n",
    "elif len (phrase_1) < len (phrase_2): \n",
    "    print ('Фраза 1 длиннее фразы 2')\n",
    "else:\n",
    "    print ('Фразы равной длины')\n",
    "    \n",
    "phrase_1 = '640Кб должно хватить для любых задач. Билл Гейтс (по легенде)'\n",
    "phrase_2 = 'Насколько проще было бы писать программы, если бы не заказчики'\n",
    "if len (phrase_1) > len (phrase_2):\n",
    "    print ('Фраза 1 длиннее фразы 2')\n",
    "elif len (phrase_1) < len (phrase_2): \n",
    "    print ('Фраза 2 длиннее фразы 1')\n",
    "else:\n",
    "    print ('Фразы равной длины')\n",
    "    \n",
    "phrase_1 = 'Насколько проще было бы писать программы, если бы не заказчики'\n",
    "phrase_2 = 'Насколько проще было бы писать программы, если бы не заказчики'\n",
    "if len (phrase_1) > len (phrase_2):\n",
    "    print ('Фраза 1 длиннее фразы 2')\n",
    "elif len (phrase_1) < len (phrase_2): \n",
    "    print ('Фраза 1 длиннее фразы 2')\n",
    "else:\n",
    "    print ('Фразы равной длины')"
   ]
  },
  {
   "cell_type": "code",
   "execution_count": 12,
   "metadata": {},
   "outputs": [
    {
     "name": "stdout",
     "output_type": "stream",
     "text": [
      "2020 - високосный год\n"
     ]
    }
   ],
   "source": [
    "\"\"\"\n",
    "Дана переменная, в которой хранится четырехзначное число (год). \n",
    "Необходимо написать программу, которая выведет, является ли данный год високосным или обычным\n",
    "\"\"\"\n",
    "\n",
    "year = 2020\n",
    "if year % 4 == 0:\n",
    "    print ('Високосный год')\n",
    "else:\n",
    "    print ('Обычный год')"
   ]
  },
  {
   "cell_type": "code",
   "execution_count": 13,
   "metadata": {},
   "outputs": [
    {
     "name": "stdout",
     "output_type": "stream",
     "text": [
      "Введите день: 11\n",
      "Введите месяц: Ноябрь\n",
      "Ваш знак зодиака: Скорпион\n"
     ]
    }
   ],
   "source": [
    "\"\"\"\n",
    "Необходимо написать программу, которая будет запрашивать у пользователя месяц и дату рождения \n",
    "и выводить соответствующий знак зодиака\n",
    "\"\"\"\n",
    "\n",
    "zodiac_signs = {\n",
    "        \"Март\": (21, \"Рыбы\", \"Овен\"),\n",
    "        \"Апрель\": (20, \"Овен\", \"Телец\"),\n",
    "        \"Май\": (21, \"Телец\", \"Близнецы\"),\n",
    "        \"Июнь\": (22, \"Близнецы\", \"Рак\"),\n",
    "        \"Июль\": (23, \"Рак\", \"Лев\"),\n",
    "        \"Август\": (23, \"Лев\", \"Дева\"),\n",
    "        \"Сентябрь\": (23, \"Дева\", \"Весы\"),\n",
    "        \"Октябрь\": (24, \"Весы\", \"Скорпион\"),\n",
    "        \"Ноябрь\": (23, \"Скорпион\", \"Стрелец\"),\n",
    "        \"Декабрь\": (22, \"Стрелец\", \"Козерог\"),\n",
    "        \"Январь\": (21, \"Козерог\", \"Водолей\"),\n",
    "        \"Февраль\": (19, \"Водолей\", \"Рыбы\")\n",
    "        }\n",
    "\n",
    "day = int(input (\"Введите день: \"))\n",
    "month = str(input (\"Введите месяц: \"))\n",
    "\n",
    "if (day >= zodiac_signs[month][0]):\n",
    "    print (\"Ваш знак зодиака: \" + zodiac_signs[month][2])\n",
    "else:\n",
    "    print (\"Ваш знак зодиака: \" + zodiac_signs[month][1])"
   ]
  },
  {
   "cell_type": "code",
   "execution_count": 23,
   "metadata": {},
   "outputs": [
    {
     "name": "stdout",
     "output_type": "stream",
     "text": [
      "Упаковка для лыж\n"
     ]
    }
   ],
   "source": [
    "\"\"\"\n",
    "Вам нужно написать программу для подбора упаковок по размерам товара. \n",
    "Размеры хранятся в переменных (в сантиметрах).\n",
    "Используйте следующие правила:\n",
    "\n",
    "если каждое из трех измерений менее 15 сантиметров, то выведите на экран “Коробка №1”;\n",
    "если хотя бы одно из измерений больше 15 сантиметров, но менее 50 сантиметров, то выводите “Коробка №2”;\n",
    "если длина товара больше 2 метров, то выводите “Упаковка для лыж”;\n",
    "во всех остальных случаях выводите “Стандартная коробка №3”\n",
    "\"\"\"\n",
    "width = 10\n",
    "length = 205\n",
    "height = 5\n",
    "\n",
    "if width < 15 and length < 15 and height < 15:\n",
    "    print (\"Коробка № 1\")\n",
    "elif 15 < width < 50 or 15 < length < 50 or 15 < height < 50:\n",
    "    print (\"Коробка № 2\")\n",
    "elif length > 200:\n",
    "    print (\"Упаковка для лыж\")\n",
    "else:\n",
    "    print (\"Стандартная коробка № 3\")\n"
   ]
  },
  {
   "cell_type": "code",
   "execution_count": 1,
   "metadata": {},
   "outputs": [
    {
     "name": "stdout",
     "output_type": "stream",
     "text": [
      "425798\n",
      "Обычный\n"
     ]
    }
   ],
   "source": [
    "\"\"\"\n",
    "Дана переменная, в которой хранится шестизначное число (номер проездного билета). \n",
    "Напишите программу, которая будет определять, является ли данный билет “счастливым”. \n",
    "Билет считается счастливым, если сумма первых трех цифр совпадает с суммой последних трех цифр номера\n",
    "\"\"\"\n",
    "\n",
    "a = int(input())\n",
    "if (a // 100000 % 10) + a // 10000 % 10 + a // 1000 % 10 == a //100 % 10 + a //10 % 10 + a //1 % 10:\n",
    "    print (\"Счастливый\")\n",
    "else:\n",
    "    print (\"Обычный\")\n",
    "    \n"
   ]
  },
  {
   "cell_type": "code",
   "execution_count": 2,
   "metadata": {},
   "outputs": [
    {
     "name": "stdout",
     "output_type": "stream",
     "text": [
      "Введите номер билета: 458967\n"
     ]
    },
    {
     "ename": "IndexError",
     "evalue": "list index out of range",
     "output_type": "error",
     "traceback": [
      "\u001b[1;31m---------------------------------------------------------------------------\u001b[0m",
      "\u001b[1;31mIndexError\u001b[0m                                Traceback (most recent call last)",
      "\u001b[1;32m<ipython-input-2-d27df1411129>\u001b[0m in \u001b[0;36m<module>\u001b[1;34m\u001b[0m\n\u001b[0;32m      6\u001b[0m \u001b[1;33m\u001b[0m\u001b[0m\n\u001b[0;32m      7\u001b[0m \u001b[1;33m\u001b[0m\u001b[0m\n\u001b[1;32m----> 8\u001b[1;33m \u001b[1;32mif\u001b[0m \u001b[0msum\u001b[0m \u001b[1;33m(\u001b[0m\u001b[0mint\u001b[0m\u001b[1;33m(\u001b[0m\u001b[0mprogram_request\u001b[0m\u001b[1;33m[\u001b[0m\u001b[1;36m0\u001b[0m\u001b[1;33m]\u001b[0m\u001b[1;33m)\u001b[0m\u001b[1;33m,\u001b[0m \u001b[0mint\u001b[0m\u001b[1;33m(\u001b[0m\u001b[0mprogram_request\u001b[0m\u001b[1;33m[\u001b[0m\u001b[1;36m1\u001b[0m\u001b[1;33m]\u001b[0m\u001b[1;33m)\u001b[0m\u001b[1;33m,\u001b[0m \u001b[0mint\u001b[0m\u001b[1;33m(\u001b[0m\u001b[0mprogram_request\u001b[0m\u001b[1;33m[\u001b[0m\u001b[1;36m2\u001b[0m\u001b[1;33m]\u001b[0m\u001b[1;33m)\u001b[0m\u001b[1;33m)\u001b[0m \u001b[1;33m==\u001b[0m  \u001b[0msum\u001b[0m \u001b[1;33m(\u001b[0m\u001b[0mint\u001b[0m\u001b[1;33m(\u001b[0m\u001b[0mprogram_request\u001b[0m\u001b[1;33m[\u001b[0m\u001b[1;36m3\u001b[0m\u001b[1;33m]\u001b[0m\u001b[1;33m)\u001b[0m\u001b[1;33m,\u001b[0m \u001b[0mint\u001b[0m\u001b[1;33m(\u001b[0m\u001b[0mprogram_request\u001b[0m\u001b[1;33m[\u001b[0m\u001b[1;36m4\u001b[0m\u001b[1;33m]\u001b[0m\u001b[1;33m)\u001b[0m\u001b[1;33m,\u001b[0m  \u001b[0mint\u001b[0m\u001b[1;33m(\u001b[0m\u001b[0mprogram_request\u001b[0m\u001b[1;33m[\u001b[0m\u001b[1;36m5\u001b[0m\u001b[1;33m]\u001b[0m\u001b[1;33m)\u001b[0m\u001b[1;33m)\u001b[0m\u001b[1;33m:\u001b[0m\u001b[1;33m\u001b[0m\u001b[1;33m\u001b[0m\u001b[0m\n\u001b[0m\u001b[0;32m      9\u001b[0m     \u001b[0mprint\u001b[0m \u001b[1;33m(\u001b[0m\u001b[1;34m\"Счастливый билет\"\u001b[0m\u001b[1;33m)\u001b[0m\u001b[1;33m\u001b[0m\u001b[1;33m\u001b[0m\u001b[0m\n\u001b[0;32m     10\u001b[0m \u001b[1;32melse\u001b[0m\u001b[1;33m:\u001b[0m\u001b[1;33m\u001b[0m\u001b[1;33m\u001b[0m\u001b[0m\n",
      "\u001b[1;31mIndexError\u001b[0m: list index out of range"
     ]
    }
   ],
   "source": [
    "\"\"\"\n",
    "Мое неверное решение\n",
    "\"\"\"\n",
    "\n",
    "program_request = input(\"Введите номер билета: \").split(', ')\n",
    "\n",
    "\n",
    "if sum (int(program_request[0]), int(program_request[1]), int(program_request[2])) ==  sum (int(program_request[3]), int(program_request[4]),  int(program_request[5])):\n",
    "    print (\"Счастливый билет\")\n",
    "else:\n",
    "    print (\"Несчастливый билет\")"
   ]
  }
 ],
 "metadata": {
  "kernelspec": {
   "display_name": "Python 3",
   "language": "python",
   "name": "python3"
  },
  "language_info": {
   "codemirror_mode": {
    "name": "ipython",
    "version": 3
   },
   "file_extension": ".py",
   "mimetype": "text/x-python",
   "name": "python",
   "nbconvert_exporter": "python",
   "pygments_lexer": "ipython3",
   "version": "3.7.6"
  }
 },
 "nbformat": 4,
 "nbformat_minor": 4
}
