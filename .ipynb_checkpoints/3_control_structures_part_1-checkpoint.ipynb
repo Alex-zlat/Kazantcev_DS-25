{
 "cells": [
  {
   "cell_type": "code",
   "execution_count": null,
   "metadata": {},
   "outputs": [],
   "source": [
    "\n",
    "\"\"\"Дана переменная, в которой хранится слово из латинских букв. Напишите код, который выводит на экран:\n",
    "среднюю букву, если число букв в слове нечетное;\n",
    "две средних буквы, если число букв четное\"\"\"\n",
    "\n",
    "word = list(input ('Введите слово латинскими буквами: '))\n",
    "lenght = len(word)\n",
    "if lenght % 2 == 0:\n",
    "    middle = word[lenght//2 - 1 : lenght//2 + 1]\n",
    "else:\n",
    "    middle = word[lenght//2 : lenght//2+1]\n",
    "print(middle)"
   ]
  },
  {
   "cell_type": "code",
   "execution_count": null,
   "metadata": {},
   "outputs": [],
   "source": [
    "\"\"\"Напишите программу, которая последовательно запрашивает у пользователя числа \n",
    "(по одному за раз) и после первого нуля выводит сумму всех ранее введенных чисел\"\"\"\n",
    "\n",
    "counter = 0\n",
    "while True:\n",
    "    number = int(input())\n",
    "    if number !=0:\n",
    "        print(f'Ваш номер: {number}')\n",
    "        counter = counter + number\n",
    "    else:\n",
    "        print(f'Сумма: {counter}')\n",
    "        counter = 0"
   ]
  },
  {
   "cell_type": "code",
   "execution_count": null,
   "metadata": {},
   "outputs": [],
   "source": [
    "\"\"\"Мы делаем MVP dating-сервиса, и у нас есть список парней и девушек.\n",
    "Выдвигаем гипотезу: лучшие рекомендации мы получим, \n",
    "если просто отсортируем имена по алфавиту и познакомим людей с одинаковыми индексами после сортировки! \n",
    "Но мы не будем никого знакомить, если кто-то может остаться без пары\"\"\"\n",
    "\n",
    "boys = ['Peter', 'Alex', 'John', 'Arthur', 'Richard']\n",
    "girls = ['Kate', 'Liza', 'Kira', 'Emma', 'Trisha']\n",
    "\n",
    "if len(boys) == len(girls):\n",
    "    couples = list(zip (sorted(boys), sorted(girls)))\n",
    "    print(\"Идеальные пары:\\n \")\n",
    "    for i, j in couples:\n",
    "        print(f'{i} и {j}')\n",
    "else:\n",
    "    print(\"\\nВнимание! \\nКто-то может остаться без пары\")"
   ]
  },
  {
   "cell_type": "code",
   "execution_count": null,
   "metadata": {},
   "outputs": [],
   "source": [
    "\"\"\"У нас есть список, содержащий информацию о среднедневной температуре \n",
    "в Фаренгейтах за произвольный период по странам (структура данных в примере). \n",
    "Необходимо написать код, который рассчитает среднюю температуру за период в Цельсиях(!) \n",
    "для каждой страны\"\"\"\n",
    "\n",
    "countries_temperature = [\n",
    "['Thailand', [75.2, 77, 78.8, 73.4, 68, 75.2, 77]],\n",
    "['Germany', [57.2, 55.4, 59, 59, 53.6]],\n",
    "['Russia', [35.6, 37.4, 39.2, 41, 42.8, 39.2, 35.6]],\n",
    "['Poland', [50, 50, 53.6, 57.2, 55.4, 55.4]]\n",
    "]\n",
    "\n",
    "for name, temp in countries_temperature:\n",
    "    new_temp = list(temp)\n",
    "    avg_temp = sum(temp)/len(temp)\n",
    "    celsy = (avg_temp-32)/1.8\n",
    "    modify_temp = (round(celsy, 1))\n",
    "    print(f'{name} - {modify_temp} C')"
   ]
  }
 ],
 "metadata": {
  "kernelspec": {
   "display_name": "Python 3",
   "language": "python",
   "name": "python3"
  },
  "language_info": {
   "codemirror_mode": {
    "name": "ipython",
    "version": 3
   },
   "file_extension": ".py",
   "mimetype": "text/x-python",
   "name": "python",
   "nbconvert_exporter": "python",
   "pygments_lexer": "ipython3",
   "version": "3.7.6"
  }
 },
 "nbformat": 4,
 "nbformat_minor": 4
}
