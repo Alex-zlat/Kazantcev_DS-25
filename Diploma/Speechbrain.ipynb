{
 "cells": [
  {
   "cell_type": "code",
   "execution_count": null,
   "id": "8febe00b",
   "metadata": {},
   "outputs": [],
   "source": [
    "!pip install speechbrain"
   ]
  },
  {
   "cell_type": "code",
   "execution_count": null,
   "id": "9f06ea48",
   "metadata": {},
   "outputs": [],
   "source": [
    "import os\n",
    "import sys\n",
    "import random\n",
    "import torch\n",
    "from torch.utils.data import Dataset, DataLoader\n",
    "import torchaudio\n",
    "import speechbrain as sb\n",
    "from speechbrain.pretrained import SpeakerRecognition\n",
    "from speechbrain.utils.data_utils import download_file\n",
    "from hyperpyyaml import load_hyperpyyaml\n",
    "from speechbrain.utils.distributed import run_on_main\n",
    "import pandas as pd\n",
    "import numpy as np"
   ]
  },
  {
   "cell_type": "code",
   "execution_count": null,
   "id": "0781a995",
   "metadata": {},
   "outputs": [],
   "source": [
    "# подход распознавания на основе ECAPA: сравниваем свои голоса \n",
    "from speechbrain.pretrained import SpeakerRecognition\n",
    "import os\n",
    "from itertools import combinations\n",
    "import torch\n",
    "\n",
    "\n",
    "num_true=0\n",
    "num_total=0\n",
    "\n",
    "for root, dirs, files in os.walk('/Voices'):\n",
    "    if not files:\n",
    "        continue\n",
    "    res = list(combinations(files, 2)) # получаем списки кортежей: [(файл 1, файл 2), (файл 1, файл 3)...(файл 3, файл 4)]\n",
    "    \n",
    "\n",
    "    for tuples in res:         # идем по каждому кортежу в списке\n",
    "        verification = SpeakerRecognition.from_hparams(source=\"speechbrain/spkrec-ecapa-voxceleb\", savedir=\"pretrained_models/spkrec-ecapa-voxceleb\")\n",
    "        score, prediction = verification.verify_files(os.path.join(root, tuples[0]), os.path.join(root, tuples[1]))\n",
    "        num_total+=1\n",
    "        if prediction == torch.tensor([True]):\n",
    "            num_true+=1\n",
    "\n",
    "# считаем метрику accuracy:\n",
    "if num_total !=0:\n",
    "    accuracy = num_true/num_total\n",
    "    print('accuracy: ', accuracy)\n",
    "else:\n",
    "    print('На ноль делить нельзя')"
   ]
  },
  {
   "cell_type": "code",
   "execution_count": null,
   "id": "0c41ae54",
   "metadata": {},
   "outputs": [],
   "source": [
    "# подход распознавания на основе ECAPA: сравниваем несвои голоса \n",
    "from speechbrain.pretrained import SpeakerRecognition\n",
    "from itertools import product, chain\n",
    "from os import walk\n",
    "import torch\n",
    "\n",
    "nums_true=0\n",
    "nums_total=0\n",
    "\n",
    "all_files = dict()\n",
    "for root, dirs, files in walk('Voices'):\n",
    "    if not files:\n",
    "        continue\n",
    "    all_files[root] = files\n",
    "\n",
    "for root in all_files.copy():\n",
    "    files = all_files[root]\n",
    "    del all_files[root] \n",
    "    \n",
    "    # chain(*iterables) возвращает по одному элементу из первого итератора, потом из второго, пока итераторы не кончатся\n",
    "    # Пример: list(chain('ABCD', 'xy')) --> ['A', 'B', 'C', 'D', 'x', 'y']\n",
    "    # собираем по одному файлу для каждого списка (в итоге получаем идентичные 12 списков)\n",
    "    other_files = list(chain(*[all_files[key] for key in all_files]))\n",
    "\n",
    "    # itertools.product(*iterables, repeat=1) - аналог вложенных циклов\n",
    "    # Пример: product('ABCD', 'xy') --> Ax Ay Bx By Cx Cy Dx Dy\n",
    "    result = list(product(files, other_files))\n",
    "   \n",
    "    for pairs in result:\n",
    "        verification = SpeakerRecognition.from_hparams(source=\"speechbrain/spkrec-ecapa-voxceleb\", savedir=\"pretrained_models/spkrec-ecapa-voxceleb\")\n",
    "        score, prediction = verification.verify_files(os.path.join(root, pairs[0]), os.path.join(root, pairs[1]))\n",
    "        nums_total+=1\n",
    "        if prediction == torch.tensor([True]):\n",
    "            nums_true+=1\n",
    "\n",
    "# считаем метрику accuracy:\n",
    "if nums_total !=0:\n",
    "    accuracy = nums_true/nums_total\n",
    "    print(accuracy)\n",
    "else:\n",
    "    print('На ноль делить нельзя')"
   ]
  }
 ],
 "metadata": {
  "kernelspec": {
   "display_name": "Python 3",
   "language": "python",
   "name": "python3"
  },
  "language_info": {
   "codemirror_mode": {
    "name": "ipython",
    "version": 3
   },
   "file_extension": ".py",
   "mimetype": "text/x-python",
   "name": "python",
   "nbconvert_exporter": "python",
   "pygments_lexer": "ipython3",
   "version": "3.7.6"
  }
 },
 "nbformat": 4,
 "nbformat_minor": 5
}
